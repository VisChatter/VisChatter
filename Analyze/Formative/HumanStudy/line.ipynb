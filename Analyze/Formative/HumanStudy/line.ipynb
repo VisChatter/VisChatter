{
 "cells": [
  {
   "cell_type": "code",
   "execution_count": 425,
   "metadata": {},
   "outputs": [],
   "source": [
    "import vl_convert as vlc\n",
    "import json\n",
    "import copy\n",
    "import pandas as pd"
   ]
  },
  {
   "cell_type": "code",
   "execution_count": 426,
   "metadata": {},
   "outputs": [],
   "source": [
    "normalize={'date':'date','Date':'date','day':'date','Day':'date','month':'month','Month':'month','year':'year','Year':'year'}\n",
    "time_format={'date':'D','Date':'D','day':'D','Day':'D','month':'M','Month':'M','year':'Y','Year':'Y'}\n",
    "def get_opposite_color(hex_color):\n",
    "    hex_color = hex_color.lstrip('#')\n",
    "    r = int(hex_color[0:2], 16)\n",
    "    g = int(hex_color[2:4], 16)\n",
    "    b = int(hex_color[4:6], 16)\n",
    "    r = 255 - r\n",
    "    g = 255 - g\n",
    "    b = 255 - b\n",
    "    r_hex = format(r, '02x')\n",
    "    g_hex = format(g, '02x')\n",
    "    b_hex = format(b, '02x')\n",
    "    return f\"#{r_hex}{g_hex}{b_hex}\"\n",
    "def remove_lonely_numbers(lst):\n",
    "    result = []\n",
    "    lst=sorted(lst)\n",
    "    for i in range(len(lst)):\n",
    "        if (i == 0):\n",
    "            if (lst[i+1] - lst[i] == 1):  \n",
    "                result.append(lst[i])\n",
    "        if (i == len(lst) - 1):\n",
    "            if(lst[i] - lst[i-1] == 1):\n",
    "                result.append(lst[i])\n",
    "        if  (i!=0 and i!=len(lst)-1):\n",
    "            if (lst[i] - lst[i-1] == 1) | (lst[i+1] - lst[i] == 1):\n",
    "                result.append(lst[i])\n",
    "    return result\n",
    "\n",
    "def generate_conditions(numlist,mainField):\n",
    "    filtered_years = remove_lonely_numbers(numlist)\n",
    "    print(filtered_years)\n",
    "    ranges = []\n",
    "    start = None\n",
    "    for year in filtered_years:\n",
    "        if start is None:\n",
    "            start = year\n",
    "        elif year + 1 not in filtered_years:\n",
    "            end = year\n",
    "            if start != end:\n",
    "                ranges.append((start, end))\n",
    "            start = None\n",
    "    if start is not None:\n",
    "        end = filtered_years[-1]\n",
    "        if start != end:\n",
    "            ranges.append((start, end))\n",
    "    conditions = [f\"({normalize[mainField]}(datum['{mainField}']) >= {start-1} && {normalize[mainField]}(datum['{mainField}']) <= {end-1})\" for start, end in ranges ]\n",
    "    return conditions\n",
    "\n",
    "def LineMark(vega,mainField, subField, mainType, subType, value):\n",
    "    newcolor = get_opposite_color(vega[\"encoding\"][\"color\"][\"value\"])\n",
    "    if mainType == 'temporal':\n",
    "        vega[\"data\"][\"format\"]= {\"type\": \"csv\", \"parse\": {f'{mainField}': f\"date:'%{time_format[mainField]}'\"}}\n",
    "        vega[\"layer\"].append( {\n",
    "        \"mark\": {\"type\": \"point\", \"filled\": True},\n",
    "        \"transform\": [{\"filter\": f\"{normalize[mainField]}(datum['{mainField}']) == {value}\"}],\n",
    "        \"encoding\": {\n",
    "            \"color\": {\"value\": newcolor},\n",
    "            \"x\": {\"type\": mainType, \"field\": mainField},\n",
    "            \"y\": {\"type\": subType, \"field\": subField}\n",
    "        }})\n",
    "    else:\n",
    "        vega[\"layer\"].append( {\n",
    "            \"mark\": {\"type\": \"point\", \"filled\": True},\n",
    "            \"transform\": [{\"filter\": f\"datum['{mainField}'] == {value}\"}], # type: ignore\n",
    "            \"encoding\": {\n",
    "                \"color\": {\"value\": newcolor},\n",
    "                \"x\": {\"type\": mainType, \"field\": mainField},\n",
    "                \"y\": {\"type\": subType, \"field\": subField}\n",
    "            }})\n",
    "    return vega\n",
    "\n",
    "def LineText(vega,mainField, subField, mainType, subType, value, text,degree=0):\n",
    "    newcolor = get_opposite_color(vega[\"encoding\"][\"color\"][\"value\"])\n",
    "    size=14\n",
    "    if degree!=0:\n",
    "        size=32\n",
    "    if mainType == 'temporal':\n",
    "        vega[\"data\"][\"format\"]= {\"type\": \"csv\", \"parse\": {f'{mainField}': f\"date:'%{time_format[mainField]}'\"}}\n",
    "        vega[\"layer\"].append( {\n",
    "        \"mark\": {\"type\": \"text\", \"filled\": True, \"angle\": degree,\"fontSize\": size,'dy':-10},\n",
    "        \"transform\": [{\"filter\": f\"{normalize[mainField]}(datum['{mainField}']) == {value}\"}],\n",
    "        \"encoding\": {\n",
    "            \"text\" :{\"value\": text},\n",
    "            \"color\": {\"value\": newcolor},\n",
    "            \"x\": {\"type\": mainType, \"field\": mainField},\n",
    "            \"y\": {\"type\": subType, \"field\": subField}\n",
    "        }})\n",
    "    else:\n",
    "        vega[\"layer\"].append({\n",
    "            \"mark\": {\"type\": \"text\", \"filled\": True, \"angle\": degree,'dy':-10},\n",
    "            \"transform\": [{\"filter\": f\"datum['{mainField}'] == {value}\"}], # type: ignore\n",
    "            \"encoding\": {\n",
    "                \"text\" :{\"value\": text},\n",
    "                \"color\": {\"value\": newcolor},\n",
    "                \"x\": {\"type\": mainType, \"field\": mainField},\n",
    "                \"y\": {\"type\": subType, \"field\": subField}\n",
    "            }})\n",
    "    return vega\n",
    "\n",
    "def LineLine(vega,mainField,subField, mainType, subType, value,value1=0,subValue=0,subValue1=0):\n",
    "    newcolor = get_opposite_color(vega[\"encoding\"][\"color\"][\"value\"])\n",
    "    if subValue==0:\n",
    "        if vega[\"encoding\"][\"x\"][\"field\"] == subField:\n",
    "            vega[\"layer\"].append({ \"data\": { \"values\": [{}] }, \"mark\": { \"type\": \"rule\", \"color\": newcolor }, \"encoding\": { \"x\": { \"datum\": value } } })\n",
    "            if value1!=0:\n",
    "                vega[\"layer\"].append({ \"data\": { \"values\": [{}] }, \"mark\": { \"type\": \"rule\", \"color\": newcolor }, \"encoding\": { \"x\": { \"datum\": value1 } } })\n",
    "        else:\n",
    "            vega[\"layer\"].append({ \"data\": { \"values\": [{}] }, \"mark\": { \"type\": \"rule\", \"color\": newcolor }, \"encoding\": { \"y\": { \"datum\": value } } })\n",
    "            if value1!=0:\n",
    "                vega[\"layer\"].append({ \"data\": { \"values\": [{}] }, \"mark\": { \"type\": \"rule\", \"color\": newcolor }, \"encoding\": { \"y\": { \"datum\": value1 } } })\n",
    "    else:\n",
    "        vega[\"layer\"].append({\n",
    "      \"data\": {\n",
    "        \"values\": [\n",
    "          {\"PlotX1\": value, \"PlotY1\": value1, \"PlotX2\": subValue, \"PlotY2\": subValue1}\n",
    "        ]\n",
    "      },\n",
    "      \"mark\": {\n",
    "        \"type\": \"rule\",\n",
    "        \"stroke\": newcolor,\n",
    "        \"strokeWidth\": 2\n",
    "      },\n",
    "      \"encoding\": {\n",
    "        \"x\": {\"field\": \"PlotX1\", \"type\": mainType},\n",
    "        \"y\": {\"field\": \"PlotY1\", \"type\": subType},\n",
    "        \"x2\": {\"field\": \"PlotX2\", \"type\": mainType},\n",
    "        \"y2\": {\"field\": \"PlotY2\", \"type\": subType}\n",
    "      }\n",
    "    })\n",
    "    return vega\n",
    "def LineColor(vega,mainField, subField, mainType, subType, value,condition_type,value1=0):\n",
    "    newcolor = get_opposite_color(vega[\"encoding\"][\"color\"][\"value\"])\n",
    "    df = pd.read_csv(vega[\"data\"][\"url\"])\n",
    "    if condition_type =='left_bound' or condition_type =='right_bound' or condition_type=='left_and_right':\n",
    "        new_layer = copy.deepcopy(vega[\"layer\"][0])\n",
    "        if condition_type =='left_bound':\n",
    "            new_layer[\"transform\"] = [{\"filter\": f\"{normalize[mainField]}(datum['{mainField}']) >= {value-1}\"}]\n",
    "        elif condition_type =='right_bound':\n",
    "            new_layer[\"transform\"] = [{\"filter\": f\"{normalize[mainField]}(datum['{mainField}']) <= {value-1}\"}]\n",
    "        elif condition_type == 'left_and_right':\n",
    "            new_layer[\"transform\"] = [{\"filter\": f\"{normalize[mainField]}(datum['{mainField}']) >= {value-1} && {normalize[mainField]}(datum['{mainField}']) <= {value1-1}\"}]\n",
    "        new_layer[\"encoding\"][\"color\"][\"value\"] = newcolor\n",
    "        vega[\"layer\"].append(new_layer)\n",
    "    else:\n",
    "        if condition_type=='above':\n",
    "            indices = df[df.columns.tolist()[0]][df[df[df.columns.tolist()[1]] > value].index].tolist()\n",
    "        if condition_type=='below':\n",
    "            indices = df[df.columns.tolist()[0]][df[df[df.columns.tolist()[1]] < value].index].tolist()\n",
    "        if condition_type=='above_below':\n",
    "            indices = df[df.columns.tolist()[0]][df[(df[df.columns.tolist()[1]] > value) & (df[df.columns.tolist()[1]] < value1)].index].tolist()\t\n",
    "        conditions=generate_conditions(indices,mainField)\n",
    "        for condition in conditions:\n",
    "            new_layer = copy.deepcopy(vega[\"layer\"][0])\n",
    "            new_layer[\"transform\"] = [{\"filter\": condition}]\n",
    "           \t\n",
    "            vega[\"layer\"].append(new_layer)\n",
    "    return vega\n",
    "def LineOpacity(vega,mainField, subField, mainType, subType, value,condition_type,value1=0):\n",
    "    df = pd.read_csv(vega[\"data\"][\"url\"])\n",
    "    vega[\"layer\"][0][\"encoding\"][\"opacity\"]={\"value\": 0.4}\n",
    "    if condition_type =='left_bound' or condition_type =='right_bound' or condition_type=='left_and_right':\n",
    "            new_layer = copy.deepcopy(vega[\"layer\"][0])\n",
    "            if condition_type =='left_bound':\n",
    "                new_layer[\"transform\"] = [{\"filter\": f\"{normalize[mainField]}(datum['{mainField}']) >= {value-1}\"}]\n",
    "            elif condition_type =='right_bound':\n",
    "                new_layer[\"transform\"] = [{\"filter\": f\"{normalize[mainField]}(datum['{mainField}']) <= {value-1}\"}]\n",
    "            elif condition_type == 'left_and_right':\n",
    "                new_layer[\"transform\"] = [{\"filter\": f\"{normalize[mainField]}(datum['{mainField}']) >= {value-1} && {normalize[mainField]}(datum['{mainField}']) <= {value1-1}\"}]\n",
    "            new_layer[\"encoding\"][\"opacity\"]={\"value\": 1}\n",
    "            vega[\"layer\"].append(new_layer)\n",
    "    else:\n",
    "        if condition_type=='above':\n",
    "            indices = df[df.columns.tolist()[0]][df[df[df.columns.tolist()[1]] > value].index].tolist()\n",
    "        if condition_type=='below':\n",
    "            indices = df[df.columns.tolist()[0]][df[df[df.columns.tolist()[1]] < value].index].tolist()\n",
    "        if condition_type=='above_below':\n",
    "            indices = df[df.columns.tolist()[0]][df[(df[df.columns.tolist()[1]] > value) & (df[df.columns.tolist()[1]] < value1)].index].tolist()\t\n",
    "        conditions=generate_conditions(indices,mainField)\n",
    "        for condition in conditions:\n",
    "            new_layer = copy.deepcopy(vega[\"layer\"][0])\n",
    "            new_layer[\"transform\"] = [{\"filter\": condition}]\n",
    "            new_layer[\"encoding\"][\"opacity\"]={\"value\": 1}\n",
    "            vega[\"layer\"].append(new_layer)\n",
    "    return vega\n",
    "def LineArea(vega,mainField, subField, mainType, subType, value,value1=0,subValue=0,subValue1=0,shade=True):\n",
    "    newcolor = get_opposite_color(vega[\"encoding\"][\"color\"][\"value\"])\n",
    "    # df = pd.read_csv(vega[\"data\"][\"url\"])\n",
    "    if shade==True:\n",
    "        stroke=0\n",
    "        opacity=0.2\n",
    "    else:\n",
    "        stroke=2\n",
    "        opacity=0\n",
    "    vega[\"layer\"].append({\n",
    "      \"data\": {\n",
    "        \"values\": [\n",
    "          {\"PlotX1\": value, \"PlotY1\": value1, \"PlotX2\": subValue, \"PlotY2\": subValue1}\n",
    "        ]\n",
    "      },\n",
    "        \"mark\": {\"type\": \"rect\", \"color\": newcolor,\"stroke\":newcolor,\"fillOpacity\":opacity,\"strokeWidth\":stroke},\n",
    "      \"encoding\": {\n",
    "        \"x\": {\"field\": \"PlotX1\", \"type\": mainType},\n",
    "        \"y\": {\"field\": \"PlotY1\", \"type\": subType},\n",
    "        \"x2\": {\"field\": \"PlotX2\", \"type\": mainType},\n",
    "        \"y2\": {\"field\": \"PlotY2\", \"type\": subType}\n",
    "    }})\n",
    "    return vega"
   ]
  },
  {
   "cell_type": "code",
   "execution_count": 427,
   "metadata": {},
   "outputs": [],
   "source": [
    "vl_spec=r\"\"\"{\n",
    "  \"config\": {\n",
    "    \"area\": {\"fill\": \"#30a2da\"},\n",
    "    \"axis\": {\n",
    "      \"domainColor\": \"#cbcbcb\",\n",
    "      \"grid\": true,\n",
    "      \"gridColor\": \"#cbcbcb\",\n",
    "      \"gridWidth\": 1,\n",
    "      \"labelColor\": \"#999\",\n",
    "      \"labelFontSize\": 10,\n",
    "      \"titleColor\": \"#333\",\n",
    "      \"tickColor\": \"#cbcbcb\",\n",
    "      \"tickSize\": 10,\n",
    "      \"titleFontSize\": 14,\n",
    "      \"titlePadding\": 10,\n",
    "      \"labelPadding\": 4\n",
    "    },\n",
    "    \"axisBand\": {\"grid\": false},\n",
    "    \"background\": \"#f0f0f0\",\n",
    "    \"view\": {\"fill\": \"#f0f0f0\"},\n",
    "    \"legend\": {\n",
    "      \"labelColor\": \"#333\",\n",
    "      \"labelFontSize\": 11,\n",
    "      \"padding\": 1,\n",
    "      \"symbolSize\": 30,\n",
    "      \"symbolType\": \"square\",\n",
    "      \"titleColor\": \"#333\",\n",
    "      \"titleFontSize\": 14,\n",
    "      \"titlePadding\": 10\n",
    "    },\n",
    "    \"line\": {\"stroke\": \"#30a2da\", \"strokeWidth\": 2},\n",
    "    \"rect\": {\"fill\": \"#30a2da\"},\n",
    "    \"bar\": {\"binSpacing\": 2, \"fill\": \"#30a2da\", \"stroke\": null},\n",
    "    \"range\": {\n",
    "      \"category\": [\n",
    "        \"#30a2da\",\n",
    "        \"#fc4f30\",\n",
    "        \"#e5ae38\",\n",
    "        \"#6d904f\",\n",
    "        \"#8b8b8b\",\n",
    "        \"#b96db8\",\n",
    "        \"#ff9e27\",\n",
    "        \"#56cc60\",\n",
    "        \"#52d2ca\",\n",
    "        \"#52689e\",\n",
    "        \"#545454\",\n",
    "        \"#9fe4f8\"\n",
    "      ],\n",
    "      \"diverging\": [\n",
    "        \"#cc0020\",\n",
    "        \"#e77866\",\n",
    "        \"#f6e7e1\",\n",
    "        \"#d6e8ed\",\n",
    "        \"#91bfd9\",\n",
    "        \"#1d78b5\"\n",
    "      ],\n",
    "      \"heatmap\": [\"#d6e8ed\", \"#cee0e5\", \"#91bfd9\", \"#549cc6\", \"#1d78b5\"]\n",
    "    },\n",
    "    \"point\": {\"filled\": true, \"shape\": \"circle\"},\n",
    "    \"title\": {\n",
    "      \"anchor\": \"start\",\n",
    "      \"fontSize\": 24,\n",
    "      \"fontWeight\": 600,\n",
    "      \"offset\": 20\n",
    "    }\n",
    "  },\n",
    "  \"data\": {\n",
    "    \"url\": \"https://raw.githubusercontent.com/vis-nlp/Chart-to-text/main/statista_dataset/dataset/data/10176.csv\"\n",
    "  },\n",
    "  \"mark\": \"line\",\n",
    "  \"encoding\": {\n",
    "    \"color\": {\"value\": \"#ff9e27\"},\n",
    "    \"x\": {\"type\": \"temporal\", \"axis\": {}, \"bin\": false, \"field\": \"Year\"},\n",
    "    \"y\": {\n",
    "      \"type\": \"quantitative\",\n",
    "      \"axis\": {\n",
    "        \"labelAngle\": 30,\n",
    "        \"title\": \"Operating revenue in million U.S. dollars\"\n",
    "      },\n",
    "      \"field\": \"Operating revenue in million U\\\\.S\\\\. dollars\"\n",
    "    }\n",
    "  },\n",
    "  \"title\": [\n",
    "    \"Waste Management Inc. 's operating revenue\",\n",
    "    \"from FY 2007 to FY 2019 (in million U.S.\",\n",
    "    \"dollars)\"\n",
    "  ],\n",
    "  \"$schema\": \"https://vega.github.io/schema/vega-lite/v4.8.1.json\"\n",
    "}\"\"\""
   ]
  },
  {
   "cell_type": "code",
   "execution_count": 428,
   "metadata": {},
   "outputs": [],
   "source": [
    "png_data = vlc.vegalite_to_png(vl_spec=vl_spec, scale=2)\n",
    "with open(\"Sample-Line-RetrieveValue.png\", \"wb\") as f:\n",
    "    f.write(png_data)"
   ]
  },
  {
   "cell_type": "code",
   "execution_count": 429,
   "metadata": {},
   "outputs": [
    {
     "name": "stdout",
     "output_type": "stream",
     "text": [
      "{'config': {'area': {'fill': '#30a2da'}, 'axis': {'domainColor': '#cbcbcb', 'grid': True, 'gridColor': '#cbcbcb', 'gridWidth': 1, 'labelColor': '#999', 'labelFontSize': 10, 'titleColor': '#333', 'tickColor': '#cbcbcb', 'tickSize': 10, 'titleFontSize': 14, 'titlePadding': 10, 'labelPadding': 4}, 'axisBand': {'grid': False}, 'background': '#f0f0f0', 'view': {'fill': '#f0f0f0'}, 'legend': {'labelColor': '#333', 'labelFontSize': 11, 'padding': 1, 'symbolSize': 30, 'symbolType': 'square', 'titleColor': '#333', 'titleFontSize': 14, 'titlePadding': 10}, 'line': {'stroke': '#30a2da', 'strokeWidth': 2}, 'rect': {'fill': '#30a2da'}, 'bar': {'binSpacing': 2, 'fill': '#30a2da', 'stroke': None}, 'range': {'category': ['#30a2da', '#fc4f30', '#e5ae38', '#6d904f', '#8b8b8b', '#b96db8', '#ff9e27', '#56cc60', '#52d2ca', '#52689e', '#545454', '#9fe4f8'], 'diverging': ['#cc0020', '#e77866', '#f6e7e1', '#d6e8ed', '#91bfd9', '#1d78b5'], 'heatmap': ['#d6e8ed', '#cee0e5', '#91bfd9', '#549cc6', '#1d78b5']}, 'point': {'filled': True, 'shape': 'circle'}, 'title': {'anchor': 'start', 'fontSize': 24, 'fontWeight': 600, 'offset': 20}}, 'data': {'url': 'https://raw.githubusercontent.com/vis-nlp/Chart-to-text/main/statista_dataset/dataset/data/10176.csv', 'format': {'type': 'csv', 'parse': {'Year': \"date:'%Y'\"}}}, 'title': [\"Waste Management Inc. 's operating revenue\", 'from FY 2007 to FY 2019 (in million U.S.', 'dollars)'], '$schema': 'https://vega.github.io/schema/vega-lite/v4.8.1.json', 'layer': [{'mark': 'line', 'encoding': {'color': {'value': '#ff9e27'}, 'x': {'type': 'temporal', 'axis': {}, 'bin': False, 'field': 'Year'}, 'y': {'type': 'quantitative', 'axis': {'labelAngle': 30, 'title': 'Operating revenue in million U.S. dollars'}, 'field': 'Operating revenue in million U\\\\.S\\\\. dollars'}}}, {'mark': {'type': 'point', 'filled': True}, 'transform': [{'filter': \"year(datum['Year']) == 2007\"}], 'encoding': {'color': {'value': '#0061d8'}, 'x': {'type': 'temporal', 'field': 'Year'}, 'y': {'type': 'quantitative', 'field': 'Operating revenue in million U\\\\.S\\\\. dollars'}}}]}\n"
     ]
    }
   ],
   "source": [
    "vl_json=json.loads(vl_spec)\n",
    "vl_json[\"layer\"] = [{ 'mark': vl_json['mark'], 'encoding': vl_json['encoding'] }]\n",
    "vl_json=LineMark(vl_json,\"Year\", \"Operating revenue in million U\\\\.S\\\\. dollars\", \"temporal\", \"quantitative\", 2007)\n",
    "del vl_json['mark'], vl_json['encoding']\n",
    "print(vl_json)\n",
    "png_data = vlc.vegalite_to_png(vl_spec=vl_json, scale=2)\n",
    "with open(\"RetrieveValue-Line-Mark.png\", \"wb\") as f:\n",
    "    f.write(png_data)"
   ]
  },
  {
   "cell_type": "code",
   "execution_count": 430,
   "metadata": {},
   "outputs": [
    {
     "name": "stdout",
     "output_type": "stream",
     "text": [
      "{'config': {'area': {'fill': '#30a2da'}, 'axis': {'domainColor': '#cbcbcb', 'grid': True, 'gridColor': '#cbcbcb', 'gridWidth': 1, 'labelColor': '#999', 'labelFontSize': 10, 'titleColor': '#333', 'tickColor': '#cbcbcb', 'tickSize': 10, 'titleFontSize': 14, 'titlePadding': 10, 'labelPadding': 4}, 'axisBand': {'grid': False}, 'background': '#f0f0f0', 'view': {'fill': '#f0f0f0'}, 'legend': {'labelColor': '#333', 'labelFontSize': 11, 'padding': 1, 'symbolSize': 30, 'symbolType': 'square', 'titleColor': '#333', 'titleFontSize': 14, 'titlePadding': 10}, 'line': {'stroke': '#30a2da', 'strokeWidth': 2}, 'rect': {'fill': '#30a2da'}, 'bar': {'binSpacing': 2, 'fill': '#30a2da', 'stroke': None}, 'range': {'category': ['#30a2da', '#fc4f30', '#e5ae38', '#6d904f', '#8b8b8b', '#b96db8', '#ff9e27', '#56cc60', '#52d2ca', '#52689e', '#545454', '#9fe4f8'], 'diverging': ['#cc0020', '#e77866', '#f6e7e1', '#d6e8ed', '#91bfd9', '#1d78b5'], 'heatmap': ['#d6e8ed', '#cee0e5', '#91bfd9', '#549cc6', '#1d78b5']}, 'point': {'filled': True, 'shape': 'circle'}, 'title': {'anchor': 'start', 'fontSize': 24, 'fontWeight': 600, 'offset': 20}}, 'data': {'url': 'https://raw.githubusercontent.com/vis-nlp/Chart-to-text/main/statista_dataset/dataset/data/10176.csv', 'format': {'type': 'csv', 'parse': {'Year': \"date:'%Y'\"}}}, 'title': [\"Waste Management Inc. 's operating revenue\", 'from FY 2007 to FY 2019 (in million U.S.', 'dollars)'], '$schema': 'https://vega.github.io/schema/vega-lite/v4.8.1.json', 'layer': [{'mark': 'line', 'encoding': {'color': {'value': '#ff9e27'}, 'x': {'type': 'temporal', 'axis': {}, 'bin': False, 'field': 'Year'}, 'y': {'type': 'quantitative', 'axis': {'labelAngle': 30, 'title': 'Operating revenue in million U.S. dollars'}, 'field': 'Operating revenue in million U\\\\.S\\\\. dollars'}}}, {'mark': {'type': 'text', 'filled': True, 'angle': 0, 'fontSize': 14, 'dy': -10}, 'transform': [{'filter': \"year(datum['Year']) == 2007\"}], 'encoding': {'text': {'value': '<15million'}, 'color': {'value': '#0061d8'}, 'x': {'type': 'temporal', 'field': 'Year'}, 'y': {'type': 'quantitative', 'field': 'Operating revenue in million U\\\\.S\\\\. dollars'}}}]}\n"
     ]
    }
   ],
   "source": [
    "vl_json=json.loads(vl_spec)\n",
    "vl_json[\"layer\"] = [{ 'mark': vl_json['mark'], 'encoding': vl_json['encoding'] }]\n",
    "vl_json=LineText(vl_json,\"Year\", \"Operating revenue in million U\\\\.S\\\\. dollars\", \"temporal\", \"quantitative\", 2007,\"<15million\")\n",
    "del vl_json['mark'], vl_json['encoding']\n",
    "print(vl_json)\n",
    "png_data = vlc.vegalite_to_png(vl_spec=vl_json, scale=2)\n",
    "with open(\"RetrieveValue-Line-Text.png\", \"wb\") as f:\n",
    "    f.write(png_data)"
   ]
  },
  {
   "cell_type": "code",
   "execution_count": 431,
   "metadata": {},
   "outputs": [
    {
     "name": "stdout",
     "output_type": "stream",
     "text": [
      "{'config': {'area': {'fill': '#30a2da'}, 'axis': {'domainColor': '#cbcbcb', 'grid': True, 'gridColor': '#cbcbcb', 'gridWidth': 1, 'labelColor': '#999', 'labelFontSize': 10, 'titleColor': '#333', 'tickColor': '#cbcbcb', 'tickSize': 10, 'titleFontSize': 14, 'titlePadding': 10, 'labelPadding': 4}, 'axisBand': {'grid': False}, 'background': '#f0f0f0', 'view': {'fill': '#f0f0f0'}, 'legend': {'labelColor': '#333', 'labelFontSize': 11, 'padding': 1, 'symbolSize': 30, 'symbolType': 'square', 'titleColor': '#333', 'titleFontSize': 14, 'titlePadding': 10}, 'line': {'stroke': '#30a2da', 'strokeWidth': 2}, 'rect': {'fill': '#30a2da'}, 'bar': {'binSpacing': 2, 'fill': '#30a2da', 'stroke': None}, 'range': {'category': ['#30a2da', '#fc4f30', '#e5ae38', '#6d904f', '#8b8b8b', '#b96db8', '#ff9e27', '#56cc60', '#52d2ca', '#52689e', '#545454', '#9fe4f8'], 'diverging': ['#cc0020', '#e77866', '#f6e7e1', '#d6e8ed', '#91bfd9', '#1d78b5'], 'heatmap': ['#d6e8ed', '#cee0e5', '#91bfd9', '#549cc6', '#1d78b5']}, 'point': {'filled': True, 'shape': 'circle'}, 'title': {'anchor': 'start', 'fontSize': 24, 'fontWeight': 600, 'offset': 20}}, 'data': {'url': 'https://raw.githubusercontent.com/vis-nlp/Chart-to-text/main/statista_dataset/dataset/data/10176.csv'}, 'title': [\"Waste Management Inc. 's operating revenue\", 'from FY 2007 to FY 2019 (in million U.S.', 'dollars)'], '$schema': 'https://vega.github.io/schema/vega-lite/v4.8.1.json', 'layer': [{'mark': 'line', 'encoding': {'color': {'value': '#ff9e27'}, 'x': {'type': 'temporal', 'axis': {}, 'bin': False, 'field': 'Year'}, 'y': {'type': 'quantitative', 'axis': {'labelAngle': 30, 'title': 'Operating revenue in million U.S. dollars'}, 'field': 'Operating revenue in million U\\\\.S\\\\. dollars'}}}, {'data': {'values': [{}]}, 'mark': {'type': 'rule', 'color': '#0061d8'}, 'encoding': {'y': {'datum': 15000}}}]}\n"
     ]
    }
   ],
   "source": [
    "vl_json=json.loads(vl_spec)\n",
    "vl_json[\"layer\"] = [{ 'mark': vl_json['mark'], 'encoding': vl_json['encoding'] }]\n",
    "vl_json=LineLine(vl_json,\"Year\", \"Operating revenue in million U\\\\.S\\\\. dollars\", \"temporal\", \"quantitative\", 15000)\n",
    "del vl_json['mark'], vl_json['encoding']\n",
    "print(vl_json)\n",
    "png_data = vlc.vegalite_to_png(vl_spec=vl_json, scale=2)\n",
    "with open(\"RetrieveValue-Line-Line.png\", \"wb\") as f:\n",
    "    f.write(png_data)"
   ]
  },
  {
   "cell_type": "code",
   "execution_count": 432,
   "metadata": {},
   "outputs": [
    {
     "name": "stdout",
     "output_type": "stream",
     "text": [
      "{'config': {'area': {'fill': '#30a2da'}, 'axis': {'domainColor': '#cbcbcb', 'grid': True, 'gridColor': '#cbcbcb', 'gridWidth': 1, 'labelColor': '#999', 'labelFontSize': 10, 'titleColor': '#333', 'tickColor': '#cbcbcb', 'tickSize': 10, 'titleFontSize': 14, 'titlePadding': 10, 'labelPadding': 4}, 'axisBand': {'grid': False}, 'background': '#f0f0f0', 'view': {'fill': '#f0f0f0'}, 'legend': {'labelColor': '#333', 'labelFontSize': 11, 'padding': 1, 'symbolSize': 30, 'symbolType': 'square', 'titleColor': '#333', 'titleFontSize': 14, 'titlePadding': 10}, 'line': {'stroke': '#30a2da', 'strokeWidth': 2}, 'rect': {'fill': '#30a2da'}, 'bar': {'binSpacing': 2, 'fill': '#30a2da', 'stroke': None}, 'range': {'category': ['#30a2da', '#fc4f30', '#e5ae38', '#6d904f', '#8b8b8b', '#b96db8', '#ff9e27', '#56cc60', '#52d2ca', '#52689e', '#545454', '#9fe4f8'], 'diverging': ['#cc0020', '#e77866', '#f6e7e1', '#d6e8ed', '#91bfd9', '#1d78b5'], 'heatmap': ['#d6e8ed', '#cee0e5', '#91bfd9', '#549cc6', '#1d78b5']}, 'point': {'filled': True, 'shape': 'circle'}, 'title': {'anchor': 'start', 'fontSize': 24, 'fontWeight': 600, 'offset': 20}}, 'data': {'url': 'https://raw.githubusercontent.com/vis-nlp/Chart-to-text/main/statista_dataset/dataset/data/10176.csv'}, 'title': [\"Waste Management Inc. 's operating revenue\", 'from FY 2007 to FY 2019 (in million U.S.', 'dollars)'], '$schema': 'https://vega.github.io/schema/vega-lite/v4.8.1.json', 'layer': [{'mark': 'line', 'encoding': {'color': {'value': '#ff9e27'}, 'x': {'type': 'temporal', 'axis': {}, 'bin': False, 'field': 'Year'}, 'y': {'type': 'quantitative', 'axis': {'labelAngle': 30, 'title': 'Operating revenue in million U.S. dollars'}, 'field': 'Operating revenue in million U\\\\.S\\\\. dollars'}}}, {'mark': 'line', 'encoding': {'color': {'value': '#0061d8'}, 'x': {'type': 'temporal', 'axis': {}, 'bin': False, 'field': 'Year'}, 'y': {'type': 'quantitative', 'axis': {'labelAngle': 30, 'title': 'Operating revenue in million U.S. dollars'}, 'field': 'Operating revenue in million U\\\\.S\\\\. dollars'}}, 'transform': [{'filter': \"year(datum['Year']) >= 2006 && year(datum['Year']) <= 2007\"}]}]}\n"
     ]
    }
   ],
   "source": [
    "vl_json=json.loads(vl_spec)\n",
    "vl_json[\"layer\"] = [{ 'mark': vl_json['mark'], 'encoding': vl_json['encoding'] }]\n",
    "vl_json=LineColor(vl_json,\"Year\", \"Operating revenue in million U\\\\.S\\\\. dollars\", \"temporal\", \"quantitative\", 2007,\"left_and_right\",2008)\n",
    "del vl_json['mark'], vl_json['encoding']\n",
    "print(vl_json)\n",
    "png_data = vlc.vegalite_to_png(vl_spec=vl_json, scale=2)\n",
    "with open(\"RetrieveValue-Line-Color.png\", \"wb\") as f:\n",
    "    f.write(png_data)"
   ]
  },
  {
   "cell_type": "code",
   "execution_count": 433,
   "metadata": {},
   "outputs": [
    {
     "name": "stdout",
     "output_type": "stream",
     "text": [
      "{'config': {'area': {'fill': '#30a2da'}, 'axis': {'domainColor': '#cbcbcb', 'grid': True, 'gridColor': '#cbcbcb', 'gridWidth': 1, 'labelColor': '#999', 'labelFontSize': 10, 'titleColor': '#333', 'tickColor': '#cbcbcb', 'tickSize': 10, 'titleFontSize': 14, 'titlePadding': 10, 'labelPadding': 4}, 'axisBand': {'grid': False}, 'background': '#f0f0f0', 'view': {'fill': '#f0f0f0'}, 'legend': {'labelColor': '#333', 'labelFontSize': 11, 'padding': 1, 'symbolSize': 30, 'symbolType': 'square', 'titleColor': '#333', 'titleFontSize': 14, 'titlePadding': 10}, 'line': {'stroke': '#30a2da', 'strokeWidth': 2}, 'rect': {'fill': '#30a2da'}, 'bar': {'binSpacing': 2, 'fill': '#30a2da', 'stroke': None}, 'range': {'category': ['#30a2da', '#fc4f30', '#e5ae38', '#6d904f', '#8b8b8b', '#b96db8', '#ff9e27', '#56cc60', '#52d2ca', '#52689e', '#545454', '#9fe4f8'], 'diverging': ['#cc0020', '#e77866', '#f6e7e1', '#d6e8ed', '#91bfd9', '#1d78b5'], 'heatmap': ['#d6e8ed', '#cee0e5', '#91bfd9', '#549cc6', '#1d78b5']}, 'point': {'filled': True, 'shape': 'circle'}, 'title': {'anchor': 'start', 'fontSize': 24, 'fontWeight': 600, 'offset': 20}}, 'data': {'url': 'https://raw.githubusercontent.com/vis-nlp/Chart-to-text/main/statista_dataset/dataset/data/10176.csv'}, 'title': [\"Waste Management Inc. 's operating revenue\", 'from FY 2007 to FY 2019 (in million U.S.', 'dollars)'], '$schema': 'https://vega.github.io/schema/vega-lite/v4.8.1.json', 'layer': [{'mark': 'line', 'encoding': {'color': {'value': '#ff9e27'}, 'x': {'type': 'temporal', 'axis': {}, 'bin': False, 'field': 'Year'}, 'y': {'type': 'quantitative', 'axis': {'labelAngle': 30, 'title': 'Operating revenue in million U.S. dollars'}, 'field': 'Operating revenue in million U\\\\.S\\\\. dollars'}, 'opacity': {'value': 0.4}}}, {'mark': 'line', 'encoding': {'color': {'value': '#ff9e27'}, 'x': {'type': 'temporal', 'axis': {}, 'bin': False, 'field': 'Year'}, 'y': {'type': 'quantitative', 'axis': {'labelAngle': 30, 'title': 'Operating revenue in million U.S. dollars'}, 'field': 'Operating revenue in million U\\\\.S\\\\. dollars'}, 'opacity': {'value': 1}}, 'transform': [{'filter': \"year(datum['Year']) >= 2006 && year(datum['Year']) <= 2007\"}]}]}\n"
     ]
    }
   ],
   "source": [
    "vl_json=json.loads(vl_spec)\n",
    "vl_json[\"layer\"] = [{ 'mark': vl_json['mark'], 'encoding': vl_json['encoding'] }]\n",
    "vl_json=LineOpacity(vl_json,\"Year\", \"Operating revenue in million U\\\\.S\\\\. dollars\", \"temporal\", \"quantitative\", 2007,\"left_and_right\",2008)\n",
    "del vl_json['mark'], vl_json['encoding']\n",
    "print(vl_json)\n",
    "png_data = vlc.vegalite_to_png(vl_spec=vl_json, scale=2)\n",
    "with open(\"RetrieveValue-Line-Opacity.png\", \"wb\") as f:\n",
    "    f.write(png_data)"
   ]
  },
  {
   "cell_type": "code",
   "execution_count": 434,
   "metadata": {},
   "outputs": [],
   "source": [
    "vl_spec=r'''\n",
    "{\n",
    "  \"config\": {\n",
    "    \"background\": \"#fff\",\n",
    "    \"area\": {\"fill\": \"#4572a7\"},\n",
    "    \"line\": {\"stroke\": \"#4572a7\", \"strokeWidth\": 2},\n",
    "    \"rect\": {\"fill\": \"#4572a7\"},\n",
    "    \"bar\": {\"fill\": \"#4572a7\"},\n",
    "    \"point\": {\"color\": \"#4572a7\", \"strokeWidth\": 1.5, \"size\": 50},\n",
    "    \"axis\": {\n",
    "      \"bandPosition\": 0.5,\n",
    "      \"gridColor\": \"#000000\",\n",
    "      \"gridOpacity\": 1,\n",
    "      \"gridWidth\": 0.5,\n",
    "      \"labelPadding\": 10,\n",
    "      \"tickSize\": 5,\n",
    "      \"tickWidth\": 0.5\n",
    "    },\n",
    "    \"axisBand\": {},\n",
    "    \"legend\": {\n",
    "      \"labelBaseline\": \"middle\",\n",
    "      \"labelFontSize\": 11,\n",
    "      \"symbolSize\": 50,\n",
    "      \"symbolType\": \"square\"\n",
    "    },\n",
    "    \"range\": {\n",
    "      \"category\": [\n",
    "        \"#4572a7\",\n",
    "        \"#aa4643\",\n",
    "        \"#8aa453\",\n",
    "        \"#71598e\",\n",
    "        \"#4598ae\",\n",
    "        \"#d98445\",\n",
    "        \"#94aace\",\n",
    "        \"#d09393\",\n",
    "        \"#b9cc98\",\n",
    "        \"#a99cbc\"\n",
    "      ]\n",
    "    }\n",
    "  },\n",
    "  \"data\": {\n",
    "    \"url\": \"https://raw.githubusercontent.com/vis-nlp/Chart-to-text/main/statista_dataset/dataset/data/10061.csv\"\n",
    "  },\n",
    "  \"mark\": \"line\",\n",
    "  \"encoding\": {\n",
    "    \"color\": {\"value\": \"#d98445\"},\n",
    "    \"x\": {\"type\": \"temporal\", \"axis\": {}, \"field\": \"Year\"},\n",
    "    \"y\": {\n",
    "      \"type\": \"quantitative\",\n",
    "      \"axis\": {\"labelAngle\": 30, \"title\": \"Number of hospitals\"},\n",
    "      \"field\": \"Number of hospitals\"\n",
    "    }\n",
    "  },\n",
    "  \"title\": [\n",
    "    \"Number of hospitals in the United States\",\n",
    "    \"from 1999 to 2017 (in thousands)\"\n",
    "  ],\n",
    "  \"$schema\": \"https://vega.github.io/schema/vega-lite/v4.8.1.json\"\n",
    "}\n",
    "'''"
   ]
  },
  {
   "cell_type": "code",
   "execution_count": 435,
   "metadata": {},
   "outputs": [],
   "source": [
    "png_data = vlc.vegalite_to_png(vl_spec=vl_spec, scale=2)\n",
    "with open(\"Sample-Line-Filter.png\", \"wb\") as f:\n",
    "    f.write(png_data)"
   ]
  },
  {
   "cell_type": "code",
   "execution_count": 436,
   "metadata": {},
   "outputs": [
    {
     "name": "stdout",
     "output_type": "stream",
     "text": [
      "[2004, 2005, 2006, 2007, 2008, 2009, 2010, 2011, 2012, 2013, 2014, 2015, 2016, 2017]\n",
      "{'config': {'background': '#fff', 'area': {'fill': '#4572a7'}, 'line': {'stroke': '#4572a7', 'strokeWidth': 2}, 'rect': {'fill': '#4572a7'}, 'bar': {'fill': '#4572a7'}, 'point': {'color': '#4572a7', 'strokeWidth': 1.5, 'size': 50}, 'axis': {'bandPosition': 0.5, 'gridColor': '#000000', 'gridOpacity': 1, 'gridWidth': 0.5, 'labelPadding': 10, 'tickSize': 5, 'tickWidth': 0.5}, 'axisBand': {}, 'legend': {'labelBaseline': 'middle', 'labelFontSize': 11, 'symbolSize': 50, 'symbolType': 'square'}, 'range': {'category': ['#4572a7', '#aa4643', '#8aa453', '#71598e', '#4598ae', '#d98445', '#94aace', '#d09393', '#b9cc98', '#a99cbc']}}, 'data': {'url': 'https://raw.githubusercontent.com/vis-nlp/Chart-to-text/main/statista_dataset/dataset/data/10061.csv'}, 'title': ['Number of hospitals in the United States', 'from 1999 to 2017 (in thousands)'], '$schema': 'https://vega.github.io/schema/vega-lite/v4.8.1.json', 'layer': [{'mark': 'line', 'encoding': {'color': {'value': '#d98445'}, 'x': {'type': 'temporal', 'axis': {}, 'field': 'Year'}, 'y': {'type': 'quantitative', 'axis': {'labelAngle': 30, 'title': 'Number of hospitals'}, 'field': 'Number of hospitals'}}}, {'mark': 'line', 'encoding': {'color': {'value': '#267bba'}, 'x': {'type': 'temporal', 'axis': {}, 'field': 'Year'}, 'y': {'type': 'quantitative', 'axis': {'labelAngle': 30, 'title': 'Number of hospitals'}, 'field': 'Number of hospitals'}}, 'transform': [{'filter': \"(year(datum['Year']) >= 2003 && year(datum['Year']) <= 2016)\"}]}]}\n"
     ]
    }
   ],
   "source": [
    "vl_json=json.loads(vl_spec)\n",
    "vl_json[\"layer\"] = [{ 'mark': vl_json['mark'], 'encoding': vl_json['encoding'] }]\n",
    "vl_json=LineColor(vl_json,\"Year\", \"Number of hospitals\", \"temporal\", \"quantitative\", 3500,'below')\n",
    "del vl_json['mark'], vl_json['encoding']\n",
    "print(vl_json)\n",
    "png_data = vlc.vegalite_to_png(vl_spec=vl_json, scale=2)\n",
    "with open(\"Filter-Line-Color.png\", \"wb\") as f:\n",
    "    f.write(png_data)"
   ]
  },
  {
   "cell_type": "code",
   "execution_count": 437,
   "metadata": {},
   "outputs": [
    {
     "name": "stdout",
     "output_type": "stream",
     "text": [
      "[2004, 2005, 2006, 2007, 2008, 2009, 2010, 2011, 2012, 2013, 2014, 2015, 2016, 2017]\n"
     ]
    }
   ],
   "source": [
    "vl_json=json.loads(vl_spec)\n",
    "vl_json[\"layer\"] = [{ 'mark': vl_json['mark'], 'encoding': vl_json['encoding'] }]\n",
    "vl_json=LineOpacity(vl_json,\"Year\", \"Number of hospitals\", \"temporal\", \"quantitative\", 3500,'below')\n",
    "# print(vl_json)\n",
    "png_data = vlc.vegalite_to_png(vl_spec=vl_json, scale=2)\n",
    "with open(\"Filter-Line-Opacity.png\", \"wb\") as f:\n",
    "    f.write(png_data)"
   ]
  },
  {
   "cell_type": "code",
   "execution_count": 438,
   "metadata": {},
   "outputs": [
    {
     "name": "stdout",
     "output_type": "stream",
     "text": [
      "{'config': {'background': '#fff', 'area': {'fill': '#4572a7'}, 'line': {'stroke': '#4572a7', 'strokeWidth': 2}, 'rect': {'fill': '#4572a7'}, 'bar': {'fill': '#4572a7'}, 'point': {'color': '#4572a7', 'strokeWidth': 1.5, 'size': 50}, 'axis': {'bandPosition': 0.5, 'gridColor': '#000000', 'gridOpacity': 1, 'gridWidth': 0.5, 'labelPadding': 10, 'tickSize': 5, 'tickWidth': 0.5}, 'axisBand': {}, 'legend': {'labelBaseline': 'middle', 'labelFontSize': 11, 'symbolSize': 50, 'symbolType': 'square'}, 'range': {'category': ['#4572a7', '#aa4643', '#8aa453', '#71598e', '#4598ae', '#d98445', '#94aace', '#d09393', '#b9cc98', '#a99cbc']}}, 'data': {'url': 'https://raw.githubusercontent.com/vis-nlp/Chart-to-text/main/statista_dataset/dataset/data/10061.csv'}, 'title': ['Number of hospitals in the United States', 'from 1999 to 2017 (in thousands)'], '$schema': 'https://vega.github.io/schema/vega-lite/v4.8.1.json', 'layer': [{'mark': 'line', 'encoding': {'color': {'value': '#d98445'}, 'x': {'type': 'temporal', 'axis': {}, 'field': 'Year'}, 'y': {'type': 'quantitative', 'axis': {'labelAngle': 30, 'title': 'Number of hospitals'}, 'field': 'Number of hospitals'}}}, {'data': {'values': [{}]}, 'mark': {'type': 'rule', 'color': '#267bba'}, 'encoding': {'y': {'datum': 3500}}}]}\n"
     ]
    }
   ],
   "source": [
    "vl_json=json.loads(vl_spec)\n",
    "vl_json[\"layer\"] = [{ 'mark': vl_json['mark'], 'encoding': vl_json['encoding'] }]\n",
    "vl_json=LineLine(vl_json,\"Year\", \"Number of hospitals\", \"temporal\", \"quantitative\", 3500)\n",
    "del vl_json['mark'], vl_json['encoding']\n",
    "print(vl_json)\n",
    "png_data = vlc.vegalite_to_png(vl_spec=vl_json, scale=2)\n",
    "with open(\"Filter-Line-Line.png\", \"wb\") as f:\n",
    "    f.write(png_data)"
   ]
  },
  {
   "cell_type": "code",
   "execution_count": 439,
   "metadata": {},
   "outputs": [
    {
     "name": "stdout",
     "output_type": "stream",
     "text": [
      "{'config': {'background': '#fff', 'area': {'fill': '#4572a7'}, 'line': {'stroke': '#4572a7', 'strokeWidth': 2}, 'rect': {'fill': '#4572a7'}, 'bar': {'fill': '#4572a7'}, 'point': {'color': '#4572a7', 'strokeWidth': 1.5, 'size': 50}, 'axis': {'bandPosition': 0.5, 'gridColor': '#000000', 'gridOpacity': 1, 'gridWidth': 0.5, 'labelPadding': 10, 'tickSize': 5, 'tickWidth': 0.5}, 'axisBand': {}, 'legend': {'labelBaseline': 'middle', 'labelFontSize': 11, 'symbolSize': 50, 'symbolType': 'square'}, 'range': {'category': ['#4572a7', '#aa4643', '#8aa453', '#71598e', '#4598ae', '#d98445', '#94aace', '#d09393', '#b9cc98', '#a99cbc']}}, 'data': {'url': 'https://raw.githubusercontent.com/vis-nlp/Chart-to-text/main/statista_dataset/dataset/data/10061.csv'}, 'title': ['Number of hospitals in the United States', 'from 1999 to 2017 (in thousands)'], '$schema': 'https://vega.github.io/schema/vega-lite/v4.8.1.json', 'layer': [{'mark': 'line', 'encoding': {'color': {'value': '#d98445'}, 'x': {'type': 'temporal', 'axis': {}, 'field': 'Year'}, 'y': {'type': 'quantitative', 'axis': {'labelAngle': 30, 'title': 'Number of hospitals'}, 'field': 'Number of hospitals'}}}, {'data': {'values': [{'PlotX1': '2000', 'PlotY1': 0, 'PlotX2': '2017', 'PlotY2': 3500}]}, 'mark': {'type': 'rect', 'color': '#267bba', 'stroke': '#267bba', 'fillOpacity': 0.2, 'strokeWidth': 0}, 'encoding': {'x': {'field': 'PlotX1', 'type': 'temporal'}, 'y': {'field': 'PlotY1', 'type': 'quantitative'}, 'x2': {'field': 'PlotX2', 'type': 'temporal'}, 'y2': {'field': 'PlotY2', 'type': 'quantitative'}}}]}\n"
     ]
    }
   ],
   "source": [
    "vl_json=json.loads(vl_spec)\n",
    "vl_json[\"layer\"] = [{ 'mark': vl_json['mark'], 'encoding': vl_json['encoding'] }]\n",
    "vl_json=LineArea(vl_json,\"Year\", \"Number of hospitals\", \"temporal\", \"quantitative\", \"2000\",0,\"2017\",3500)\n",
    "del vl_json['mark'], vl_json['encoding']\n",
    "print(vl_json)\n",
    "png_data = vlc.vegalite_to_png(vl_spec=vl_json, scale=2)\n",
    "with open(\"Filter-Line-Shade.png\", \"wb\") as f:\n",
    "    f.write(png_data)"
   ]
  },
  {
   "cell_type": "code",
   "execution_count": 440,
   "metadata": {},
   "outputs": [
    {
     "name": "stdout",
     "output_type": "stream",
     "text": [
      "{'config': {'background': '#fff', 'area': {'fill': '#4572a7'}, 'line': {'stroke': '#4572a7', 'strokeWidth': 2}, 'rect': {'fill': '#4572a7'}, 'bar': {'fill': '#4572a7'}, 'point': {'color': '#4572a7', 'strokeWidth': 1.5, 'size': 50}, 'axis': {'bandPosition': 0.5, 'gridColor': '#000000', 'gridOpacity': 1, 'gridWidth': 0.5, 'labelPadding': 10, 'tickSize': 5, 'tickWidth': 0.5}, 'axisBand': {}, 'legend': {'labelBaseline': 'middle', 'labelFontSize': 11, 'symbolSize': 50, 'symbolType': 'square'}, 'range': {'category': ['#4572a7', '#aa4643', '#8aa453', '#71598e', '#4598ae', '#d98445', '#94aace', '#d09393', '#b9cc98', '#a99cbc']}}, 'data': {'url': 'https://raw.githubusercontent.com/vis-nlp/Chart-to-text/main/statista_dataset/dataset/data/10061.csv'}, 'title': ['Number of hospitals in the United States', 'from 1999 to 2017 (in thousands)'], '$schema': 'https://vega.github.io/schema/vega-lite/v4.8.1.json', 'layer': [{'mark': 'line', 'encoding': {'color': {'value': '#d98445'}, 'x': {'type': 'temporal', 'axis': {}, 'field': 'Year'}, 'y': {'type': 'quantitative', 'axis': {'labelAngle': 30, 'title': 'Number of hospitals'}, 'field': 'Number of hospitals'}}}, {'data': {'values': [{'PlotX1': '2000', 'PlotY1': 0, 'PlotX2': '2017', 'PlotY2': 3500}]}, 'mark': {'type': 'rect', 'color': '#267bba', 'stroke': '#267bba', 'fillOpacity': 0, 'strokeWidth': 2}, 'encoding': {'x': {'field': 'PlotX1', 'type': 'temporal'}, 'y': {'field': 'PlotY1', 'type': 'quantitative'}, 'x2': {'field': 'PlotX2', 'type': 'temporal'}, 'y2': {'field': 'PlotY2', 'type': 'quantitative'}}}]}\n"
     ]
    }
   ],
   "source": [
    "vl_json=json.loads(vl_spec)\n",
    "vl_json[\"layer\"] = [{ 'mark': vl_json['mark'], 'encoding': vl_json['encoding'] }]\n",
    "vl_json=LineArea(vl_json,\"Year\", \"Operating revenue in million U\\\\.S\\\\. dollars\", \"temporal\", \"quantitative\", \"2000\",0,\"2017\",3500,shade=False)\n",
    "del vl_json['mark'], vl_json['encoding']\n",
    "print(vl_json)\n",
    "png_data = vlc.vegalite_to_png(vl_spec=vl_json, scale=2)\n",
    "with open(\"Filter-Line-Bound.png\", \"wb\") as f:\n",
    "    f.write(png_data)"
   ]
  },
  {
   "cell_type": "code",
   "execution_count": 441,
   "metadata": {},
   "outputs": [],
   "source": [
    "vl_spec=r'''\n",
    "{\n",
    "  \"config\": {\n",
    "    \"background\": \"#fff\",\n",
    "    \"area\": {\"fill\": \"#4572a7\"},\n",
    "    \"line\": {\"stroke\": \"#4572a7\", \"strokeWidth\": 2},\n",
    "    \"rect\": {\"fill\": \"#4572a7\"},\n",
    "    \"bar\": {\"fill\": \"#4572a7\"},\n",
    "    \"point\": {\"color\": \"#4572a7\", \"strokeWidth\": 1.5, \"size\": 50},\n",
    "    \"axis\": {\n",
    "      \"bandPosition\": 0.5,\n",
    "      \"gridColor\": \"#000000\",\n",
    "      \"gridOpacity\": 1,\n",
    "      \"gridWidth\": 0.5,\n",
    "      \"labelPadding\": 10,\n",
    "      \"tickSize\": 5,\n",
    "      \"tickWidth\": 0.5\n",
    "    },\n",
    "    \"axisBand\": {},\n",
    "    \"legend\": {\n",
    "      \"labelBaseline\": \"middle\",\n",
    "      \"labelFontSize\": 11,\n",
    "      \"symbolSize\": 50,\n",
    "      \"symbolType\": \"square\"\n",
    "    },\n",
    "    \"range\": {\n",
    "      \"category\": [\n",
    "        \"#4572a7\",\n",
    "        \"#aa4643\",\n",
    "        \"#8aa453\",\n",
    "        \"#71598e\",\n",
    "        \"#4598ae\",\n",
    "        \"#d98445\",\n",
    "        \"#94aace\",\n",
    "        \"#d09393\",\n",
    "        \"#b9cc98\",\n",
    "        \"#a99cbc\"\n",
    "      ]\n",
    "    }\n",
    "  },\n",
    "  \"data\": {\n",
    "    \"url\": \"https://raw.githubusercontent.com/vis-nlp/Chart-to-text/main/statista_dataset/dataset/data/10520.csv\"\n",
    "  },\n",
    "  \"mark\": \"line\",\n",
    "  \"encoding\": {\n",
    "    \"color\": {\"value\": \"#d98445\"},\n",
    "    \"x\": {\"type\": \"temporal\", \"axis\": {}, \"field\": \"Year\"},\n",
    "    \"y\": {\n",
    "      \"type\": \"quantitative\",\n",
    "      \"axis\": {\"labelAngle\": -45, \"title\": \"Unit sales in millions\"},\n",
    "      \"field\": \"Unit sales in millions\"\n",
    "    }\n",
    "  },\n",
    "  \"title\": [\"Unit sales of the world\"]\n",
    "}\n",
    "'''"
   ]
  },
  {
   "cell_type": "code",
   "execution_count": 442,
   "metadata": {},
   "outputs": [],
   "source": [
    "png_data = vlc.vegalite_to_png(vl_spec=vl_spec, scale=2)\n",
    "with open(\"Sample-Line-Range.png\", \"wb\") as f:\n",
    "    f.write(png_data)"
   ]
  },
  {
   "cell_type": "code",
   "execution_count": 443,
   "metadata": {},
   "outputs": [
    {
     "name": "stdout",
     "output_type": "stream",
     "text": [
      "[2015, 2016, 2017, 2018]\n",
      "{'config': {'background': '#fff', 'area': {'fill': '#4572a7'}, 'line': {'stroke': '#4572a7', 'strokeWidth': 2}, 'rect': {'fill': '#4572a7'}, 'bar': {'fill': '#4572a7'}, 'point': {'color': '#4572a7', 'strokeWidth': 1.5, 'size': 50}, 'axis': {'bandPosition': 0.5, 'gridColor': '#000000', 'gridOpacity': 1, 'gridWidth': 0.5, 'labelPadding': 10, 'tickSize': 5, 'tickWidth': 0.5}, 'axisBand': {}, 'legend': {'labelBaseline': 'middle', 'labelFontSize': 11, 'symbolSize': 50, 'symbolType': 'square'}, 'range': {'category': ['#4572a7', '#aa4643', '#8aa453', '#71598e', '#4598ae', '#d98445', '#94aace', '#d09393', '#b9cc98', '#a99cbc']}}, 'data': {'url': 'https://raw.githubusercontent.com/vis-nlp/Chart-to-text/main/statista_dataset/dataset/data/10520.csv'}, 'title': ['Unit sales of the world'], 'layer': [{'mark': 'line', 'encoding': {'color': {'value': '#d98445'}, 'x': {'type': 'temporal', 'axis': {}, 'field': 'Year'}, 'y': {'type': 'quantitative', 'axis': {'labelAngle': -45, 'title': 'Unit sales in millions'}, 'field': 'Unit sales in millions'}}}, {'mark': 'line', 'encoding': {'color': {'value': '#267bba'}, 'x': {'type': 'temporal', 'axis': {}, 'field': 'Year'}, 'y': {'type': 'quantitative', 'axis': {'labelAngle': -45, 'title': 'Unit sales in millions'}, 'field': 'Unit sales in millions'}}, 'transform': [{'filter': \"(year(datum['Year']) >= 2014 && year(datum['Year']) <= 2017)\"}]}]}\n"
     ]
    }
   ],
   "source": [
    "vl_json=json.loads(vl_spec)\n",
    "vl_json[\"layer\"] = [{ 'mark': vl_json['mark'], 'encoding': vl_json['encoding'] }]\n",
    "vl_json=LineColor(vl_json,\"Year\", \"Unit sales in millions\", \"temporal\", \"quantitative\", 0.5,'above_below',1.4)\n",
    "del vl_json['mark'], vl_json['encoding']\n",
    "print(vl_json)\n",
    "png_data = vlc.vegalite_to_png(vl_spec=vl_json, scale=2)\n",
    "with open(\"Range-Line-Color.png\", \"wb\") as f:\n",
    "    f.write(png_data)"
   ]
  },
  {
   "cell_type": "code",
   "execution_count": 444,
   "metadata": {},
   "outputs": [
    {
     "name": "stdout",
     "output_type": "stream",
     "text": [
      "[2015, 2016, 2017, 2018]\n",
      "{'config': {'background': '#fff', 'area': {'fill': '#4572a7'}, 'line': {'stroke': '#4572a7', 'strokeWidth': 2}, 'rect': {'fill': '#4572a7'}, 'bar': {'fill': '#4572a7'}, 'point': {'color': '#4572a7', 'strokeWidth': 1.5, 'size': 50}, 'axis': {'bandPosition': 0.5, 'gridColor': '#000000', 'gridOpacity': 1, 'gridWidth': 0.5, 'labelPadding': 10, 'tickSize': 5, 'tickWidth': 0.5}, 'axisBand': {}, 'legend': {'labelBaseline': 'middle', 'labelFontSize': 11, 'symbolSize': 50, 'symbolType': 'square'}, 'range': {'category': ['#4572a7', '#aa4643', '#8aa453', '#71598e', '#4598ae', '#d98445', '#94aace', '#d09393', '#b9cc98', '#a99cbc']}}, 'data': {'url': 'https://raw.githubusercontent.com/vis-nlp/Chart-to-text/main/statista_dataset/dataset/data/10520.csv'}, 'title': ['Unit sales of the world'], 'layer': [{'mark': 'line', 'encoding': {'color': {'value': '#d98445'}, 'x': {'type': 'temporal', 'axis': {}, 'field': 'Year'}, 'y': {'type': 'quantitative', 'axis': {'labelAngle': -45, 'title': 'Unit sales in millions'}, 'field': 'Unit sales in millions'}, 'opacity': {'value': 0.4}}}, {'mark': 'line', 'encoding': {'color': {'value': '#d98445'}, 'x': {'type': 'temporal', 'axis': {}, 'field': 'Year'}, 'y': {'type': 'quantitative', 'axis': {'labelAngle': -45, 'title': 'Unit sales in millions'}, 'field': 'Unit sales in millions'}, 'opacity': {'value': 1}}, 'transform': [{'filter': \"(year(datum['Year']) >= 2014 && year(datum['Year']) <= 2017)\"}]}]}\n"
     ]
    }
   ],
   "source": [
    "vl_json=json.loads(vl_spec)\n",
    "vl_json[\"layer\"] = [{ 'mark': vl_json['mark'], 'encoding': vl_json['encoding'] }]\n",
    "vl_json=LineOpacity(vl_json,\"Year\", \"Unit sales in millions\", \"temporal\", \"quantitative\", 0.5,'above_below',1.4)\n",
    "del vl_json['mark'], vl_json['encoding']\n",
    "print(vl_json)\n",
    "png_data = vlc.vegalite_to_png(vl_spec=vl_json, scale=2)\n",
    "with open(\"Range-Line-Opacity.png\", \"wb\") as f:\n",
    "    f.write(png_data)"
   ]
  },
  {
   "cell_type": "code",
   "execution_count": 445,
   "metadata": {},
   "outputs": [
    {
     "name": "stdout",
     "output_type": "stream",
     "text": [
      "{'config': {'background': '#fff', 'area': {'fill': '#4572a7'}, 'line': {'stroke': '#4572a7', 'strokeWidth': 2}, 'rect': {'fill': '#4572a7'}, 'bar': {'fill': '#4572a7'}, 'point': {'color': '#4572a7', 'strokeWidth': 1.5, 'size': 50}, 'axis': {'bandPosition': 0.5, 'gridColor': '#000000', 'gridOpacity': 1, 'gridWidth': 0.5, 'labelPadding': 10, 'tickSize': 5, 'tickWidth': 0.5}, 'axisBand': {}, 'legend': {'labelBaseline': 'middle', 'labelFontSize': 11, 'symbolSize': 50, 'symbolType': 'square'}, 'range': {'category': ['#4572a7', '#aa4643', '#8aa453', '#71598e', '#4598ae', '#d98445', '#94aace', '#d09393', '#b9cc98', '#a99cbc']}}, 'data': {'url': 'https://raw.githubusercontent.com/vis-nlp/Chart-to-text/main/statista_dataset/dataset/data/10520.csv'}, 'title': ['Unit sales of the world'], 'layer': [{'mark': 'line', 'encoding': {'color': {'value': '#d98445'}, 'x': {'type': 'temporal', 'axis': {}, 'field': 'Year'}, 'y': {'type': 'quantitative', 'axis': {'labelAngle': -45, 'title': 'Unit sales in millions'}, 'field': 'Unit sales in millions'}}}, {'data': {'values': [{}]}, 'mark': {'type': 'rule', 'color': '#267bba'}, 'encoding': {'y': {'datum': 0.5}}}, {'data': {'values': [{}]}, 'mark': {'type': 'rule', 'color': '#267bba'}, 'encoding': {'y': {'datum': 1.4}}}]}\n"
     ]
    }
   ],
   "source": [
    "vl_json=json.loads(vl_spec)\n",
    "vl_json[\"layer\"] = [{ 'mark': vl_json['mark'], 'encoding': vl_json['encoding'] }]\n",
    "vl_json=LineLine(vl_json,\"Year\", \"Unit sales in millions\", \"temporal\", \"quantitative\", 0.5,1.4)\n",
    "del vl_json['mark'], vl_json['encoding']\n",
    "print(vl_json)\n",
    "png_data = vlc.vegalite_to_png(vl_spec=vl_json, scale=2)\n",
    "with open(\"Range-Line-Line.png\", \"wb\") as f:\n",
    "    f.write(png_data)"
   ]
  },
  {
   "cell_type": "code",
   "execution_count": 446,
   "metadata": {},
   "outputs": [
    {
     "name": "stdout",
     "output_type": "stream",
     "text": [
      "{'config': {'background': '#fff', 'area': {'fill': '#4572a7'}, 'line': {'stroke': '#4572a7', 'strokeWidth': 2}, 'rect': {'fill': '#4572a7'}, 'bar': {'fill': '#4572a7'}, 'point': {'color': '#4572a7', 'strokeWidth': 1.5, 'size': 50}, 'axis': {'bandPosition': 0.5, 'gridColor': '#000000', 'gridOpacity': 1, 'gridWidth': 0.5, 'labelPadding': 10, 'tickSize': 5, 'tickWidth': 0.5}, 'axisBand': {}, 'legend': {'labelBaseline': 'middle', 'labelFontSize': 11, 'symbolSize': 50, 'symbolType': 'square'}, 'range': {'category': ['#4572a7', '#aa4643', '#8aa453', '#71598e', '#4598ae', '#d98445', '#94aace', '#d09393', '#b9cc98', '#a99cbc']}}, 'data': {'url': 'https://raw.githubusercontent.com/vis-nlp/Chart-to-text/main/statista_dataset/dataset/data/10520.csv'}, 'title': ['Unit sales of the world'], 'layer': [{'mark': 'line', 'encoding': {'color': {'value': '#d98445'}, 'x': {'type': 'temporal', 'axis': {}, 'field': 'Year'}, 'y': {'type': 'quantitative', 'axis': {'labelAngle': -45, 'title': 'Unit sales in millions'}, 'field': 'Unit sales in millions'}}}, {'data': {'values': [{'PlotX1': '2008', 'PlotY1': 0.5, 'PlotX2': '2018', 'PlotY2': 1.4}]}, 'mark': {'type': 'rect', 'color': '#267bba', 'stroke': '#267bba', 'fillOpacity': 0.2, 'strokeWidth': 0}, 'encoding': {'x': {'field': 'PlotX1', 'type': 'temporal'}, 'y': {'field': 'PlotY1', 'type': 'quantitative'}, 'x2': {'field': 'PlotX2', 'type': 'temporal'}, 'y2': {'field': 'PlotY2', 'type': 'quantitative'}}}]}\n"
     ]
    }
   ],
   "source": [
    "vl_json=json.loads(vl_spec)\n",
    "vl_json[\"layer\"] = [{ 'mark': vl_json['mark'], 'encoding': vl_json['encoding'] }]\n",
    "vl_json=LineArea(vl_json,\"Year\", \"Unit sales in millions\", \"temporal\", \"quantitative\", \"2008\",0.5,\"2018\",1.4)\n",
    "del vl_json['mark'], vl_json['encoding']\n",
    "print(vl_json)\n",
    "png_data = vlc.vegalite_to_png(vl_spec=vl_json, scale=2)\n",
    "with open(\"Range-Line-Shade.png\", \"wb\") as f:\n",
    "    f.write(png_data)"
   ]
  },
  {
   "cell_type": "code",
   "execution_count": 447,
   "metadata": {},
   "outputs": [
    {
     "name": "stdout",
     "output_type": "stream",
     "text": [
      "{'config': {'background': '#fff', 'area': {'fill': '#4572a7'}, 'line': {'stroke': '#4572a7', 'strokeWidth': 2}, 'rect': {'fill': '#4572a7'}, 'bar': {'fill': '#4572a7'}, 'point': {'color': '#4572a7', 'strokeWidth': 1.5, 'size': 50}, 'axis': {'bandPosition': 0.5, 'gridColor': '#000000', 'gridOpacity': 1, 'gridWidth': 0.5, 'labelPadding': 10, 'tickSize': 5, 'tickWidth': 0.5}, 'axisBand': {}, 'legend': {'labelBaseline': 'middle', 'labelFontSize': 11, 'symbolSize': 50, 'symbolType': 'square'}, 'range': {'category': ['#4572a7', '#aa4643', '#8aa453', '#71598e', '#4598ae', '#d98445', '#94aace', '#d09393', '#b9cc98', '#a99cbc']}}, 'data': {'url': 'https://raw.githubusercontent.com/vis-nlp/Chart-to-text/main/statista_dataset/dataset/data/10520.csv'}, 'title': ['Unit sales of the world'], 'layer': [{'mark': 'line', 'encoding': {'color': {'value': '#d98445'}, 'x': {'type': 'temporal', 'axis': {}, 'field': 'Year'}, 'y': {'type': 'quantitative', 'axis': {'labelAngle': -45, 'title': 'Unit sales in millions'}, 'field': 'Unit sales in millions'}}}, {'data': {'values': [{'PlotX1': '2008', 'PlotY1': 0.5, 'PlotX2': '2018', 'PlotY2': 1.4}]}, 'mark': {'type': 'rect', 'color': '#267bba', 'stroke': '#267bba', 'fillOpacity': 0, 'strokeWidth': 2}, 'encoding': {'x': {'field': 'PlotX1', 'type': 'temporal'}, 'y': {'field': 'PlotY1', 'type': 'quantitative'}, 'x2': {'field': 'PlotX2', 'type': 'temporal'}, 'y2': {'field': 'PlotY2', 'type': 'quantitative'}}}]}\n"
     ]
    }
   ],
   "source": [
    "vl_json=json.loads(vl_spec)\n",
    "vl_json[\"layer\"] = [{ 'mark': vl_json['mark'], 'encoding': vl_json['encoding'] }]\n",
    "vl_json=LineArea(vl_json,\"Year\", \"Unit sales in millions\", \"temporal\", \"quantitative\", \"2008\",0.5,\"2018\",1.4,shade=False)\n",
    "del vl_json['mark'], vl_json['encoding']\n",
    "print(vl_json)\n",
    "png_data = vlc.vegalite_to_png(vl_spec=vl_json, scale=2)\n",
    "with open(\"Range-Line-Bound.png\", \"wb\") as f:\n",
    "    f.write(png_data)"
   ]
  },
  {
   "cell_type": "code",
   "execution_count": 448,
   "metadata": {},
   "outputs": [],
   "source": [
    "vl_spec=r''' \n",
    "{\n",
    "  \"config\": {\n",
    "    \"background\": \"#fff\",\n",
    "    \"area\": {\"fill\": \"#4572a7\"},\n",
    "    \"line\": {\"stroke\": \"#4572a7\", \"strokeWidth\": 2},\n",
    "    \"rect\": {\"fill\": \"#4572a7\"},\n",
    "    \"bar\": {\"fill\": \"#4572a7\"},\n",
    "    \"point\": {\"color\": \"#4572a7\", \"strokeWidth\": 1.5, \"size\": 50},\n",
    "    \"axis\": {\n",
    "      \"bandPosition\": 0.5,\n",
    "      \"gridColor\": \"#000000\",\n",
    "      \"gridOpacity\": 1,\n",
    "      \"gridWidth\": 0.5,\n",
    "      \"labelPadding\": 10,\n",
    "      \"tickSize\": 5,\n",
    "      \"tickWidth\": 0.5\n",
    "    },\n",
    "    \"axisBand\": {},\n",
    "    \"legend\": {\n",
    "      \"labelBaseline\": \"middle\",\n",
    "      \"labelFontSize\": 11,\n",
    "      \"symbolSize\": 50,\n",
    "      \"symbolType\": \"square\"\n",
    "    },\n",
    "    \"range\": {\n",
    "      \"category\": [\n",
    "        \"#4572a7\",\n",
    "        \"#aa4643\",\n",
    "        \"#8aa453\",\n",
    "        \"#71598e\",\n",
    "        \"#4598ae\",\n",
    "        \"#d98445\",\n",
    "        \"#94aace\",\n",
    "        \"#d09393\",\n",
    "        \"#b9cc98\",\n",
    "        \"#a99cbc\"\n",
    "      ]\n",
    "    }\n",
    "  },\n",
    "  \"data\": {\n",
    "    \"url\": \"https://raw.githubusercontent.com/vis-nlp/Chart-to-text/main/statista_dataset/dataset/data/10736.csv\"\n",
    "  },\n",
    "  \"mark\": \"line\",\n",
    "  \"encoding\": {\n",
    "    \"color\": {\"value\": \"#d98445\"},\n",
    "    \"x\": {\"type\": \"temporal\", \"axis\": {}, \"field\": \"Year\"},\n",
    "    \"y\": {\n",
    "      \"type\": \"quantitative\",\n",
    "      \"axis\": {\"labelAngle\": 30, \"title\": \"Per capita consumption in pounds\"},\n",
    "      \"field\": \"Per capita consumption in pounds\"\n",
    "    }\n",
    "  },\n",
    "  \"title\": [\n",
    "    \"Per capita consumption of alcoholic\",\n",
    "    \"beverages in the United Kingdom from 1999 to\",\n",
    "    \"2019\"\n",
    "  ],\n",
    "  \"$schema\": \"https://vega.github.io/schema/vega-lite/v4.8.1.json\"\n",
    "}\n",
    "'''"
   ]
  },
  {
   "cell_type": "code",
   "execution_count": 449,
   "metadata": {},
   "outputs": [],
   "source": [
    "png_data = vlc.vegalite_to_png(vl_spec=vl_spec, scale=2)\n",
    "with open(\"Sample-Line-Trend.png\", \"wb\") as f:\n",
    "    f.write(png_data)"
   ]
  },
  {
   "cell_type": "code",
   "execution_count": 450,
   "metadata": {},
   "outputs": [
    {
     "name": "stdout",
     "output_type": "stream",
     "text": [
      "{'config': {'background': '#fff', 'area': {'fill': '#4572a7'}, 'line': {'stroke': '#4572a7', 'strokeWidth': 2}, 'rect': {'fill': '#4572a7'}, 'bar': {'fill': '#4572a7'}, 'point': {'color': '#4572a7', 'strokeWidth': 1.5, 'size': 50}, 'axis': {'bandPosition': 0.5, 'gridColor': '#000000', 'gridOpacity': 1, 'gridWidth': 0.5, 'labelPadding': 10, 'tickSize': 5, 'tickWidth': 0.5}, 'axisBand': {}, 'legend': {'labelBaseline': 'middle', 'labelFontSize': 11, 'symbolSize': 50, 'symbolType': 'square'}, 'range': {'category': ['#4572a7', '#aa4643', '#8aa453', '#71598e', '#4598ae', '#d98445', '#94aace', '#d09393', '#b9cc98', '#a99cbc']}}, 'data': {'url': 'https://raw.githubusercontent.com/vis-nlp/Chart-to-text/main/statista_dataset/dataset/data/10736.csv'}, 'title': ['Per capita consumption of alcoholic', 'beverages in the United Kingdom from 1999 to', '2019'], '$schema': 'https://vega.github.io/schema/vega-lite/v4.8.1.json', 'layer': [{'mark': 'line', 'encoding': {'color': {'value': '#d98445'}, 'x': {'type': 'temporal', 'axis': {}, 'field': 'Year'}, 'y': {'type': 'quantitative', 'axis': {'labelAngle': 30, 'title': 'Per capita consumption in pounds'}, 'field': 'Per capita consumption in pounds'}}}, {'mark': 'line', 'encoding': {'color': {'value': '#267bba'}, 'x': {'type': 'temporal', 'axis': {}, 'field': 'Year'}, 'y': {'type': 'quantitative', 'axis': {'labelAngle': 30, 'title': 'Per capita consumption in pounds'}, 'field': 'Per capita consumption in pounds'}}, 'transform': [{'filter': \"year(datum['Year']) >= 2009 && year(datum['Year']) <= 2019\"}]}]}\n"
     ]
    }
   ],
   "source": [
    "vl_json=json.loads(vl_spec)\n",
    "vl_json[\"layer\"] = [{ 'mark': vl_json['mark'], 'encoding': vl_json['encoding'] }]\n",
    "vl_json=LineColor(vl_json,\"Year\", \"Per capita consumption in pounds\", \"temporal\", \"quantitative\", 2010,'left_and_right',2020)\n",
    "del vl_json['mark'], vl_json['encoding']\n",
    "print(vl_json)\n",
    "png_data = vlc.vegalite_to_png(vl_spec=vl_json, scale=2)\n",
    "with open(\"Trend-Line-Color.png\", \"wb\") as f:\n",
    "    f.write(png_data)"
   ]
  },
  {
   "cell_type": "code",
   "execution_count": 451,
   "metadata": {},
   "outputs": [
    {
     "name": "stdout",
     "output_type": "stream",
     "text": [
      "{'config': {'background': '#fff', 'area': {'fill': '#4572a7'}, 'line': {'stroke': '#4572a7', 'strokeWidth': 2}, 'rect': {'fill': '#4572a7'}, 'bar': {'fill': '#4572a7'}, 'point': {'color': '#4572a7', 'strokeWidth': 1.5, 'size': 50}, 'axis': {'bandPosition': 0.5, 'gridColor': '#000000', 'gridOpacity': 1, 'gridWidth': 0.5, 'labelPadding': 10, 'tickSize': 5, 'tickWidth': 0.5}, 'axisBand': {}, 'legend': {'labelBaseline': 'middle', 'labelFontSize': 11, 'symbolSize': 50, 'symbolType': 'square'}, 'range': {'category': ['#4572a7', '#aa4643', '#8aa453', '#71598e', '#4598ae', '#d98445', '#94aace', '#d09393', '#b9cc98', '#a99cbc']}}, 'data': {'url': 'https://raw.githubusercontent.com/vis-nlp/Chart-to-text/main/statista_dataset/dataset/data/10736.csv'}, 'title': ['Per capita consumption of alcoholic', 'beverages in the United Kingdom from 1999 to', '2019'], '$schema': 'https://vega.github.io/schema/vega-lite/v4.8.1.json', 'layer': [{'mark': 'line', 'encoding': {'color': {'value': '#d98445'}, 'x': {'type': 'temporal', 'axis': {}, 'field': 'Year'}, 'y': {'type': 'quantitative', 'axis': {'labelAngle': 30, 'title': 'Per capita consumption in pounds'}, 'field': 'Per capita consumption in pounds'}, 'opacity': {'value': 0.4}}}, {'mark': 'line', 'encoding': {'color': {'value': '#d98445'}, 'x': {'type': 'temporal', 'axis': {}, 'field': 'Year'}, 'y': {'type': 'quantitative', 'axis': {'labelAngle': 30, 'title': 'Per capita consumption in pounds'}, 'field': 'Per capita consumption in pounds'}, 'opacity': {'value': 1}}, 'transform': [{'filter': \"year(datum['Year']) >= 2009 && year(datum['Year']) <= 2019\"}]}]}\n"
     ]
    }
   ],
   "source": [
    "vl_json=json.loads(vl_spec)\n",
    "vl_json[\"layer\"] = [{ 'mark': vl_json['mark'], 'encoding': vl_json['encoding'] }]\n",
    "vl_json=LineOpacity(vl_json,\"Year\", \"Per capita consumption in pounds\", \"temporal\", \"quantitative\", 2010,'left_and_right',2020)\n",
    "del vl_json['mark'], vl_json['encoding']\n",
    "print(vl_json)\n",
    "png_data = vlc.vegalite_to_png(vl_spec=vl_json, scale=2)\n",
    "with open(\"Trend-Line-Opacity.png\", \"wb\") as f:\n",
    "    f.write(png_data)"
   ]
  },
  {
   "cell_type": "code",
   "execution_count": 452,
   "metadata": {},
   "outputs": [
    {
     "name": "stdout",
     "output_type": "stream",
     "text": [
      "{'config': {'background': '#fff', 'area': {'fill': '#4572a7'}, 'line': {'stroke': '#4572a7', 'strokeWidth': 2}, 'rect': {'fill': '#4572a7'}, 'bar': {'fill': '#4572a7'}, 'point': {'color': '#4572a7', 'strokeWidth': 1.5, 'size': 50}, 'axis': {'bandPosition': 0.5, 'gridColor': '#000000', 'gridOpacity': 1, 'gridWidth': 0.5, 'labelPadding': 10, 'tickSize': 5, 'tickWidth': 0.5}, 'axisBand': {}, 'legend': {'labelBaseline': 'middle', 'labelFontSize': 11, 'symbolSize': 50, 'symbolType': 'square'}, 'range': {'category': ['#4572a7', '#aa4643', '#8aa453', '#71598e', '#4598ae', '#d98445', '#94aace', '#d09393', '#b9cc98', '#a99cbc']}}, 'data': {'url': 'https://raw.githubusercontent.com/vis-nlp/Chart-to-text/main/statista_dataset/dataset/data/10736.csv', 'format': {'type': 'csv', 'parse': {'Year': \"date:'%Y'\"}}}, 'title': ['Per capita consumption of alcoholic', 'beverages in the United Kingdom from 1999 to', '2019'], '$schema': 'https://vega.github.io/schema/vega-lite/v4.8.1.json', 'layer': [{'mark': 'line', 'encoding': {'color': {'value': '#d98445'}, 'x': {'type': 'temporal', 'axis': {}, 'field': 'Year'}, 'y': {'type': 'quantitative', 'axis': {'labelAngle': 30, 'title': 'Per capita consumption in pounds'}, 'field': 'Per capita consumption in pounds'}}}, {'mark': {'type': 'text', 'filled': True, 'angle': 30, 'fontSize': 32, 'dy': -10}, 'transform': [{'filter': \"year(datum['Year']) == 2015\"}], 'encoding': {'text': {'value': '→'}, 'color': {'value': '#267bba'}, 'x': {'type': 'temporal', 'field': 'Year'}, 'y': {'type': 'quantitative', 'field': 'Per capita consumption in pounds'}}}]}\n"
     ]
    }
   ],
   "source": [
    "vl_json=json.loads(vl_spec)\n",
    "vl_json[\"layer\"] = [{ 'mark': vl_json['mark'], 'encoding': vl_json['encoding'] }]\n",
    "vl_json=LineText(vl_json,\"Year\", \"Per capita consumption in pounds\", \"temporal\", \"quantitative\", 2015,\"→\",30)\n",
    "del vl_json['mark'], vl_json['encoding']\n",
    "print(vl_json)\n",
    "png_data = vlc.vegalite_to_png(vl_spec=vl_json, scale=2)\n",
    "with open(\"Trend-Line-Mark.png\", \"wb\") as f:\n",
    "    f.write(png_data)"
   ]
  },
  {
   "cell_type": "code",
   "execution_count": 453,
   "metadata": {},
   "outputs": [
    {
     "name": "stdout",
     "output_type": "stream",
     "text": [
      "{'config': {'background': '#fff', 'area': {'fill': '#4572a7'}, 'line': {'stroke': '#4572a7', 'strokeWidth': 2}, 'rect': {'fill': '#4572a7'}, 'bar': {'fill': '#4572a7'}, 'point': {'color': '#4572a7', 'strokeWidth': 1.5, 'size': 50}, 'axis': {'bandPosition': 0.5, 'gridColor': '#000000', 'gridOpacity': 1, 'gridWidth': 0.5, 'labelPadding': 10, 'tickSize': 5, 'tickWidth': 0.5}, 'axisBand': {}, 'legend': {'labelBaseline': 'middle', 'labelFontSize': 11, 'symbolSize': 50, 'symbolType': 'square'}, 'range': {'category': ['#4572a7', '#aa4643', '#8aa453', '#71598e', '#4598ae', '#d98445', '#94aace', '#d09393', '#b9cc98', '#a99cbc']}}, 'data': {'url': 'https://raw.githubusercontent.com/vis-nlp/Chart-to-text/main/statista_dataset/dataset/data/10736.csv', 'format': {'type': 'csv', 'parse': {'Year': \"date:'%Y'\"}}}, 'title': ['Per capita consumption of alcoholic', 'beverages in the United Kingdom from 1999 to', '2019'], '$schema': 'https://vega.github.io/schema/vega-lite/v4.8.1.json', 'layer': [{'mark': 'line', 'encoding': {'color': {'value': '#d98445'}, 'x': {'type': 'temporal', 'axis': {}, 'field': 'Year'}, 'y': {'type': 'quantitative', 'axis': {'labelAngle': 30, 'title': 'Per capita consumption in pounds'}, 'field': 'Per capita consumption in pounds'}}}, {'mark': {'type': 'text', 'filled': True, 'angle': 0, 'fontSize': 14, 'dy': -10}, 'transform': [{'filter': \"year(datum['Year']) == 2015\"}], 'encoding': {'text': {'value': 'decrease'}, 'color': {'value': '#267bba'}, 'x': {'type': 'temporal', 'field': 'Year'}, 'y': {'type': 'quantitative', 'field': 'Per capita consumption in pounds'}}}]}\n"
     ]
    }
   ],
   "source": [
    "vl_json=json.loads(vl_spec)\n",
    "vl_json[\"layer\"] = [{ 'mark': vl_json['mark'], 'encoding': vl_json['encoding'] }]\n",
    "vl_json=LineText(vl_json,\"Year\", \"Per capita consumption in pounds\", \"temporal\", \"quantitative\", 2015,\"decrease\")\n",
    "del vl_json['mark'], vl_json['encoding']\n",
    "print(vl_json)\n",
    "png_data = vlc.vegalite_to_png(vl_spec=vl_json, scale=2)\n",
    "with open(\"Trend-Line-Text.png\", \"wb\") as f:\n",
    "    f.write(png_data)"
   ]
  },
  {
   "cell_type": "code",
   "execution_count": 454,
   "metadata": {},
   "outputs": [
    {
     "name": "stdout",
     "output_type": "stream",
     "text": [
      "{'config': {'background': '#fff', 'area': {'fill': '#4572a7'}, 'line': {'stroke': '#4572a7', 'strokeWidth': 2}, 'rect': {'fill': '#4572a7'}, 'bar': {'fill': '#4572a7'}, 'point': {'color': '#4572a7', 'strokeWidth': 1.5, 'size': 50}, 'axis': {'bandPosition': 0.5, 'gridColor': '#000000', 'gridOpacity': 1, 'gridWidth': 0.5, 'labelPadding': 10, 'tickSize': 5, 'tickWidth': 0.5}, 'axisBand': {}, 'legend': {'labelBaseline': 'middle', 'labelFontSize': 11, 'symbolSize': 50, 'symbolType': 'square'}, 'range': {'category': ['#4572a7', '#aa4643', '#8aa453', '#71598e', '#4598ae', '#d98445', '#94aace', '#d09393', '#b9cc98', '#a99cbc']}}, 'data': {'url': 'https://raw.githubusercontent.com/vis-nlp/Chart-to-text/main/statista_dataset/dataset/data/10736.csv'}, 'title': ['Per capita consumption of alcoholic', 'beverages in the United Kingdom from 1999 to', '2019'], '$schema': 'https://vega.github.io/schema/vega-lite/v4.8.1.json', 'layer': [{'mark': 'line', 'encoding': {'color': {'value': '#d98445'}, 'x': {'type': 'temporal', 'axis': {}, 'field': 'Year'}, 'y': {'type': 'quantitative', 'axis': {'labelAngle': 30, 'title': 'Per capita consumption in pounds'}, 'field': 'Per capita consumption in pounds'}}}, {'data': {'values': [{'PlotX1': '2010', 'PlotY1': 9, 'PlotX2': '2019', 'PlotY2': 6.5}]}, 'mark': {'type': 'rule', 'stroke': '#267bba', 'strokeWidth': 2}, 'encoding': {'x': {'field': 'PlotX1', 'type': 'temporal'}, 'y': {'field': 'PlotY1', 'type': 'quantitative'}, 'x2': {'field': 'PlotX2', 'type': 'temporal'}, 'y2': {'field': 'PlotY2', 'type': 'quantitative'}}}]}\n"
     ]
    }
   ],
   "source": [
    "vl_json=json.loads(vl_spec)\n",
    "vl_json[\"layer\"] = [{ 'mark': vl_json['mark'], 'encoding': vl_json['encoding'] }]\n",
    "vl_json=LineLine(vl_json,\"Year\", \"Per capita consumption in pounds\", \"temporal\", \"quantitative\", \"2010\",9,\"2019\",6.5)\n",
    "del vl_json['mark'], vl_json['encoding']\n",
    "print(vl_json)\n",
    "png_data = vlc.vegalite_to_png(vl_spec=vl_json, scale=2)\n",
    "with open(\"Trend-Line-Line.png\", \"wb\") as f:\n",
    "    f.write(png_data)"
   ]
  },
  {
   "cell_type": "code",
   "execution_count": 455,
   "metadata": {},
   "outputs": [
    {
     "name": "stdout",
     "output_type": "stream",
     "text": [
      "{'config': {'background': '#fff', 'area': {'fill': '#4572a7'}, 'line': {'stroke': '#4572a7', 'strokeWidth': 2}, 'rect': {'fill': '#4572a7'}, 'bar': {'fill': '#4572a7'}, 'point': {'color': '#4572a7', 'strokeWidth': 1.5, 'size': 50}, 'axis': {'bandPosition': 0.5, 'gridColor': '#000000', 'gridOpacity': 1, 'gridWidth': 0.5, 'labelPadding': 10, 'tickSize': 5, 'tickWidth': 0.5}, 'axisBand': {}, 'legend': {'labelBaseline': 'middle', 'labelFontSize': 11, 'symbolSize': 50, 'symbolType': 'square'}, 'range': {'category': ['#4572a7', '#aa4643', '#8aa453', '#71598e', '#4598ae', '#d98445', '#94aace', '#d09393', '#b9cc98', '#a99cbc']}}, 'data': {'url': 'https://raw.githubusercontent.com/vis-nlp/Chart-to-text/main/statista_dataset/dataset/data/10736.csv'}, 'title': ['Per capita consumption of alcoholic', 'beverages in the United Kingdom from 1999 to', '2019'], '$schema': 'https://vega.github.io/schema/vega-lite/v4.8.1.json', 'layer': [{'mark': 'line', 'encoding': {'color': {'value': '#d98445'}, 'x': {'type': 'temporal', 'axis': {}, 'field': 'Year'}, 'y': {'type': 'quantitative', 'axis': {'labelAngle': 30, 'title': 'Per capita consumption in pounds'}, 'field': 'Per capita consumption in pounds'}}}, {'data': {'values': [{'PlotX1': '2010', 'PlotY1': 6, 'PlotX2': '2019', 'PlotY2': 10}]}, 'mark': {'type': 'rect', 'color': '#267bba', 'stroke': '#267bba', 'fillOpacity': 0.2, 'strokeWidth': 0}, 'encoding': {'x': {'field': 'PlotX1', 'type': 'temporal'}, 'y': {'field': 'PlotY1', 'type': 'quantitative'}, 'x2': {'field': 'PlotX2', 'type': 'temporal'}, 'y2': {'field': 'PlotY2', 'type': 'quantitative'}}}]}\n"
     ]
    }
   ],
   "source": [
    "vl_json=json.loads(vl_spec)\n",
    "vl_json[\"layer\"] = [{ 'mark': vl_json['mark'], 'encoding': vl_json['encoding'] }]\n",
    "vl_json=LineArea(vl_json,\"Year\", \"Per capita consumption in pounds\", \"temporal\", \"quantitative\", \"2010\",6,\"2019\",10)\n",
    "del vl_json['mark'], vl_json['encoding']\n",
    "print(vl_json)\n",
    "png_data = vlc.vegalite_to_png(vl_spec=vl_json, scale=2)\n",
    "with open(\"Trend-Line-Shade.png\", \"wb\") as f:\n",
    "    f.write(png_data)"
   ]
  },
  {
   "cell_type": "code",
   "execution_count": 456,
   "metadata": {},
   "outputs": [
    {
     "name": "stdout",
     "output_type": "stream",
     "text": [
      "{'config': {'background': '#fff', 'area': {'fill': '#4572a7'}, 'line': {'stroke': '#4572a7', 'strokeWidth': 2}, 'rect': {'fill': '#4572a7'}, 'bar': {'fill': '#4572a7'}, 'point': {'color': '#4572a7', 'strokeWidth': 1.5, 'size': 50}, 'axis': {'bandPosition': 0.5, 'gridColor': '#000000', 'gridOpacity': 1, 'gridWidth': 0.5, 'labelPadding': 10, 'tickSize': 5, 'tickWidth': 0.5}, 'axisBand': {}, 'legend': {'labelBaseline': 'middle', 'labelFontSize': 11, 'symbolSize': 50, 'symbolType': 'square'}, 'range': {'category': ['#4572a7', '#aa4643', '#8aa453', '#71598e', '#4598ae', '#d98445', '#94aace', '#d09393', '#b9cc98', '#a99cbc']}}, 'data': {'url': 'https://raw.githubusercontent.com/vis-nlp/Chart-to-text/main/statista_dataset/dataset/data/10736.csv'}, 'title': ['Per capita consumption of alcoholic', 'beverages in the United Kingdom from 1999 to', '2019'], '$schema': 'https://vega.github.io/schema/vega-lite/v4.8.1.json', 'layer': [{'mark': 'line', 'encoding': {'color': {'value': '#d98445'}, 'x': {'type': 'temporal', 'axis': {}, 'field': 'Year'}, 'y': {'type': 'quantitative', 'axis': {'labelAngle': 30, 'title': 'Per capita consumption in pounds'}, 'field': 'Per capita consumption in pounds'}}}, {'data': {'values': [{'PlotX1': '2010', 'PlotY1': 6, 'PlotX2': '2019', 'PlotY2': 10}]}, 'mark': {'type': 'rect', 'color': '#267bba', 'stroke': '#267bba', 'fillOpacity': 0, 'strokeWidth': 2}, 'encoding': {'x': {'field': 'PlotX1', 'type': 'temporal'}, 'y': {'field': 'PlotY1', 'type': 'quantitative'}, 'x2': {'field': 'PlotX2', 'type': 'temporal'}, 'y2': {'field': 'PlotY2', 'type': 'quantitative'}}}]}\n"
     ]
    }
   ],
   "source": [
    "vl_json=json.loads(vl_spec)\n",
    "vl_json[\"layer\"] = [{ 'mark': vl_json['mark'], 'encoding': vl_json['encoding'] }]\n",
    "vl_json=LineArea(vl_json,\"Year\", \"Per capita consumption in pounds\", \"temporal\", \"quantitative\", \"2010\",6,\"2019\",10,shade=False)\n",
    "del vl_json['mark'], vl_json['encoding']\n",
    "print(vl_json)\n",
    "png_data = vlc.vegalite_to_png(vl_spec=vl_json, scale=2)\n",
    "with open(\"Trend-Line-Bound.png\", \"wb\") as f:\n",
    "    f.write(png_data)"
   ]
  },
  {
   "cell_type": "code",
   "execution_count": 457,
   "metadata": {},
   "outputs": [],
   "source": [
    "vl_spec=r'''\n",
    "{\n",
    "  \"config\": {\n",
    "    \"background\": \"#fff\",\n",
    "    \"area\": {\"fill\": \"#4572a7\"},\n",
    "    \"line\": {\"stroke\": \"#4572a7\", \"strokeWidth\": 2},\n",
    "    \"rect\": {\"fill\": \"#4572a7\"},\n",
    "    \"bar\": {\"fill\": \"#4572a7\"},\n",
    "    \"point\": {\"color\": \"#4572a7\", \"strokeWidth\": 1.5, \"size\": 50},\n",
    "    \"axis\": {\n",
    "      \"bandPosition\": 0.5,\n",
    "      \"gridColor\": \"#000000\",\n",
    "      \"gridOpacity\": 1,\n",
    "      \"gridWidth\": 0.5,\n",
    "      \"labelPadding\": 10,\n",
    "      \"tickSize\": 5,\n",
    "      \"tickWidth\": 0.5\n",
    "    },\n",
    "    \"axisBand\": {},\n",
    "    \"legend\": {\n",
    "      \"labelBaseline\": \"middle\",\n",
    "      \"labelFontSize\": 11,\n",
    "      \"symbolSize\": 50,\n",
    "      \"symbolType\": \"square\"\n",
    "    },\n",
    "    \"range\": {\n",
    "      \"category\": [\n",
    "        \"#4572a7\",\n",
    "        \"#aa4643\",\n",
    "        \"#8aa453\",\n",
    "        \"#71598e\",\n",
    "        \"#4598ae\",\n",
    "        \"#d98445\",\n",
    "        \"#94aace\",\n",
    "        \"#d09393\",\n",
    "        \"#b9cc98\",\n",
    "        \"#a99cbc\"\n",
    "      ]\n",
    "    }\n",
    "  },\n",
    "  \"data\": {\n",
    "    \"url\": \"https://raw.githubusercontent.com/vis-nlp/Chart-to-text/main/statista_dataset/dataset/data/12287.csv\"\n",
    "  },\n",
    "  \"mark\": \"line\",\n",
    "  \"encoding\": {\n",
    "    \"color\": {\"value\": \"#d98445\"},\n",
    "    \"x\": {\"type\": \"temporal\", \"axis\": {}, \"field\": \"Year\"},\n",
    "    \"y\": {\n",
    "      \"type\": \"quantitative\",\n",
    "      \"axis\": {\n",
    "        \"labelAngle\": -45,\n",
    "        \"title\": \"Operating profit in million Swiss francs\"\n",
    "      },\n",
    "      \"field\": \"Operating profit in million Swiss francs\"\n",
    "    }\n",
    "  },\n",
    "  \"title\": [\n",
    "    \"Operating profit of Roche Group from 2007 to 2019\",\n",
    "    \"(in million Swiss francs)\"\n",
    "  ],\n",
    "  \"$schema\": \"https://vega.github.io/schema/vega-lite/v4.8.1.json\"\n",
    "}\n",
    "'''"
   ]
  },
  {
   "cell_type": "code",
   "execution_count": 458,
   "metadata": {},
   "outputs": [],
   "source": [
    "png_data = vlc.vegalite_to_png(vl_spec=vl_spec, scale=2)\n",
    "with open(\"Sample-Line-Compare.png\", \"wb\") as f:\n",
    "    f.write(png_data)"
   ]
  },
  {
   "cell_type": "code",
   "execution_count": 459,
   "metadata": {},
   "outputs": [
    {
     "name": "stdout",
     "output_type": "stream",
     "text": [
      "{'config': {'background': '#fff', 'area': {'fill': '#4572a7'}, 'line': {'stroke': '#4572a7', 'strokeWidth': 2}, 'rect': {'fill': '#4572a7'}, 'bar': {'fill': '#4572a7'}, 'point': {'color': '#4572a7', 'strokeWidth': 1.5, 'size': 50}, 'axis': {'bandPosition': 0.5, 'gridColor': '#000000', 'gridOpacity': 1, 'gridWidth': 0.5, 'labelPadding': 10, 'tickSize': 5, 'tickWidth': 0.5}, 'axisBand': {}, 'legend': {'labelBaseline': 'middle', 'labelFontSize': 11, 'symbolSize': 50, 'symbolType': 'square'}, 'range': {'category': ['#4572a7', '#aa4643', '#8aa453', '#71598e', '#4598ae', '#d98445', '#94aace', '#d09393', '#b9cc98', '#a99cbc']}}, 'data': {'url': 'https://raw.githubusercontent.com/vis-nlp/Chart-to-text/main/statista_dataset/dataset/data/12287.csv', 'format': {'type': 'csv', 'parse': {'Year': \"date:'%Y'\"}}}, 'title': ['Operating profit of Roche Group from 2007 to 2019', '(in million Swiss francs)'], '$schema': 'https://vega.github.io/schema/vega-lite/v4.8.1.json', 'layer': [{'mark': 'line', 'encoding': {'color': {'value': '#d98445'}, 'x': {'type': 'temporal', 'axis': {}, 'field': 'Year'}, 'y': {'type': 'quantitative', 'axis': {'labelAngle': -45, 'title': 'Operating profit in million Swiss francs'}, 'field': 'Operating profit in million Swiss francs'}}}, {'mark': {'type': 'point', 'filled': True}, 'transform': [{'filter': \"year(datum['Year']) == 2008\"}], 'encoding': {'color': {'value': '#267bba'}, 'x': {'type': 'temporal', 'field': 'Year'}, 'y': {'type': 'quantitative', 'field': 'Operating profit in million Swiss francs'}}}, {'mark': {'type': 'point', 'filled': True}, 'transform': [{'filter': \"year(datum['Year']) == 2018\"}], 'encoding': {'color': {'value': '#267bba'}, 'x': {'type': 'temporal', 'field': 'Year'}, 'y': {'type': 'quantitative', 'field': 'Operating profit in million Swiss francs'}}}]}\n"
     ]
    }
   ],
   "source": [
    "vl_json=json.loads(vl_spec)\n",
    "vl_json[\"layer\"] = [{ 'mark': vl_json['mark'], 'encoding': vl_json['encoding'] }]\n",
    "vl_json=LineMark(vl_json,\"Year\", \"Operating profit in million Swiss francs\", \"temporal\", \"quantitative\", 2008)\n",
    "vl_json=LineMark(vl_json,\"Year\", \"Operating profit in million Swiss francs\", \"temporal\", \"quantitative\", 2018)\n",
    "del vl_json['mark'], vl_json['encoding']\n",
    "print(vl_json)\n",
    "png_data = vlc.vegalite_to_png(vl_spec=vl_json, scale=2)\n",
    "with open(\"Compare-Line-Mark.png\", \"wb\") as f:\n",
    "    f.write(png_data)"
   ]
  },
  {
   "cell_type": "code",
   "execution_count": 460,
   "metadata": {},
   "outputs": [
    {
     "name": "stdout",
     "output_type": "stream",
     "text": [
      "{'config': {'background': '#fff', 'area': {'fill': '#4572a7'}, 'line': {'stroke': '#4572a7', 'strokeWidth': 2}, 'rect': {'fill': '#4572a7'}, 'bar': {'fill': '#4572a7'}, 'point': {'color': '#4572a7', 'strokeWidth': 1.5, 'size': 50}, 'axis': {'bandPosition': 0.5, 'gridColor': '#000000', 'gridOpacity': 1, 'gridWidth': 0.5, 'labelPadding': 10, 'tickSize': 5, 'tickWidth': 0.5}, 'axisBand': {}, 'legend': {'labelBaseline': 'middle', 'labelFontSize': 11, 'symbolSize': 50, 'symbolType': 'square'}, 'range': {'category': ['#4572a7', '#aa4643', '#8aa453', '#71598e', '#4598ae', '#d98445', '#94aace', '#d09393', '#b9cc98', '#a99cbc']}}, 'data': {'url': 'https://raw.githubusercontent.com/vis-nlp/Chart-to-text/main/statista_dataset/dataset/data/12287.csv', 'format': {'type': 'csv', 'parse': {'Year': \"date:'%Y'\"}}}, 'title': ['Operating profit of Roche Group from 2007 to 2019', '(in million Swiss francs)'], '$schema': 'https://vega.github.io/schema/vega-lite/v4.8.1.json', 'layer': [{'mark': 'line', 'encoding': {'color': {'value': '#d98445'}, 'x': {'type': 'temporal', 'axis': {}, 'field': 'Year'}, 'y': {'type': 'quantitative', 'axis': {'labelAngle': -45, 'title': 'Operating profit in million Swiss francs'}, 'field': 'Operating profit in million Swiss francs'}}}, {'mark': {'type': 'text', 'filled': True, 'angle': 0, 'fontSize': 14, 'dy': -10}, 'transform': [{'filter': \"year(datum['Year']) == 2008\"}], 'encoding': {'text': {'value': 'lower'}, 'color': {'value': '#267bba'}, 'x': {'type': 'temporal', 'field': 'Year'}, 'y': {'type': 'quantitative', 'field': 'Operating profit in million Swiss francs'}}}, {'mark': {'type': 'text', 'filled': True, 'angle': 0, 'fontSize': 14, 'dy': -10}, 'transform': [{'filter': \"year(datum['Year']) == 2018\"}], 'encoding': {'text': {'value': 'higher'}, 'color': {'value': '#267bba'}, 'x': {'type': 'temporal', 'field': 'Year'}, 'y': {'type': 'quantitative', 'field': 'Operating profit in million Swiss francs'}}}]}\n"
     ]
    }
   ],
   "source": [
    "vl_json=json.loads(vl_spec)\n",
    "vl_json[\"layer\"] = [{ 'mark': vl_json['mark'], 'encoding': vl_json['encoding'] }]\n",
    "vl_json=LineText(vl_json,\"Year\", \"Operating profit in million Swiss francs\", \"temporal\", \"quantitative\", 2008,\"lower\")\n",
    "vl_json=LineText(vl_json,\"Year\", \"Operating profit in million Swiss francs\", \"temporal\", \"quantitative\", 2018,\"higher\")\n",
    "del vl_json['mark'], vl_json['encoding']\n",
    "print(vl_json)\n",
    "png_data = vlc.vegalite_to_png(vl_spec=vl_json, scale=2)\n",
    "with open(\"Compare-Line-Text.png\", \"wb\") as f:\n",
    "    f.write(png_data)"
   ]
  },
  {
   "cell_type": "code",
   "execution_count": 461,
   "metadata": {},
   "outputs": [
    {
     "name": "stdout",
     "output_type": "stream",
     "text": [
      "{'config': {'background': '#fff', 'area': {'fill': '#4572a7'}, 'line': {'stroke': '#4572a7', 'strokeWidth': 2}, 'rect': {'fill': '#4572a7'}, 'bar': {'fill': '#4572a7'}, 'point': {'color': '#4572a7', 'strokeWidth': 1.5, 'size': 50}, 'axis': {'bandPosition': 0.5, 'gridColor': '#000000', 'gridOpacity': 1, 'gridWidth': 0.5, 'labelPadding': 10, 'tickSize': 5, 'tickWidth': 0.5}, 'axisBand': {}, 'legend': {'labelBaseline': 'middle', 'labelFontSize': 11, 'symbolSize': 50, 'symbolType': 'square'}, 'range': {'category': ['#4572a7', '#aa4643', '#8aa453', '#71598e', '#4598ae', '#d98445', '#94aace', '#d09393', '#b9cc98', '#a99cbc']}}, 'data': {'url': 'https://raw.githubusercontent.com/vis-nlp/Chart-to-text/main/statista_dataset/dataset/data/12287.csv'}, 'title': ['Operating profit of Roche Group from 2007 to 2019', '(in million Swiss francs)'], '$schema': 'https://vega.github.io/schema/vega-lite/v4.8.1.json', 'layer': [{'mark': 'line', 'encoding': {'color': {'value': '#d98445'}, 'x': {'type': 'temporal', 'axis': {}, 'field': 'Year'}, 'y': {'type': 'quantitative', 'axis': {'labelAngle': -45, 'title': 'Operating profit in million Swiss francs'}, 'field': 'Operating profit in million Swiss francs'}}}, {'mark': 'line', 'encoding': {'color': {'value': '#267bba'}, 'x': {'type': 'temporal', 'axis': {}, 'field': 'Year'}, 'y': {'type': 'quantitative', 'axis': {'labelAngle': -45, 'title': 'Operating profit in million Swiss francs'}, 'field': 'Operating profit in million Swiss francs'}}, 'transform': [{'filter': \"year(datum['Year']) >= 2007 && year(datum['Year']) <= 2008\"}]}, {'mark': 'line', 'encoding': {'color': {'value': '#267bba'}, 'x': {'type': 'temporal', 'axis': {}, 'field': 'Year'}, 'y': {'type': 'quantitative', 'axis': {'labelAngle': -45, 'title': 'Operating profit in million Swiss francs'}, 'field': 'Operating profit in million Swiss francs'}}, 'transform': [{'filter': \"year(datum['Year']) >= 2017 && year(datum['Year']) <= 2018\"}]}]}\n"
     ]
    }
   ],
   "source": [
    "vl_json=json.loads(vl_spec)\n",
    "vl_json[\"layer\"] = [{ 'mark': vl_json['mark'], 'encoding': vl_json['encoding'] }]\n",
    "vl_json=LineColor(vl_json,\"Year\", \"Operating profit in million Swiss francs\", \"temporal\", \"quantitative\", 2008,'left_and_right',2009)\n",
    "vl_json=LineColor(vl_json,\"Year\", \"Operating profit in million Swiss francs\", \"temporal\", \"quantitative\", 2018,'left_and_right',2019)\n",
    "del vl_json['mark'], vl_json['encoding']\n",
    "print(vl_json)\n",
    "png_data = vlc.vegalite_to_png(vl_spec=vl_json, scale=2)\n",
    "with open(\"Compare-Line-Color.png\", \"wb\") as f:\n",
    "    f.write(png_data)"
   ]
  },
  {
   "cell_type": "code",
   "execution_count": 462,
   "metadata": {},
   "outputs": [
    {
     "name": "stdout",
     "output_type": "stream",
     "text": [
      "{'config': {'background': '#fff', 'area': {'fill': '#4572a7'}, 'line': {'stroke': '#4572a7', 'strokeWidth': 2}, 'rect': {'fill': '#4572a7'}, 'bar': {'fill': '#4572a7'}, 'point': {'color': '#4572a7', 'strokeWidth': 1.5, 'size': 50}, 'axis': {'bandPosition': 0.5, 'gridColor': '#000000', 'gridOpacity': 1, 'gridWidth': 0.5, 'labelPadding': 10, 'tickSize': 5, 'tickWidth': 0.5}, 'axisBand': {}, 'legend': {'labelBaseline': 'middle', 'labelFontSize': 11, 'symbolSize': 50, 'symbolType': 'square'}, 'range': {'category': ['#4572a7', '#aa4643', '#8aa453', '#71598e', '#4598ae', '#d98445', '#94aace', '#d09393', '#b9cc98', '#a99cbc']}}, 'data': {'url': 'https://raw.githubusercontent.com/vis-nlp/Chart-to-text/main/statista_dataset/dataset/data/12287.csv'}, 'title': ['Operating profit of Roche Group from 2007 to 2019', '(in million Swiss francs)'], '$schema': 'https://vega.github.io/schema/vega-lite/v4.8.1.json', 'layer': [{'mark': 'line', 'encoding': {'color': {'value': '#d98445'}, 'x': {'type': 'temporal', 'axis': {}, 'field': 'Year'}, 'y': {'type': 'quantitative', 'axis': {'labelAngle': -45, 'title': 'Operating profit in million Swiss francs'}, 'field': 'Operating profit in million Swiss francs'}, 'opacity': {'value': 0.4}}}, {'mark': 'line', 'encoding': {'color': {'value': '#d98445'}, 'x': {'type': 'temporal', 'axis': {}, 'field': 'Year'}, 'y': {'type': 'quantitative', 'axis': {'labelAngle': -45, 'title': 'Operating profit in million Swiss francs'}, 'field': 'Operating profit in million Swiss francs'}, 'opacity': {'value': 1}}, 'transform': [{'filter': \"year(datum['Year']) >= 2007 && year(datum['Year']) <= 2008\"}]}, {'mark': 'line', 'encoding': {'color': {'value': '#d98445'}, 'x': {'type': 'temporal', 'axis': {}, 'field': 'Year'}, 'y': {'type': 'quantitative', 'axis': {'labelAngle': -45, 'title': 'Operating profit in million Swiss francs'}, 'field': 'Operating profit in million Swiss francs'}, 'opacity': {'value': 1}}, 'transform': [{'filter': \"year(datum['Year']) >= 2017 && year(datum['Year']) <= 2018\"}]}]}\n"
     ]
    }
   ],
   "source": [
    "vl_json=json.loads(vl_spec)\n",
    "vl_json[\"layer\"] = [{ 'mark': vl_json['mark'], 'encoding': vl_json['encoding'] }]\n",
    "vl_json=LineOpacity(vl_json,\"Year\", \"Operating profit in million Swiss francs\", \"temporal\", \"quantitative\", 2008,'left_and_right',2009)\n",
    "vl_json=LineOpacity(vl_json,\"Year\", \"Operating profit in million Swiss francs\", \"temporal\", \"quantitative\", 2018,'left_and_right',2019)\n",
    "del vl_json['mark'], vl_json['encoding']\n",
    "print(vl_json)\n",
    "png_data = vlc.vegalite_to_png(vl_spec=vl_json, scale=2)\n",
    "with open(\"Compare-Line-Opacity.png\", \"wb\") as f:\n",
    "    f.write(png_data)"
   ]
  }
 ],
 "metadata": {
  "kernelspec": {
   "display_name": "talk2chart",
   "language": "python",
   "name": "python3"
  },
  "language_info": {
   "codemirror_mode": {
    "name": "ipython",
    "version": 3
   },
   "file_extension": ".py",
   "mimetype": "text/x-python",
   "name": "python",
   "nbconvert_exporter": "python",
   "pygments_lexer": "ipython3",
   "version": "3.12.3"
  }
 },
 "nbformat": 4,
 "nbformat_minor": 2
}
