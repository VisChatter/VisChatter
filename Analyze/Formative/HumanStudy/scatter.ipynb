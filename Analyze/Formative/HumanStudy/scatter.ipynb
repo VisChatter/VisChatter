{
 "cells": [
  {
   "cell_type": "code",
   "execution_count": 82,
   "metadata": {},
   "outputs": [],
   "source": [
    "import vl_convert as vlc\n",
    "import json\n",
    "import copy\n",
    "import pandas as pd"
   ]
  },
  {
   "cell_type": "code",
   "execution_count": 83,
   "metadata": {},
   "outputs": [],
   "source": [
    "normalize={'date':'date','Date':'date','day':'date','Day':'date','month':'month','Month':'month','year':'year','Year':'year'}\n",
    "time_format={'date':'D','Date':'D','day':'D','Day':'D','month':'M','Month':'M','year':'Y','Year':'Y'}\n",
    "def get_opposite_color(hex_color):\n",
    "\thex_color = hex_color.lstrip('#')\n",
    "\tr = int(hex_color[0:2], 16)\n",
    "\tg = int(hex_color[2:4], 16)\n",
    "\tb = int(hex_color[4:6], 16)\n",
    "\tr = 255 - r\n",
    "\tg = 255 - g\n",
    "\tb = 255 - b\n",
    "\tr_hex = format(r, '02x')\n",
    "\tg_hex = format(g, '02x')\n",
    "\tb_hex = format(b, '02x')\n",
    "\treturn f\"#{r_hex}{g_hex}{b_hex}\"\n",
    "def remove_lonely_numbers(lst):\n",
    "\tresult = []\n",
    "\tlst=sorted(lst)\n",
    "\tfor i in range(len(lst)):\n",
    "\t\tif (i == 0):\n",
    "\t\t\tif (lst[i+1] - lst[i] == 1):  \n",
    "\t\t\t\tresult.append(lst[i])\n",
    "\t\tif (i == len(lst) - 1):\n",
    "\t\t\tif(lst[i] - lst[i-1] == 1):\n",
    "\t\t\t\tresult.append(lst[i])\n",
    "\t\tif  (i!=0 and i!=len(lst)-1):\n",
    "\t\t\tif (lst[i] - lst[i-1] == 1) | (lst[i+1] - lst[i] == 1):\n",
    "\t\t\t\tresult.append(lst[i])\n",
    "\treturn result\n",
    "\n",
    "def generate_conditions(numlist,mainField):\n",
    "\tfiltered_years = remove_lonely_numbers(numlist)\n",
    "\tprint(filtered_years)\n",
    "\tranges = []\n",
    "\tstart = None\n",
    "\tfor year in filtered_years:\n",
    "\t\tif start is None:\n",
    "\t\t\tstart = year\n",
    "\t\telif year + 1 not in filtered_years:\n",
    "\t\t\tend = year\n",
    "\t\t\tif start != end:\n",
    "\t\t\t\tranges.append((start, end))\n",
    "\t\t\tstart = None\n",
    "\tif start is not None:\n",
    "\t\tend = filtered_years[-1]\n",
    "\t\tif start != end:\n",
    "\t\t\tranges.append((start, end))\n",
    "\tconditions = [f\"({normalize[mainField]}(datum['{mainField}']) >= {start-1} && {normalize[mainField]}(datum['{mainField}']) <= {end-1})\" for start, end in ranges ]\n",
    "\treturn conditions\n",
    "\n",
    "def ScatterMark(vega,mainField, subField, mainType, subType, value1,value2,mark=0,angle=0):\n",
    "\t# newcolor = get_opposite_color(vega[\"encoding\"][\"color\"][\"value\"])\n",
    "\tnewcolor='red'\n",
    "\tif mark==0:\n",
    "\t\tif mainType == 'temporal':\n",
    "\t\t\t# vega[\"data\"][\"format\"]= {\"type\": \"csv\", \"parse\": {f'{mainField}': f\"date:'%{time_format[mainField]}'\"}}\n",
    "\t\t\tvega[\"layer\"].append( {\n",
    "\t\t\t\"mark\": {\"type\": \"point\", \"filled\": True},\n",
    "\t\t\t\"transform\": [{\"filter\": f\"{normalize[mainField]}(datum['{mainField}']) == {value1} && {normalize[subField]}(datum['{subField}']) == {value2}\"}],\n",
    "\t\t\t\"encoding\": {\n",
    "\t\t\t\t\"color\": {\"value\": newcolor},\n",
    "\t\t\t\t\"x\": {\"type\": mainType, \"field\": mainField},\n",
    "\t\t\t\t\"y\": {\"type\": subType, \"field\": subField}\n",
    "\t\t\t}})\n",
    "\t\telse:\n",
    "\t\t\tvega[\"layer\"].append( {\n",
    "\t\t\t\t\"mark\": {\"type\": \"point\", \"filled\": True},\n",
    "\t\t\t\t\"transform\": [{\"filter\": f\"datum['{mainField}'] == {value1} && datum['{subField}'] == {value2}\"}], \n",
    "\t\t\t\t\"encoding\": {\n",
    "\t\t\t\t\t\"color\": {\"value\": newcolor},\n",
    "\t\t\t\t\t\"size\": {\"value\": 100},\n",
    "\t\t\t\t\t\"x\": {\"type\": mainType, \"field\": mainField, \"axis\": {}, \"bin\": False},\n",
    "\t\t\t\t\t\"y\": {\"type\": subType, \"field\": subField}\n",
    "\t\t\t\t}})\n",
    "\telse:\n",
    "\t\tvega[\"layer\"].append( {\n",
    "\t\t\t\t\"mark\": {\"type\": \"text\", 'angle':angle},\n",
    "\t\t\t\t\"transform\": [{\"filter\": f\"datum['{mainField}'] == {value1} && datum['{subField}'] == {value2}\"}], \n",
    "\t\t\t\t\"encoding\": {\n",
    "\t\t\t\"text\" :{\"value\": mark},\n",
    "\t\t\t\"color\": {\"value\": newcolor},\n",
    "\t\t\t\"x\": {\"type\": mainType, \"field\": mainField},\n",
    "\t\t\t\"y\": {\"type\": subType, \"field\": subField},\n",
    "\t\t\t\"fontSize\":{\"value\":100}\n",
    "\t\t}})\n",
    "\treturn vega\n",
    "\n",
    "def ScatterText(vega,mainField, subField, mainType, subType, value1,value2, text,degree=0,dy=-10):\n",
    "\t# newcolor = get_opposite_color(vega[\"encoding\"][\"color\"][\"value\"])\n",
    "\tnewcolor='black'\n",
    "\tsize=14\n",
    "\tif degree!=0:\n",
    "\t\tsize=100\n",
    "\tif mainType == 'temporal':\n",
    "\t\tvega[\"data\"][\"format\"]= {\"type\": \"csv\", \"parse\": {f'{mainField}': f\"date:'%{time_format[mainField]}'\"}}\n",
    "\t\tvega[\"layer\"].append( {\n",
    "\t\t\"mark\": {\"type\": \"text\", \"filled\": True,\"fontSize\":size,'angle':degree,'dy':dy},\n",
    "\t\t\"transform\": [{\"filter\": f\"{normalize[mainField]}(datum['{mainField}']) == {value1} && {normalize[subField]}(datum['{subField}']) == {value2}\"}],\n",
    "\t\t\"encoding\": {\n",
    "\t\t\t\"text\" :{\"value\": text},\n",
    "\t\t\t\"color\": {\"value\": newcolor},\n",
    "\t\t\t\"x\": {\"type\": mainType, \"field\": mainField},\n",
    "\t\t\t\"y\": {\"type\": subType, \"field\": subField},\n",
    "\t\t\t\"fontSize\":{\"value\":size}\n",
    "\t\t}})\n",
    "\telse:\n",
    "\t\tvega[\"layer\"].append( {\n",
    "\t\t\t\"mark\": {\"type\": \"text\", \"filled\": True,\"fontsize\":size,'angle':degree,'dy':dy},\n",
    "\t\t\t\"transform\": [{\"filter\": f\"datum['{mainField}'] == {value1} && datum['{subField}'] == {value2}\"}], # type: ignore\n",
    "\t\t\t\"encoding\": {\n",
    "\t\t\t\t\"text\" :{\"value\": text},\n",
    "\t\t\t\t\"color\": {\"value\": newcolor},\n",
    "\t\t\t\t\"x\": {\"type\": mainType, \"field\": mainField},\n",
    "\t\t\t\t\"y\": {\"type\": subType, \"field\": subField},\n",
    "\t\t\t\t\"fontSize\":{\"value\":size}\n",
    "\t\t\t}})\n",
    "\treturn vega\n",
    "def ScatterLine(vega,mainField, subField, mainType, subType, value,value1=0,subValue=0,subValue1=0):\n",
    "\t# newcolor = get_opposite_color(vega[\"encoding\"][\"color\"][\"value\"])\n",
    "\tnewcolor='red'\n",
    "\tif subValue==0:\n",
    "\t\tif vega[\"encoding\"][\"x\"][\"field\"] == subField:\n",
    "\t\t\tvega[\"layer\"].append({ \"data\": { \"values\": [{}] }, \"mark\": { \"type\": \"rule\", \"color\": newcolor }, \"encoding\": { \"x\": { \"datum\": value } } })\n",
    "\t\t\tif value1!=0:\n",
    "\t\t\t\tvega[\"layer\"].append({ \"data\": { \"values\": [{}] }, \"mark\": { \"type\": \"rule\", \"color\": newcolor }, \"encoding\": { \"x\": { \"datum\": value1 } } })\n",
    "\t\telse:\n",
    "\t\t\tvega[\"layer\"].append({ \"data\": { \"values\": [{}] }, \"mark\": { \"type\": \"rule\", \"color\": newcolor }, \"encoding\": { \"y\": { \"datum\": value } } })\n",
    "\t\t\tif value1!=0:\n",
    "\t\t\t\tvega[\"layer\"].append({ \"data\": { \"values\": [{}] }, \"mark\": { \"type\": \"rule\", \"color\": newcolor }, \"encoding\": { \"y\": { \"datum\": value1 } } })\n",
    "\telse:\n",
    "\t\tvega[\"layer\"].append({\n",
    "\t  \"data\": {\n",
    "\t\t\"values\": [\n",
    "\t\t  {\"PlotX1\": value, \"PlotY1\": value1, \"PlotX2\": subValue, \"PlotY2\": subValue1}\n",
    "\t\t]\n",
    "\t  },\n",
    "\t  \"mark\": {\n",
    "\t\t\"type\": \"rule\",\n",
    "\t\t\"stroke\": newcolor\n",
    "\t  },\n",
    "\t  \"encoding\": {\n",
    "\t\t\"x\": {\"field\": \"PlotX1\", \"type\": mainType},\n",
    "\t\t\"y\": {\"field\": \"PlotY1\", \"type\": subType},\n",
    "\t\t\"x2\": {\"field\": \"PlotX2\", \"type\": mainType},\n",
    "\t\t\"y2\": {\"field\": \"PlotY2\", \"type\": subType}\n",
    "\t  }\n",
    "\t})\n",
    "\n",
    "\treturn vega\n",
    "def ScatterColor(vega,mainField, subField, mainType, subType, value, condition,value1=0):\n",
    "\t# newcolor = get_opposite_color(vega[\"encoding\"][\"color\"][\"value\"])\n",
    "\tnewcolor='red'\n",
    "\tnew_layer = copy.deepcopy(vega[\"layer\"][0])\n",
    "\tif condition == 'equal':\n",
    "\t\tnew_layer[\"transform\"] = [{\"filter\": f\"datum['{mainField}'] == {value} && datum['{subField}'] == {value1}\"}]\n",
    "\telif condition == 'above':\n",
    "\t\tnew_layer[\"transform\"] = [{\"filter\": f\"datum['{subField}'] >= {value}\"}]\n",
    "\telif condition == 'below':\n",
    "\t\tnew_layer[\"transform\"] = [{\"filter\": f\"datum['{subField}'] <= {value}\"}]\n",
    "\telif condition == 'above_and_below':\n",
    "\t\tnew_layer[\"transform\"] = [{\"filter\": f\"datum['{subField}'] >= {value} && datum['{subField}'] <= {value1}\"}]\n",
    "\telif condition == 'left_bound':\n",
    "\t\tnew_layer[\"transform\"] = [{\"filter\": f\"datum['{mainField}'] >= {value}\"}]\n",
    "\telif condition == 'right_bound':\n",
    "\t\tnew_layer[\"transform\"] = [{\"filter\": f\"datum['{mainField}'] <= {value}\"}]\n",
    "\telif condition == 'left_and_right':\n",
    "\t\tnew_layer[\"transform\"] = [{\"filter\": f\"datum['{mainField}'] >= {value} && datum['{mainField}'] <= {value1}\"}]\n",
    "\telif condition == 'compare':\n",
    "\t\tnew_layer[\"transform\"] = [{\"filter\": f\"datum['{mainField}'] == {value} || datum['{mainField}'] == {value1}\"}]\n",
    "\n",
    "\tnew_layer[\"encoding\"][\"color\"]={\"value\": 'red'}\n",
    "\tvega[\"layer\"].append(new_layer)\n",
    "\treturn vega\n",
    "def ScatterOpacity(vega,mainField, subField, mainType, subType, value,condition,value1=0):\n",
    "\tvega[\"layer\"][0][\"encoding\"][\"opacity\"]={\"value\": 0.1}\n",
    "\tnew_layer = copy.deepcopy(vega[\"layer\"][0])\n",
    "\tif condition == 'equal':\n",
    "\t\tnew_layer[\"transform\"] = [{\"filter\": f\"datum['{mainField}'] == {value} && datum['{subField}'] == {value1}\"}]\n",
    "\telif condition == 'above':\n",
    "\t\tnew_layer[\"transform\"] = [{\"filter\": f\"datum['{subField}'] >= {value}\"}]\n",
    "\telif condition == 'below':\n",
    "\t\tnew_layer[\"transform\"] = [{\"filter\": f\"datum['{subField}'] <= {value}\"}]\n",
    "\telif condition == 'above_and_below':\n",
    "\t\tnew_layer[\"transform\"] = [{\"filter\": f\"datum['{subField}'] >= {value} && datum['{subField}'] <= {value1}\"}]\n",
    "\telif condition == 'left_bound':\n",
    "\t\tnew_layer[\"transform\"] = [{\"filter\": f\"datum['{mainField}'] >= {value}\"}]\n",
    "\telif condition == 'right_bound':\n",
    "\t\tnew_layer[\"transform\"] = [{\"filter\": f\"datum['{mainField}'] <= {value}\"}]\n",
    "\telif condition == 'left_and_right':\n",
    "\t\tnew_layer[\"transform\"] = [{\"filter\": f\"datum['{mainField}'] >= {value} && datum['{mainField}'] <= {value1}\"}]\n",
    "\telif condition == 'compare':\n",
    "\t\tnew_layer[\"transform\"] = [{\"filter\": f\"datum['{mainField}'] == {value} || datum['{mainField}'] == {value1}\"}]\n",
    "\t\t\t\t\n",
    "\tnew_layer[\"encoding\"][\"opacity\"]={\"value\": 1}\n",
    "\tvega[\"layer\"].append(new_layer)\n",
    "\treturn vega\n",
    "\n",
    "def ScatterArea(vega,mainField, subField, mainType, subType, value,value1=0,subValue=0,subValue1=0,shade=True):\n",
    "\t# newcolor = get_opposite_color(vega[\"encoding\"][\"color\"][\"value\"])\n",
    "\tnewcolor='red'\n",
    "\t# df = pd.read_csv(vega[\"data\"][\"url\"])\n",
    "\tif shade==True:\n",
    "\t\tstroke=0\n",
    "\t\topacity=0.2\n",
    "\telse:\n",
    "\t\tstroke=2\n",
    "\t\topacity=0\n",
    "\n",
    "\tvega[\"layer\"].append({\n",
    "\t  \"data\": {\n",
    "\t\t\"values\": [\n",
    "\t\t  {\"PlotX1\": value, \"PlotY1\": value1, \"PlotX2\": subValue, \"PlotY2\": subValue1}\n",
    "\t\t]\n",
    "\t  },\n",
    "\t\t\"mark\": {\"type\": \"rect\", \"color\": newcolor,\"stroke\":newcolor,\"fillOpacity\":opacity,\"strokeWidth\":stroke},\n",
    "\t  \"encoding\": {\n",
    "\t\t\"x\": {\"field\": \"PlotX1\", \"type\": mainType},\n",
    "\t\t\"y\": {\"field\": \"PlotY1\", \"type\": subType},\n",
    "\t\t\"x2\": {\"field\": \"PlotX2\", \"type\": mainType},\n",
    "\t\t\"y2\": {\"field\": \"PlotY2\", \"type\": subType}\n",
    "\t}})\n",
    "\treturn vega\n",
    "\n",
    "def ScatterRegression(vega,mainField,subField,width=2,alpha=1,box=False):\n",
    "\tnewcolor='red'\n",
    "\tnew_layer = copy.deepcopy(vega[\"layer\"][0])\n",
    "\tnew_layer['encoding']['color']= {\"value\":newcolor}\n",
    "\tnew_layer['transform']=[{\"regression\": subField,\"on\": mainField}]\n",
    "\tnew_layer['mark']='line'\n",
    "\tnew_layer['encoding'][\"strokeWidth\"]={\"value\":width}\n",
    "\tnew_layer['encoding'][\"opacity\"]={\"value\": alpha}\n",
    "\tif box:\n",
    "\t\tnew_new_layer=copy.deepcopy(new_layer)\n",
    "\t\tnew_new_layer['encoding'][\"strokeWidth\"]={\"value\":width-2}\n",
    "\t\tnew_new_layer['encoding']['color']= {\"value\":'white'}\n",
    "\t\tvega[\"layer\"]=[new_layer,new_new_layer,vega[\"layer\"][0]]\n",
    "\telse:\n",
    "\t\tvega[\"layer\"].append(new_layer)\n",
    "\treturn vega\n",
    "\n",
    "def ScatterTrendColor(vega,mainField,subField,mainType,subType):\n",
    "\tnewcolor='red'\n",
    "\tnew_layer =vega[\"layer\"][0]\n",
    "\tnew_layer['encoding']['color']= {\"field\":mainField,\"type\":mainType,\"scale\": {\"scheme\": \"blueorange\"}}\n",
    "\treturn vega\n",
    "\n",
    "def ScatterTrendOpacity(vega,mainField,subField,mainType,subType):\n",
    "\tnewcolor='red'\n",
    "\tnew_layer =vega[\"layer\"][0]\n",
    "\tnew_layer['encoding']['color']= {\"field\":mainField,\"type\":mainType}\n",
    "\treturn vega"
   ]
  },
  {
   "cell_type": "code",
   "execution_count": 84,
   "metadata": {},
   "outputs": [],
   "source": [
    "vl_spec=r'''\n",
    "{\n",
    "\t\"$schema\": \"https://vega.github.io/schema/vega-lite/v5.json\",\n",
    "\t\"data\": {\"url\": \"https://raw.githubusercontent.com/vega/vega-datasets/main/data/cars.json\"},\n",
    "\t\"mark\": \"circle\",\n",
    "\t\"encoding\": {\n",
    "\t\t\"x\": {\"field\": \"Horsepower\", \"type\": \"quantitative\"},\n",
    "\t\t\"y\": {\"field\": \"Miles_per_Gallon\", \"type\": \"quantitative\"}\n",
    "\t},\n",
    "    \"title\":\"The horsepower and MPG of different cars\"\n",
    "}\n",
    "'''"
   ]
  },
  {
   "cell_type": "code",
   "execution_count": 85,
   "metadata": {},
   "outputs": [],
   "source": [
    "png_data = vlc.vegalite_to_png(vl_spec=vl_spec, scale=2)\n",
    "with open(\"Sample-Scatter-RetrieveValue.png\", \"wb\") as f:\n",
    "\tf.write(png_data)"
   ]
  },
  {
   "cell_type": "code",
   "execution_count": 86,
   "metadata": {},
   "outputs": [],
   "source": [
    "# vl_json=json.loads(vl_spec)\n",
    "# vl_json[\"layer\"] = [{ 'mark': vl_json['mark'], 'encoding': vl_json['encoding'] }]\n",
    "# vl_json=ScatterLine(vl_json, \"Horsepower\", \"Miles_per_Gallon\", \"quantitative\", \"quantitative\", 10)\n",
    "# del vl_json['mark'], vl_json['encoding']\n",
    "# print(vl_json)\n",
    "# png_data = vlc.vegalite_to_png(vl_spec=vl_json, scale=2)\n",
    "# with open(\"RetrieveValue-Scatter-Line.png\", \"wb\") as f:\n",
    "# \tf.write(png_data)"
   ]
  },
  {
   "cell_type": "code",
   "execution_count": 87,
   "metadata": {},
   "outputs": [
    {
     "name": "stdout",
     "output_type": "stream",
     "text": [
      "{'$schema': 'https://vega.github.io/schema/vega-lite/v5.json', 'data': {'url': 'https://raw.githubusercontent.com/vega/vega-datasets/main/data/cars.json'}, 'title': 'The horsepower and MPG of different cars', 'layer': [{'mark': 'circle', 'encoding': {'x': {'field': 'Horsepower', 'type': 'quantitative'}, 'y': {'field': 'Miles_per_Gallon', 'type': 'quantitative'}}}, {'mark': {'type': 'point', 'filled': True}, 'transform': [{'filter': \"datum['Horsepower'] == 165 && datum['Miles_per_Gallon'] == 15\"}], 'encoding': {'color': {'value': 'red'}, 'size': {'value': 100}, 'x': {'type': 'quantitative', 'field': 'Horsepower', 'axis': {}, 'bin': False}, 'y': {'type': 'quantitative', 'field': 'Miles_per_Gallon'}}}, {'mark': {'type': 'text', 'filled': True, 'fontsize': 14, 'angle': 0, 'dy': -10}, 'transform': [{'filter': \"datum['Horsepower'] == 165 && datum['Miles_per_Gallon'] == 15\"}], 'encoding': {'text': {'value': 'A'}, 'color': {'value': 'black'}, 'x': {'type': 'quantitative', 'field': 'Horsepower'}, 'y': {'type': 'quantitative', 'field': 'Miles_per_Gallon'}, 'fontSize': {'value': 14}}}]}\n"
     ]
    }
   ],
   "source": [
    "vl_json=json.loads(vl_spec)\n",
    "vl_json[\"layer\"] = [{ 'mark': vl_json['mark'], 'encoding': vl_json['encoding'] }]\n",
    "vl_json=ScatterMark(vl_json, \"Horsepower\", \"Miles_per_Gallon\", \"quantitative\", \"quantitative\", 165, 15)\n",
    "vl_json=ScatterText(vl_json, \"Horsepower\", \"Miles_per_Gallon\", \"quantitative\", \"quantitative\", 165, 15,'A')\n",
    "# vl_json=ScatterMark(vl_json, \"Horsepower\", \"Miles_per_Gallon\", \"quantitative\", \"quantitative\", 150, 18)\n",
    "# vl_json=ScatterText(vl_json, \"Horsepower\", \"Miles_per_Gallon\", \"quantitative\", \"quantitative\", 150, 18,'B')\n",
    "del vl_json['mark'], vl_json['encoding']\n",
    "print(vl_json)\n",
    "png_data = vlc.vegalite_to_png(vl_spec=vl_json, scale=2)\n",
    "with open(\"RetrieveValue-Scatter-Mark.png\", \"wb\") as f:\n",
    "\tf.write(png_data)"
   ]
  },
  {
   "cell_type": "code",
   "execution_count": 88,
   "metadata": {},
   "outputs": [
    {
     "name": "stdout",
     "output_type": "stream",
     "text": [
      "{'$schema': 'https://vega.github.io/schema/vega-lite/v5.json', 'data': {'url': 'https://raw.githubusercontent.com/vega/vega-datasets/main/data/cars.json'}, 'title': 'The horsepower and MPG of different cars', 'layer': [{'mark': 'circle', 'encoding': {'x': {'field': 'Horsepower', 'type': 'quantitative'}, 'y': {'field': 'Miles_per_Gallon', 'type': 'quantitative'}, 'opacity': {'value': 0.1}}}, {'mark': 'circle', 'encoding': {'x': {'field': 'Horsepower', 'type': 'quantitative'}, 'y': {'field': 'Miles_per_Gallon', 'type': 'quantitative'}, 'opacity': {'value': 1}}, 'transform': [{'filter': \"datum['Horsepower'] == 165 && datum['Miles_per_Gallon'] == 15\"}]}, {'mark': {'type': 'text', 'filled': True, 'fontsize': 14, 'angle': 0, 'dy': -10}, 'transform': [{'filter': \"datum['Horsepower'] == 165 && datum['Miles_per_Gallon'] == 15\"}], 'encoding': {'text': {'value': 'A'}, 'color': {'value': 'black'}, 'x': {'type': 'quantitative', 'field': 'Horsepower'}, 'y': {'type': 'quantitative', 'field': 'Miles_per_Gallon'}, 'fontSize': {'value': 14}}}]}\n"
     ]
    }
   ],
   "source": [
    "vl_json=json.loads(vl_spec)\n",
    "vl_json[\"layer\"] = [{ 'mark': vl_json['mark'], 'encoding': vl_json['encoding'] }]\n",
    "vl_json=ScatterOpacity(vl_json, \"Horsepower\", \"Miles_per_Gallon\", \"quantitative\", \"quantitative\", 165, 'equal',15)\n",
    "vl_json=ScatterText(vl_json, \"Horsepower\", \"Miles_per_Gallon\", \"quantitative\", \"quantitative\", 165, 15,'A')\n",
    "del vl_json['mark'], vl_json['encoding']\n",
    "print(vl_json)\n",
    "png_data = vlc.vegalite_to_png(vl_spec=vl_json, scale=2)\n",
    "with open(\"RetrieveValue-Scatter-Opacity.png\", \"wb\") as f:\n",
    "\tf.write(png_data)"
   ]
  },
  {
   "cell_type": "code",
   "execution_count": 89,
   "metadata": {},
   "outputs": [
    {
     "name": "stdout",
     "output_type": "stream",
     "text": [
      "{'$schema': 'https://vega.github.io/schema/vega-lite/v5.json', 'data': {'url': 'https://raw.githubusercontent.com/vega/vega-datasets/main/data/cars.json'}, 'title': 'The horsepower and MPG of different cars', 'layer': [{'mark': 'circle', 'encoding': {'x': {'field': 'Horsepower', 'type': 'quantitative'}, 'y': {'field': 'Miles_per_Gallon', 'type': 'quantitative'}}}, {'mark': 'circle', 'encoding': {'x': {'field': 'Horsepower', 'type': 'quantitative'}, 'y': {'field': 'Miles_per_Gallon', 'type': 'quantitative'}, 'color': {'value': 'red'}}, 'transform': [{'filter': \"datum['Horsepower'] == 165 && datum['Miles_per_Gallon'] == 15\"}]}, {'mark': {'type': 'text', 'filled': True, 'fontsize': 14, 'angle': 0, 'dy': -10}, 'transform': [{'filter': \"datum['Horsepower'] == 165 && datum['Miles_per_Gallon'] == 15\"}], 'encoding': {'text': {'value': 'A'}, 'color': {'value': 'black'}, 'x': {'type': 'quantitative', 'field': 'Horsepower'}, 'y': {'type': 'quantitative', 'field': 'Miles_per_Gallon'}, 'fontSize': {'value': 14}}}]}\n"
     ]
    }
   ],
   "source": [
    "vl_json=json.loads(vl_spec)\n",
    "vl_json[\"layer\"] = [{ 'mark': vl_json['mark'], 'encoding': vl_json['encoding'] }]\n",
    "vl_json=ScatterColor(vl_json, \"Horsepower\", \"Miles_per_Gallon\", \"quantitative\", \"quantitative\", 165,'equal',15)\n",
    "vl_json=ScatterText(vl_json, \"Horsepower\", \"Miles_per_Gallon\", \"quantitative\", \"quantitative\", 165, 15,'A')\n",
    "del vl_json['mark'], vl_json['encoding']\n",
    "print(vl_json)\n",
    "png_data = vlc.vegalite_to_png(vl_spec=vl_json, scale=2)\n",
    "with open(\"RetrieveValue-Scatter-Color.png\", \"wb\") as f:\n",
    "\tf.write(png_data)"
   ]
  },
  {
   "cell_type": "code",
   "execution_count": 90,
   "metadata": {},
   "outputs": [
    {
     "name": "stdout",
     "output_type": "stream",
     "text": [
      "{'$schema': 'https://vega.github.io/schema/vega-lite/v5.json', 'data': {'url': 'https://raw.githubusercontent.com/vega/vega-datasets/main/data/cars.json'}, 'title': 'The horsepower and MPG of different cars', 'layer': [{'mark': 'circle', 'encoding': {'x': {'field': 'Horsepower', 'type': 'quantitative'}, 'y': {'field': 'Miles_per_Gallon', 'type': 'quantitative'}}}, {'mark': {'type': 'text', 'filled': True, 'fontsize': 14, 'angle': 0, 'dy': -10}, 'transform': [{'filter': \"datum['Horsepower'] == 165 && datum['Miles_per_Gallon'] == 15\"}], 'encoding': {'text': {'value': '165,15'}, 'color': {'value': 'black'}, 'x': {'type': 'quantitative', 'field': 'Horsepower'}, 'y': {'type': 'quantitative', 'field': 'Miles_per_Gallon'}, 'fontSize': {'value': 14}}}, {'mark': {'type': 'text', 'filled': True, 'fontsize': 14, 'angle': 0, 'dy': 10}, 'transform': [{'filter': \"datum['Horsepower'] == 165 && datum['Miles_per_Gallon'] == 15\"}], 'encoding': {'text': {'value': 'A'}, 'color': {'value': 'black'}, 'x': {'type': 'quantitative', 'field': 'Horsepower'}, 'y': {'type': 'quantitative', 'field': 'Miles_per_Gallon'}, 'fontSize': {'value': 14}}}]}\n"
     ]
    }
   ],
   "source": [
    "vl_json=json.loads(vl_spec)\n",
    "vl_json[\"layer\"] = [{ 'mark': vl_json['mark'], 'encoding': vl_json['encoding'] }]\n",
    "vl_json=ScatterText(vl_json, \"Horsepower\", \"Miles_per_Gallon\", \"quantitative\", \"quantitative\", 165, 15,'165,15')\n",
    "vl_json=ScatterText(vl_json, \"Horsepower\", \"Miles_per_Gallon\", \"quantitative\", \"quantitative\", 165, 15,'A',dy=10)\n",
    "del vl_json['mark'], vl_json['encoding']\n",
    "print(vl_json)\n",
    "png_data = vlc.vegalite_to_png(vl_spec=vl_json, scale=2)\n",
    "with open(\"RetrieveValue-Scatter-Text.png\", \"wb\") as f:\n",
    "\tf.write(png_data)"
   ]
  },
  {
   "cell_type": "code",
   "execution_count": 91,
   "metadata": {},
   "outputs": [
    {
     "name": "stdout",
     "output_type": "stream",
     "text": [
      "{'$schema': 'https://vega.github.io/schema/vega-lite/v5.json', 'data': {'url': 'https://raw.githubusercontent.com/vega/vega-datasets/main/data/cars.json'}, 'title': 'The horsepower and MPG of different cars', 'layer': [{'mark': 'circle', 'encoding': {'x': {'field': 'Horsepower', 'type': 'quantitative'}, 'y': {'field': 'Miles_per_Gallon', 'type': 'quantitative'}}}, {'data': {'values': [{}]}, 'mark': {'type': 'rule', 'color': 'red'}, 'encoding': {'y': {'datum': 15}}}, {'data': {'values': [{'PlotX1': 165, 'PlotY1': 0, 'PlotX2': 165, 'PlotY2': 50}]}, 'mark': {'type': 'rule', 'stroke': 'red'}, 'encoding': {'x': {'field': 'PlotX1', 'type': 'quantitative'}, 'y': {'field': 'PlotY1', 'type': 'quantitative'}, 'x2': {'field': 'PlotX2', 'type': 'quantitative'}, 'y2': {'field': 'PlotY2', 'type': 'quantitative'}}}]}\n"
     ]
    }
   ],
   "source": [
    "vl_json=json.loads(vl_spec)\n",
    "vl_json[\"layer\"] = [{ 'mark': vl_json['mark'], 'encoding': vl_json['encoding'] }]\n",
    "vl_json=ScatterLine(vl_json, \"Horsepower\", \"Miles_per_Gallon\", \"quantitative\", \"quantitative\", 15)\n",
    "vl_json=ScatterLine(vl_json, \"Horsepower\", \"Miles_per_Gallon\", \"quantitative\", \"quantitative\", 165,0,165,50)\n",
    "del vl_json['mark'], vl_json['encoding']\n",
    "print(vl_json)\n",
    "png_data = vlc.vegalite_to_png(vl_spec=vl_json, scale=2)\n",
    "with open(\"RetrieveValue-Scatter-Line.png\", \"wb\") as f:\n",
    "\tf.write(png_data)"
   ]
  },
  {
   "cell_type": "code",
   "execution_count": 92,
   "metadata": {},
   "outputs": [],
   "source": [
    "vl_spec=r''' \n",
    "{\n",
    "  \"$schema\": \"https://vega.github.io/schema/vega-lite/v5.json\",\n",
    "  \"description\": \"A scatterplot showing body mass and flipper lengths of penguins.\",\n",
    "  \"data\": {\n",
    "    \"url\": \"data/penguins.json\"\n",
    "  },\n",
    "  \"mark\": \"point\",\n",
    "  \"encoding\": {\n",
    "    \"x\": {\n",
    "      \"field\": \"Flipper Length (mm)\",\n",
    "      \"type\": \"quantitative\",\n",
    "      \"scale\": {\"zero\": false}\n",
    "    },\n",
    "    \"y\": {\n",
    "      \"field\": \"Body Mass (g)\",\n",
    "      \"type\": \"quantitative\",\n",
    "      \"scale\": {\"zero\": false}\n",
    "    }\n",
    "  },\n",
    "  \"title\":\"A scatterplot showing body mass and flipper lengths of penguins\"\n",
    "}\n",
    "'''"
   ]
  },
  {
   "cell_type": "code",
   "execution_count": 93,
   "metadata": {},
   "outputs": [],
   "source": [
    "png_data = vlc.vegalite_to_png(vl_spec=vl_spec, scale=2)\n",
    "with open(\"Sample-Scatter-Filter.png\", \"wb\") as f:\n",
    "\tf.write(png_data)"
   ]
  },
  {
   "cell_type": "code",
   "execution_count": 94,
   "metadata": {},
   "outputs": [
    {
     "name": "stdout",
     "output_type": "stream",
     "text": [
      "{'$schema': 'https://vega.github.io/schema/vega-lite/v5.json', 'description': 'A scatterplot showing body mass and flipper lengths of penguins.', 'data': {'url': 'data/penguins.json'}, 'title': 'A scatterplot showing body mass and flipper lengths of penguins', 'layer': [{'mark': 'point', 'encoding': {'x': {'field': 'Flipper Length (mm)', 'type': 'quantitative', 'scale': {'zero': False}}, 'y': {'field': 'Body Mass (g)', 'type': 'quantitative', 'scale': {'zero': False}}}}, {'mark': 'point', 'encoding': {'x': {'field': 'Flipper Length (mm)', 'type': 'quantitative', 'scale': {'zero': False}}, 'y': {'field': 'Body Mass (g)', 'type': 'quantitative', 'scale': {'zero': False}}, 'color': {'value': 'red'}}, 'transform': [{'filter': \"datum['Body Mass (g)'] >= 5000\"}]}]}\n"
     ]
    }
   ],
   "source": [
    "vl_json=json.loads(vl_spec)\n",
    "vl_json[\"layer\"] = [{ 'mark': vl_json['mark'], 'encoding': vl_json['encoding'] }]\n",
    "vl_json=ScatterColor(vl_json, \"Flipper Length (mm)\", \"Body Mass (g)\", \"quantitative\", \"quantitative\", 5000,'above')\n",
    "# vl_json=ScatterText(vl_json, \"Horsepower\", \"Miles_per_Gallon\", \"quantitative\", \"quantitative\", 165, 15,'A')\n",
    "del vl_json['mark'], vl_json['encoding']\n",
    "print(vl_json)\n",
    "png_data = vlc.vegalite_to_png(vl_spec=vl_json, scale=2)\n",
    "with open(\"Filter-Scatter-Color.png\", \"wb\") as f:\n",
    "\tf.write(png_data)"
   ]
  },
  {
   "cell_type": "code",
   "execution_count": 95,
   "metadata": {},
   "outputs": [
    {
     "name": "stdout",
     "output_type": "stream",
     "text": [
      "{'$schema': 'https://vega.github.io/schema/vega-lite/v5.json', 'description': 'A scatterplot showing body mass and flipper lengths of penguins.', 'data': {'url': 'data/penguins.json'}, 'title': 'A scatterplot showing body mass and flipper lengths of penguins', 'layer': [{'mark': 'point', 'encoding': {'x': {'field': 'Flipper Length (mm)', 'type': 'quantitative', 'scale': {'zero': False}}, 'y': {'field': 'Body Mass (g)', 'type': 'quantitative', 'scale': {'zero': False}}, 'opacity': {'value': 0.1}}}, {'mark': 'point', 'encoding': {'x': {'field': 'Flipper Length (mm)', 'type': 'quantitative', 'scale': {'zero': False}}, 'y': {'field': 'Body Mass (g)', 'type': 'quantitative', 'scale': {'zero': False}}, 'opacity': {'value': 1}}, 'transform': [{'filter': \"datum['Body Mass (g)'] >= 5000\"}]}]}\n"
     ]
    }
   ],
   "source": [
    "vl_json=json.loads(vl_spec)\n",
    "vl_json[\"layer\"] = [{ 'mark': vl_json['mark'], 'encoding': vl_json['encoding'] }]\n",
    "vl_json=ScatterOpacity(vl_json, \"Flipper Length (mm)\", \"Body Mass (g)\", \"quantitative\", \"quantitative\", 5000,'above')\n",
    "# vl_json=ScatterText(vl_json, \"Horsepower\", \"Miles_per_Gallon\", \"quantitative\", \"quantitative\", 165, 15,'A')\n",
    "del vl_json['mark'], vl_json['encoding']\n",
    "print(vl_json)\n",
    "png_data = vlc.vegalite_to_png(vl_spec=vl_json, scale=2)\n",
    "with open(\"Filter-Scatter-Opacity.png\", \"wb\") as f:\n",
    "\tf.write(png_data)"
   ]
  },
  {
   "cell_type": "code",
   "execution_count": 96,
   "metadata": {},
   "outputs": [
    {
     "name": "stdout",
     "output_type": "stream",
     "text": [
      "{'$schema': 'https://vega.github.io/schema/vega-lite/v5.json', 'description': 'A scatterplot showing body mass and flipper lengths of penguins.', 'data': {'url': 'data/penguins.json'}, 'title': 'A scatterplot showing body mass and flipper lengths of penguins', 'layer': [{'mark': 'point', 'encoding': {'x': {'field': 'Flipper Length (mm)', 'type': 'quantitative', 'scale': {'zero': False}}, 'y': {'field': 'Body Mass (g)', 'type': 'quantitative', 'scale': {'zero': False}}}}, {'data': {'values': [{}]}, 'mark': {'type': 'rule', 'color': 'red'}, 'encoding': {'y': {'datum': 5000}}}]}\n"
     ]
    }
   ],
   "source": [
    "vl_json=json.loads(vl_spec)\n",
    "vl_json[\"layer\"] = [{ 'mark': vl_json['mark'], 'encoding': vl_json['encoding'] }]\n",
    "vl_json=ScatterLine(vl_json, \"Flipper Length (mm)\", \"Body Mass (g)\", \"quantitative\", \"quantitative\", 5000)\n",
    "del vl_json['mark'], vl_json['encoding']\n",
    "print(vl_json)\n",
    "png_data = vlc.vegalite_to_png(vl_spec=vl_json, scale=2)\n",
    "with open(\"Filter-Scatter-Line.png\", \"wb\") as f:\n",
    "\tf.write(png_data)"
   ]
  },
  {
   "cell_type": "code",
   "execution_count": 97,
   "metadata": {},
   "outputs": [
    {
     "name": "stdout",
     "output_type": "stream",
     "text": [
      "{'$schema': 'https://vega.github.io/schema/vega-lite/v5.json', 'description': 'A scatterplot showing body mass and flipper lengths of penguins.', 'data': {'url': 'data/penguins.json'}, 'title': 'A scatterplot showing body mass and flipper lengths of penguins', 'layer': [{'mark': 'point', 'encoding': {'x': {'field': 'Flipper Length (mm)', 'type': 'quantitative', 'scale': {'zero': False}}, 'y': {'field': 'Body Mass (g)', 'type': 'quantitative', 'scale': {'zero': False}}}}, {'data': {'values': [{'PlotX1': 170, 'PlotY1': 5000, 'PlotX2': 240, 'PlotY2': 6500}]}, 'mark': {'type': 'rect', 'color': 'red', 'stroke': 'red', 'fillOpacity': 0.2, 'strokeWidth': 0}, 'encoding': {'x': {'field': 'PlotX1', 'type': 'quantitative'}, 'y': {'field': 'PlotY1', 'type': 'quantitative'}, 'x2': {'field': 'PlotX2', 'type': 'quantitative'}, 'y2': {'field': 'PlotY2', 'type': 'quantitative'}}}]}\n"
     ]
    }
   ],
   "source": [
    "vl_json=json.loads(vl_spec)\n",
    "vl_json[\"layer\"] = [{ 'mark': vl_json['mark'], 'encoding': vl_json['encoding'] }]\n",
    "vl_json=ScatterArea(vl_json, \"Horsepower\", \"Miles_per_Gallon\", \"quantitative\", \"quantitative\", 170,5000,240,6500)\n",
    "del vl_json['mark'], vl_json['encoding']\n",
    "print(vl_json)\n",
    "png_data = vlc.vegalite_to_png(vl_spec=vl_json, scale=2)\n",
    "with open(\"Filter-Scatter-Shade.png\", \"wb\") as f:\n",
    "\tf.write(png_data)"
   ]
  },
  {
   "cell_type": "code",
   "execution_count": 98,
   "metadata": {},
   "outputs": [
    {
     "name": "stdout",
     "output_type": "stream",
     "text": [
      "{'$schema': 'https://vega.github.io/schema/vega-lite/v5.json', 'description': 'A scatterplot showing body mass and flipper lengths of penguins.', 'data': {'url': 'data/penguins.json'}, 'title': 'A scatterplot showing body mass and flipper lengths of penguins', 'layer': [{'mark': 'point', 'encoding': {'x': {'field': 'Flipper Length (mm)', 'type': 'quantitative', 'scale': {'zero': False}}, 'y': {'field': 'Body Mass (g)', 'type': 'quantitative', 'scale': {'zero': False}}}}, {'data': {'values': [{'PlotX1': 170, 'PlotY1': 5000, 'PlotX2': 240, 'PlotY2': 6500}]}, 'mark': {'type': 'rect', 'color': 'red', 'stroke': 'red', 'fillOpacity': 0, 'strokeWidth': 2}, 'encoding': {'x': {'field': 'PlotX1', 'type': 'quantitative'}, 'y': {'field': 'PlotY1', 'type': 'quantitative'}, 'x2': {'field': 'PlotX2', 'type': 'quantitative'}, 'y2': {'field': 'PlotY2', 'type': 'quantitative'}}}]}\n"
     ]
    }
   ],
   "source": [
    "vl_json=json.loads(vl_spec)\n",
    "vl_json[\"layer\"] = [{ 'mark': vl_json['mark'], 'encoding': vl_json['encoding'] }]\n",
    "vl_json=ScatterArea(vl_json, \"Horsepower\", \"Miles_per_Gallon\", \"quantitative\", \"quantitative\",170,5000,240,6500,shade=False)\n",
    "del vl_json['mark'], vl_json['encoding']\n",
    "print(vl_json)\n",
    "png_data = vlc.vegalite_to_png(vl_spec=vl_json, scale=2)\n",
    "with open(\"Filter-Scatter-Bound.png\", \"wb\") as f:\n",
    "\tf.write(png_data)"
   ]
  },
  {
   "cell_type": "code",
   "execution_count": 99,
   "metadata": {},
   "outputs": [],
   "source": [
    "vl_spec=r''' \n",
    "{\n",
    "    \"$schema\": \"https://vega.github.io/schema/vega-lite/v3.4.0.json\",\n",
    "    \"data\": {\n",
    "      \"url\": \"https://vega.github.io/vega-datasets/data/gapminder-health-income.csv\"\n",
    "    },\n",
    "    \"config\": {\"view\": {\"width\": 400, \"height\": 300}},\n",
    "    \"mark\": \"point\",\n",
    "    \"encoding\": {\n",
    "      \"x\": {\"type\": \"quantitative\", \"field\": \"income\"},\n",
    "      \"y\": {\"type\": \"quantitative\", \"field\": \"health\"}\n",
    "    },\n",
    "    \"title\":\"The income and life expectancy of different countries\"\n",
    "  }\n",
    "'''"
   ]
  },
  {
   "cell_type": "code",
   "execution_count": 100,
   "metadata": {},
   "outputs": [],
   "source": [
    "png_data = vlc.vegalite_to_png(vl_spec=vl_spec, scale=2)\n",
    "with open(\"Sample-Scatter-Range.png\", \"wb\") as f:\n",
    "\tf.write(png_data)"
   ]
  },
  {
   "cell_type": "code",
   "execution_count": 101,
   "metadata": {},
   "outputs": [
    {
     "name": "stdout",
     "output_type": "stream",
     "text": [
      "{'$schema': 'https://vega.github.io/schema/vega-lite/v3.4.0.json', 'data': {'url': 'https://vega.github.io/vega-datasets/data/gapminder-health-income.csv'}, 'config': {'view': {'width': 400, 'height': 300}}, 'title': 'The income and life expectancy of different countries', 'layer': [{'mark': 'point', 'encoding': {'x': {'type': 'quantitative', 'field': 'income'}, 'y': {'type': 'quantitative', 'field': 'health'}}}, {'mark': 'point', 'encoding': {'x': {'type': 'quantitative', 'field': 'income'}, 'y': {'type': 'quantitative', 'field': 'health'}, 'color': {'value': 'red'}}, 'transform': [{'filter': \"datum['income'] >= 0 && datum['income'] <= 50000\"}]}]}\n"
     ]
    }
   ],
   "source": [
    "vl_json=json.loads(vl_spec)\n",
    "vl_json[\"layer\"] = [{ 'mark': vl_json['mark'], 'encoding': vl_json['encoding'] }]\n",
    "vl_json=ScatterColor(vl_json, \"income\", \"health\", \"quantitative\", \"quantitative\", 0,'left_and_right',50000)\n",
    "# vl_json=ScatterText(vl_json, \"Horsepower\", \"Miles_per_Gallon\", \"quantitative\", \"quantitative\", 165, 15,'A')\n",
    "del vl_json['mark'], vl_json['encoding']\n",
    "print(vl_json)\n",
    "png_data = vlc.vegalite_to_png(vl_spec=vl_json, scale=2)\n",
    "with open(\"Range-Scatter-Color.png\", \"wb\") as f:\n",
    "\tf.write(png_data)"
   ]
  },
  {
   "cell_type": "code",
   "execution_count": 102,
   "metadata": {},
   "outputs": [
    {
     "name": "stdout",
     "output_type": "stream",
     "text": [
      "{'$schema': 'https://vega.github.io/schema/vega-lite/v3.4.0.json', 'data': {'url': 'https://vega.github.io/vega-datasets/data/gapminder-health-income.csv'}, 'config': {'view': {'width': 400, 'height': 300}}, 'title': 'The income and life expectancy of different countries', 'layer': [{'mark': 'point', 'encoding': {'x': {'type': 'quantitative', 'field': 'income'}, 'y': {'type': 'quantitative', 'field': 'health'}, 'opacity': {'value': 0.1}}}, {'mark': 'point', 'encoding': {'x': {'type': 'quantitative', 'field': 'income'}, 'y': {'type': 'quantitative', 'field': 'health'}, 'opacity': {'value': 1}}, 'transform': [{'filter': \"datum['income'] >= 0 && datum['income'] <= 50000\"}]}]}\n"
     ]
    }
   ],
   "source": [
    "vl_json=json.loads(vl_spec)\n",
    "vl_json[\"layer\"] = [{ 'mark': vl_json['mark'], 'encoding': vl_json['encoding'] }]\n",
    "vl_json=ScatterOpacity(vl_json, \"income\", \"health\", \"quantitative\", \"quantitative\", 0,'left_and_right',50000)\n",
    "# vl_json=ScatterText(vl_json, \"Horsepower\", \"Miles_per_Gallon\", \"quantitative\", \"quantitative\", 165, 15,'A')\n",
    "del vl_json['mark'], vl_json['encoding']\n",
    "print(vl_json)\n",
    "png_data = vlc.vegalite_to_png(vl_spec=vl_json, scale=2)\n",
    "with open(\"Range-Scatter-Opacity.png\", \"wb\") as f:\n",
    "\tf.write(png_data)"
   ]
  },
  {
   "cell_type": "code",
   "execution_count": 103,
   "metadata": {},
   "outputs": [
    {
     "name": "stdout",
     "output_type": "stream",
     "text": [
      "{'$schema': 'https://vega.github.io/schema/vega-lite/v3.4.0.json', 'data': {'url': 'https://vega.github.io/vega-datasets/data/gapminder-health-income.csv'}, 'config': {'view': {'width': 400, 'height': 300}}, 'title': 'The income and life expectancy of different countries', 'layer': [{'mark': 'point', 'encoding': {'x': {'type': 'quantitative', 'field': 'income'}, 'y': {'type': 'quantitative', 'field': 'health'}}}, {'data': {'values': [{'PlotX1': 50000, 'PlotY1': 0, 'PlotX2': 50000, 'PlotY2': 90}]}, 'mark': {'type': 'rule', 'stroke': 'red'}, 'encoding': {'x': {'field': 'PlotX1', 'type': 'quantitative'}, 'y': {'field': 'PlotY1', 'type': 'quantitative'}, 'x2': {'field': 'PlotX2', 'type': 'quantitative'}, 'y2': {'field': 'PlotY2', 'type': 'quantitative'}}}]}\n"
     ]
    }
   ],
   "source": [
    "vl_json=json.loads(vl_spec)\n",
    "vl_json[\"layer\"] = [{ 'mark': vl_json['mark'], 'encoding': vl_json['encoding'] }]\n",
    "# vl_json=ScatterLine(vl_json, \"income\", \"health\", \"quantitative\", \"quantitative\", 0,0,0,90)\n",
    "vl_json=ScatterLine(vl_json, \"income\", \"health\", \"quantitative\", \"quantitative\", 50000,0,50000,90)\n",
    "del vl_json['mark'], vl_json['encoding']\n",
    "print(vl_json)\n",
    "png_data = vlc.vegalite_to_png(vl_spec=vl_json, scale=2)\n",
    "with open(\"Range-Scatter-Line.png\", \"wb\") as f:\n",
    "\tf.write(png_data)"
   ]
  },
  {
   "cell_type": "code",
   "execution_count": 104,
   "metadata": {},
   "outputs": [
    {
     "name": "stdout",
     "output_type": "stream",
     "text": [
      "{'$schema': 'https://vega.github.io/schema/vega-lite/v3.4.0.json', 'data': {'url': 'https://vega.github.io/vega-datasets/data/gapminder-health-income.csv'}, 'config': {'view': {'width': 400, 'height': 300}}, 'title': 'The income and life expectancy of different countries', 'layer': [{'mark': 'point', 'encoding': {'x': {'type': 'quantitative', 'field': 'income'}, 'y': {'type': 'quantitative', 'field': 'health'}}}, {'data': {'values': [{'PlotX1': 0, 'PlotY1': 50, 'PlotX2': 50000, 'PlotY2': 90}]}, 'mark': {'type': 'rect', 'color': 'red', 'stroke': 'red', 'fillOpacity': 0.2, 'strokeWidth': 0}, 'encoding': {'x': {'field': 'PlotX1', 'type': 'quantitative'}, 'y': {'field': 'PlotY1', 'type': 'quantitative'}, 'x2': {'field': 'PlotX2', 'type': 'quantitative'}, 'y2': {'field': 'PlotY2', 'type': 'quantitative'}}}]}\n"
     ]
    }
   ],
   "source": [
    "vl_json=json.loads(vl_spec)\n",
    "vl_json[\"layer\"] = [{ 'mark': vl_json['mark'], 'encoding': vl_json['encoding'] }]\n",
    "vl_json=ScatterArea(vl_json, \"income\", \"health\", \"quantitative\", \"quantitative\", 0,50,50000,90)\n",
    "del vl_json['mark'], vl_json['encoding']\n",
    "print(vl_json)\n",
    "png_data = vlc.vegalite_to_png(vl_spec=vl_json, scale=2)\n",
    "with open(\"Range-Scatter-Shade.png\", \"wb\") as f:\n",
    "\tf.write(png_data)"
   ]
  },
  {
   "cell_type": "code",
   "execution_count": 105,
   "metadata": {},
   "outputs": [
    {
     "name": "stdout",
     "output_type": "stream",
     "text": [
      "{'$schema': 'https://vega.github.io/schema/vega-lite/v3.4.0.json', 'data': {'url': 'https://vega.github.io/vega-datasets/data/gapminder-health-income.csv'}, 'config': {'view': {'width': 400, 'height': 300}}, 'title': 'The income and life expectancy of different countries', 'layer': [{'mark': 'point', 'encoding': {'x': {'type': 'quantitative', 'field': 'income'}, 'y': {'type': 'quantitative', 'field': 'health'}}}, {'data': {'values': [{'PlotX1': 0, 'PlotY1': 50, 'PlotX2': 50000, 'PlotY2': 90}]}, 'mark': {'type': 'rect', 'color': 'red', 'stroke': 'red', 'fillOpacity': 0, 'strokeWidth': 2}, 'encoding': {'x': {'field': 'PlotX1', 'type': 'quantitative'}, 'y': {'field': 'PlotY1', 'type': 'quantitative'}, 'x2': {'field': 'PlotX2', 'type': 'quantitative'}, 'y2': {'field': 'PlotY2', 'type': 'quantitative'}}}]}\n"
     ]
    }
   ],
   "source": [
    "vl_json=json.loads(vl_spec)\n",
    "vl_json[\"layer\"] = [{ 'mark': vl_json['mark'], 'encoding': vl_json['encoding'] }]\n",
    "vl_json=ScatterArea(vl_json, \"income\", \"health\", \"quantitative\", \"quantitative\", 0,50,50000,90,shade=False)\n",
    "del vl_json['mark'], vl_json['encoding']\n",
    "print(vl_json)\n",
    "png_data = vlc.vegalite_to_png(vl_spec=vl_json, scale=2)\n",
    "with open(\"Range-Scatter-Bound.png\", \"wb\") as f:\n",
    "\tf.write(png_data)"
   ]
  },
  {
   "cell_type": "code",
   "execution_count": 106,
   "metadata": {},
   "outputs": [],
   "source": [
    "vl_spec=r''' \n",
    "{\n",
    "  \"$schema\": \"https://vega.github.io/schema/vega-lite/v5.json\",\n",
    "  \"data\": {\"url\": \"data/movies.json\"},\n",
    "  \"mark\": {\"type\": \"point\", \"filled\": true},\n",
    "  \"encoding\": {\n",
    "    \"x\": {\"field\": \"Rotten Tomatoes Rating\", \"type\": \"quantitative\"},\n",
    "    \"y\": {\"field\": \"IMDB Rating\", \"type\": \"quantitative\"}\n",
    "  },\n",
    "  \"title\": \"Relation between Rotten Tomatoes and IMDB rating\"\n",
    "}\n",
    "'''"
   ]
  },
  {
   "cell_type": "code",
   "execution_count": 107,
   "metadata": {},
   "outputs": [],
   "source": [
    "png_data = vlc.vegalite_to_png(vl_spec=vl_spec, scale=2)\n",
    "with open(\"Sample-Scatter-Trend.png\", \"wb\") as f:\n",
    "\tf.write(png_data)"
   ]
  },
  {
   "cell_type": "code",
   "execution_count": 108,
   "metadata": {},
   "outputs": [
    {
     "name": "stdout",
     "output_type": "stream",
     "text": [
      "{'$schema': 'https://vega.github.io/schema/vega-lite/v5.json', 'data': {'url': 'data/movies.json'}, 'title': 'Relation between Rotten Tomatoes and IMDB rating', 'layer': [{'mark': {'type': 'point', 'filled': True}, 'encoding': {'x': {'field': 'Rotten Tomatoes Rating', 'type': 'quantitative'}, 'y': {'field': 'IMDB Rating', 'type': 'quantitative'}}}, {'mark': 'line', 'encoding': {'x': {'field': 'Rotten Tomatoes Rating', 'type': 'quantitative'}, 'y': {'field': 'IMDB Rating', 'type': 'quantitative'}, 'color': {'value': 'red'}, 'strokeWidth': {'value': 2}, 'opacity': {'value': 1}}, 'transform': [{'regression': 'IMDB Rating', 'on': 'Rotten Tomatoes Rating'}]}]}\n"
     ]
    }
   ],
   "source": [
    "vl_json=json.loads(vl_spec)\n",
    "vl_json[\"layer\"] = [{ 'mark': vl_json['mark'], 'encoding': vl_json['encoding'] }]\n",
    "vl_json=ScatterRegression(vl_json, \"Rotten Tomatoes Rating\", \"IMDB Rating\")\n",
    "del vl_json['mark'], vl_json['encoding']\n",
    "print(vl_json)\n",
    "png_data = vlc.vegalite_to_png(vl_spec=vl_json, scale=2)\n",
    "with open(\"Trend-Scatter-Line.png\", \"wb\") as f:\n",
    "\tf.write(png_data)"
   ]
  },
  {
   "cell_type": "code",
   "execution_count": 109,
   "metadata": {},
   "outputs": [
    {
     "name": "stdout",
     "output_type": "stream",
     "text": [
      "{'$schema': 'https://vega.github.io/schema/vega-lite/v5.json', 'data': {'url': 'data/movies.json'}, 'title': 'Relation between Rotten Tomatoes and IMDB rating', 'layer': [{'mark': {'type': 'point', 'filled': True}, 'encoding': {'x': {'field': 'Rotten Tomatoes Rating', 'type': 'quantitative'}, 'y': {'field': 'IMDB Rating', 'type': 'quantitative'}}}, {'mark': 'line', 'encoding': {'x': {'field': 'Rotten Tomatoes Rating', 'type': 'quantitative'}, 'y': {'field': 'IMDB Rating', 'type': 'quantitative'}, 'color': {'value': 'red'}, 'strokeWidth': {'value': 40}, 'opacity': {'value': 0.2}}, 'transform': [{'regression': 'IMDB Rating', 'on': 'Rotten Tomatoes Rating'}]}]}\n"
     ]
    }
   ],
   "source": [
    "vl_json=json.loads(vl_spec)\n",
    "vl_json[\"layer\"] = [{ 'mark': vl_json['mark'], 'encoding': vl_json['encoding'] }]\n",
    "vl_json=ScatterRegression(vl_json, \"Rotten Tomatoes Rating\", \"IMDB Rating\",40,0.2)\n",
    "del vl_json['mark'], vl_json['encoding']\n",
    "print(vl_json)\n",
    "png_data = vlc.vegalite_to_png(vl_spec=vl_json, scale=2)\n",
    "with open(\"Trend-Scatter-Shade.png\", \"wb\") as f:\n",
    "\tf.write(png_data)"
   ]
  },
  {
   "cell_type": "code",
   "execution_count": 110,
   "metadata": {},
   "outputs": [
    {
     "name": "stdout",
     "output_type": "stream",
     "text": [
      "{'$schema': 'https://vega.github.io/schema/vega-lite/v5.json', 'data': {'url': 'data/movies.json'}, 'title': 'Relation between Rotten Tomatoes and IMDB rating', 'layer': [{'mark': 'line', 'encoding': {'x': {'field': 'Rotten Tomatoes Rating', 'type': 'quantitative'}, 'y': {'field': 'IMDB Rating', 'type': 'quantitative'}, 'color': {'value': 'red'}, 'strokeWidth': {'value': 40}, 'opacity': {'value': 1}}, 'transform': [{'regression': 'IMDB Rating', 'on': 'Rotten Tomatoes Rating'}]}, {'mark': 'line', 'encoding': {'x': {'field': 'Rotten Tomatoes Rating', 'type': 'quantitative'}, 'y': {'field': 'IMDB Rating', 'type': 'quantitative'}, 'color': {'value': 'white'}, 'strokeWidth': {'value': 38}, 'opacity': {'value': 1}}, 'transform': [{'regression': 'IMDB Rating', 'on': 'Rotten Tomatoes Rating'}]}, {'mark': {'type': 'point', 'filled': True}, 'encoding': {'x': {'field': 'Rotten Tomatoes Rating', 'type': 'quantitative'}, 'y': {'field': 'IMDB Rating', 'type': 'quantitative'}}}]}\n"
     ]
    }
   ],
   "source": [
    "vl_json=json.loads(vl_spec)\n",
    "vl_json[\"layer\"] = [{ 'mark': vl_json['mark'], 'encoding': vl_json['encoding'] }]\n",
    "vl_json=ScatterRegression(vl_json, \"Rotten Tomatoes Rating\", \"IMDB Rating\",40,1,box=True)\n",
    "del vl_json['mark'], vl_json['encoding']\n",
    "print(vl_json)\n",
    "png_data = vlc.vegalite_to_png(vl_spec=vl_json, scale=2)\n",
    "with open(\"Trend-Scatter-Bound.png\", \"wb\") as f:\n",
    "\tf.write(png_data)"
   ]
  },
  {
   "cell_type": "code",
   "execution_count": 111,
   "metadata": {},
   "outputs": [
    {
     "name": "stdout",
     "output_type": "stream",
     "text": [
      "{'$schema': 'https://vega.github.io/schema/vega-lite/v5.json', 'data': {'url': 'data/movies.json'}, 'title': 'Relation between Rotten Tomatoes and IMDB rating', 'layer': [{'mark': {'type': 'point', 'filled': True}, 'encoding': {'x': {'field': 'Rotten Tomatoes Rating', 'type': 'quantitative'}, 'y': {'field': 'IMDB Rating', 'type': 'quantitative'}, 'color': {'field': 'Rotten Tomatoes Rating', 'type': 'quantitative', 'scale': {'scheme': 'blueorange'}}}}]}\n"
     ]
    }
   ],
   "source": [
    "vl_json=json.loads(vl_spec)\n",
    "vl_json[\"layer\"] = [{ 'mark': vl_json['mark'], 'encoding': vl_json['encoding'] }]\n",
    "vl_json=ScatterTrendColor(vl_json, \"Rotten Tomatoes Rating\", \"IMDB Rating\",\"quantitative\",\"quantitative\")\n",
    "del vl_json['mark'], vl_json['encoding']\n",
    "print(vl_json)\n",
    "png_data = vlc.vegalite_to_png(vl_spec=vl_json, scale=2)\n",
    "with open(\"Trend-Scatter-Color.png\", \"wb\") as f:\n",
    "\tf.write(png_data)"
   ]
  },
  {
   "cell_type": "code",
   "execution_count": 112,
   "metadata": {},
   "outputs": [
    {
     "name": "stdout",
     "output_type": "stream",
     "text": [
      "{'$schema': 'https://vega.github.io/schema/vega-lite/v5.json', 'data': {'url': 'data/movies.json'}, 'title': 'Relation between Rotten Tomatoes and IMDB rating', 'layer': [{'mark': {'type': 'point', 'filled': True}, 'encoding': {'x': {'field': 'Rotten Tomatoes Rating', 'type': 'quantitative'}, 'y': {'field': 'IMDB Rating', 'type': 'quantitative'}, 'color': {'field': 'Rotten Tomatoes Rating', 'type': 'quantitative'}}}]}\n"
     ]
    }
   ],
   "source": [
    "vl_json=json.loads(vl_spec)\n",
    "vl_json[\"layer\"] = [{ 'mark': vl_json['mark'], 'encoding': vl_json['encoding'] }]\n",
    "vl_json=ScatterTrendOpacity(vl_json, \"Rotten Tomatoes Rating\", \"IMDB Rating\",\"quantitative\",\"quantitative\")\n",
    "del vl_json['mark'], vl_json['encoding']\n",
    "print(vl_json)\n",
    "png_data = vlc.vegalite_to_png(vl_spec=vl_json, scale=2)\n",
    "with open(\"Trend-Scatter-Opacity.png\", \"wb\") as f:\n",
    "\tf.write(png_data)"
   ]
  },
  {
   "cell_type": "code",
   "execution_count": 113,
   "metadata": {},
   "outputs": [
    {
     "name": "stdout",
     "output_type": "stream",
     "text": [
      "{'$schema': 'https://vega.github.io/schema/vega-lite/v5.json', 'data': {'url': 'data/movies.json'}, 'title': 'Relation between Rotten Tomatoes and IMDB rating', 'layer': [{'mark': {'type': 'point', 'filled': True}, 'encoding': {'x': {'field': 'Rotten Tomatoes Rating', 'type': 'quantitative'}, 'y': {'field': 'IMDB Rating', 'type': 'quantitative'}}}, {'mark': {'type': 'text', 'angle': -45}, 'transform': [{'filter': \"datum['Rotten Tomatoes Rating'] == 50 && datum['IMDB Rating'] == 6\"}], 'encoding': {'text': {'value': '→'}, 'color': {'value': 'red'}, 'x': {'type': 'quantitative', 'field': 'Rotten Tomatoes Rating'}, 'y': {'type': 'quantitative', 'field': 'IMDB Rating'}, 'fontSize': {'value': 100}}}]}\n"
     ]
    }
   ],
   "source": [
    "vl_json=json.loads(vl_spec)\n",
    "vl_json[\"layer\"] = [{ 'mark': vl_json['mark'], 'encoding': vl_json['encoding'] }]\n",
    "vl_json=ScatterMark(vl_json, \"Rotten Tomatoes Rating\", \"IMDB Rating\",\"quantitative\",\"quantitative\",50,6,\"→\",-45)\n",
    "del vl_json['mark'], vl_json['encoding']\n",
    "print(vl_json)\n",
    "png_data = vlc.vegalite_to_png(vl_spec=vl_json, scale=2)\n",
    "with open(\"Trend-Scatter-Mark.png\", \"wb\") as f:\n",
    "\tf.write(png_data)"
   ]
  },
  {
   "cell_type": "code",
   "execution_count": 114,
   "metadata": {},
   "outputs": [
    {
     "name": "stdout",
     "output_type": "stream",
     "text": [
      "{'$schema': 'https://vega.github.io/schema/vega-lite/v5.json', 'data': {'url': 'data/movies.json'}, 'title': 'Relation between Rotten Tomatoes and IMDB rating', 'layer': [{'mark': {'type': 'point', 'filled': True}, 'encoding': {'x': {'field': 'Rotten Tomatoes Rating', 'type': 'quantitative'}, 'y': {'field': 'IMDB Rating', 'type': 'quantitative'}}}, {'mark': {'type': 'text', 'filled': True, 'fontsize': 100, 'angle': -45, 'dy': -10}, 'transform': [{'filter': \"datum['Rotten Tomatoes Rating'] == 50 && datum['IMDB Rating'] == 6\"}], 'encoding': {'text': {'value': 'increase'}, 'color': {'value': 'black'}, 'x': {'type': 'quantitative', 'field': 'Rotten Tomatoes Rating'}, 'y': {'type': 'quantitative', 'field': 'IMDB Rating'}, 'fontSize': {'value': 100}}}]}\n"
     ]
    }
   ],
   "source": [
    "vl_json=json.loads(vl_spec)\n",
    "vl_json[\"layer\"] = [{ 'mark': vl_json['mark'], 'encoding': vl_json['encoding'] }]\n",
    "vl_json=ScatterText(vl_json, \"Rotten Tomatoes Rating\", \"IMDB Rating\",\"quantitative\",\"quantitative\",50,6,\"increase\",-45)\n",
    "del vl_json['mark'], vl_json['encoding']\n",
    "print(vl_json)\n",
    "png_data = vlc.vegalite_to_png(vl_spec=vl_json, scale=2)\n",
    "with open(\"Trend-Scatter-Text.png\", \"wb\") as f:\n",
    "\tf.write(png_data)"
   ]
  },
  {
   "cell_type": "code",
   "execution_count": 115,
   "metadata": {},
   "outputs": [],
   "source": [
    "vl_spec=r''' \n",
    "{\n",
    "  \"$schema\": \"https://vega.github.io/schema/vega-lite/v5.json\",\n",
    "  \"description\": \"A scatterplot showing body mass and flipper lengths of penguins.\",\n",
    "  \"data\": {\n",
    "    \"url\": \"data/penguins.json\"\n",
    "  },\n",
    "  \"mark\": \"point\",\n",
    "  \"encoding\": {\n",
    "    \"x\": {\n",
    "      \"field\": \"Beak Length (mm)\",\n",
    "      \"type\": \"quantitative\",\n",
    "      \"scale\": {\"zero\": false}\n",
    "    },\n",
    "    \"y\": {\n",
    "      \"field\": \"Body Mass (g)\",\n",
    "      \"type\": \"quantitative\",\n",
    "      \"scale\": {\"zero\": false}\n",
    "    }\n",
    "  },\n",
    "  \"title\":\"A scatterplot showing body mass and beak lengths of penguins.\"\n",
    "}\n",
    "'''"
   ]
  },
  {
   "cell_type": "code",
   "execution_count": 116,
   "metadata": {},
   "outputs": [],
   "source": [
    "png_data = vlc.vegalite_to_png(vl_spec=vl_spec, scale=2)\n",
    "with open(\"Sample-Scatter-Compare.png\", \"wb\") as f:\n",
    "\tf.write(png_data)"
   ]
  },
  {
   "cell_type": "code",
   "execution_count": 117,
   "metadata": {},
   "outputs": [
    {
     "name": "stdout",
     "output_type": "stream",
     "text": [
      "{'$schema': 'https://vega.github.io/schema/vega-lite/v5.json', 'description': 'A scatterplot showing body mass and flipper lengths of penguins.', 'data': {'url': 'data/penguins.json'}, 'title': 'A scatterplot showing body mass and beak lengths of penguins.', 'layer': [{'mark': 'point', 'encoding': {'x': {'field': 'Beak Length (mm)', 'type': 'quantitative', 'scale': {'zero': False}}, 'y': {'field': 'Body Mass (g)', 'type': 'quantitative', 'scale': {'zero': False}}}}, {'mark': {'type': 'point', 'filled': True}, 'transform': [{'filter': \"datum['Beak Length (mm)'] == 49.1 && datum['Body Mass (g)'] == 5500\"}], 'encoding': {'color': {'value': 'red'}, 'size': {'value': 100}, 'x': {'type': 'quantitative', 'field': 'Beak Length (mm)', 'axis': {}, 'bin': False}, 'y': {'type': 'quantitative', 'field': 'Body Mass (g)'}}}, {'mark': {'type': 'text', 'filled': True, 'fontsize': 14, 'angle': 0, 'dy': 5}, 'transform': [{'filter': \"datum['Beak Length (mm)'] == 49.1 && datum['Body Mass (g)'] == 5500\"}], 'encoding': {'text': {'value': 'A'}, 'color': {'value': 'black'}, 'x': {'type': 'quantitative', 'field': 'Beak Length (mm)'}, 'y': {'type': 'quantitative', 'field': 'Body Mass (g)'}, 'fontSize': {'value': 14}}}, {'mark': {'type': 'point', 'filled': True}, 'transform': [{'filter': \"datum['Beak Length (mm)'] == 40.6 && datum['Body Mass (g)'] == 4000\"}], 'encoding': {'color': {'value': 'red'}, 'size': {'value': 100}, 'x': {'type': 'quantitative', 'field': 'Beak Length (mm)', 'axis': {}, 'bin': False}, 'y': {'type': 'quantitative', 'field': 'Body Mass (g)'}}}, {'mark': {'type': 'text', 'filled': True, 'fontsize': 14, 'angle': 0, 'dy': 5}, 'transform': [{'filter': \"datum['Beak Length (mm)'] == 40.6 && datum['Body Mass (g)'] == 4000\"}], 'encoding': {'text': {'value': 'B'}, 'color': {'value': 'black'}, 'x': {'type': 'quantitative', 'field': 'Beak Length (mm)'}, 'y': {'type': 'quantitative', 'field': 'Body Mass (g)'}, 'fontSize': {'value': 14}}}]}\n"
     ]
    }
   ],
   "source": [
    "vl_json=json.loads(vl_spec)\n",
    "vl_json[\"layer\"] = [{ 'mark': vl_json['mark'], 'encoding': vl_json['encoding'] }]\n",
    "vl_json=ScatterMark(vl_json, \"Beak Length (mm)\", \"Body Mass (g)\", \"quantitative\", \"quantitative\", 49.1, 5500)\n",
    "vl_json=ScatterText(vl_json, \"Beak Length (mm)\", \"Body Mass (g)\", \"quantitative\", \"quantitative\", 49.1, 5500,'A',dy=5)\n",
    "vl_json=ScatterMark(vl_json, \"Beak Length (mm)\", \"Body Mass (g)\", \"quantitative\", \"quantitative\", 40.6, 4000)\n",
    "vl_json=ScatterText(vl_json, \"Beak Length (mm)\", \"Body Mass (g)\", \"quantitative\", \"quantitative\", 40.6, 4000,'B',dy=5)\n",
    "del vl_json['mark'], vl_json['encoding']\n",
    "print(vl_json)\n",
    "png_data = vlc.vegalite_to_png(vl_spec=vl_json, scale=2)\n",
    "with open(\"Compare-Scatter-Mark.png\", \"wb\") as f:\n",
    "\tf.write(png_data)"
   ]
  },
  {
   "cell_type": "code",
   "execution_count": 118,
   "metadata": {},
   "outputs": [
    {
     "name": "stdout",
     "output_type": "stream",
     "text": [
      "{'$schema': 'https://vega.github.io/schema/vega-lite/v5.json', 'description': 'A scatterplot showing body mass and flipper lengths of penguins.', 'data': {'url': 'data/penguins.json'}, 'title': 'A scatterplot showing body mass and beak lengths of penguins.', 'layer': [{'mark': 'point', 'encoding': {'x': {'field': 'Beak Length (mm)', 'type': 'quantitative', 'scale': {'zero': False}}, 'y': {'field': 'Body Mass (g)', 'type': 'quantitative', 'scale': {'zero': False}}, 'opacity': {'value': 0.1}}}, {'mark': 'point', 'encoding': {'x': {'field': 'Beak Length (mm)', 'type': 'quantitative', 'scale': {'zero': False}}, 'y': {'field': 'Body Mass (g)', 'type': 'quantitative', 'scale': {'zero': False}}, 'opacity': {'value': 1}}, 'transform': [{'filter': \"datum['Beak Length (mm)'] == 49.1 && datum['Body Mass (g)'] == 5500\"}]}, {'mark': {'type': 'text', 'filled': True, 'fontsize': 14, 'angle': 0, 'dy': 5}, 'transform': [{'filter': \"datum['Beak Length (mm)'] == 49.1 && datum['Body Mass (g)'] == 5500\"}], 'encoding': {'text': {'value': 'A'}, 'color': {'value': 'black'}, 'x': {'type': 'quantitative', 'field': 'Beak Length (mm)'}, 'y': {'type': 'quantitative', 'field': 'Body Mass (g)'}, 'fontSize': {'value': 14}}}, {'mark': 'point', 'encoding': {'x': {'field': 'Beak Length (mm)', 'type': 'quantitative', 'scale': {'zero': False}}, 'y': {'field': 'Body Mass (g)', 'type': 'quantitative', 'scale': {'zero': False}}, 'opacity': {'value': 1}}, 'transform': [{'filter': \"datum['Beak Length (mm)'] == 40.6 && datum['Body Mass (g)'] == 4000\"}]}, {'mark': {'type': 'text', 'filled': True, 'fontsize': 14, 'angle': 0, 'dy': 5}, 'transform': [{'filter': \"datum['Beak Length (mm)'] == 40.6 && datum['Body Mass (g)'] == 4000\"}], 'encoding': {'text': {'value': 'B'}, 'color': {'value': 'black'}, 'x': {'type': 'quantitative', 'field': 'Beak Length (mm)'}, 'y': {'type': 'quantitative', 'field': 'Body Mass (g)'}, 'fontSize': {'value': 14}}}]}\n"
     ]
    }
   ],
   "source": [
    "vl_json=json.loads(vl_spec)\n",
    "vl_json[\"layer\"] = [{ 'mark': vl_json['mark'], 'encoding': vl_json['encoding'] }]\n",
    "vl_json=ScatterOpacity(vl_json, \"Beak Length (mm)\", \"Body Mass (g)\", \"quantitative\", \"quantitative\", 49.1,'equal', 5500)\n",
    "vl_json=ScatterText(vl_json, \"Beak Length (mm)\", \"Body Mass (g)\", \"quantitative\", \"quantitative\", 49.1, 5500,'A',dy=5)\n",
    "vl_json=ScatterOpacity(vl_json, \"Beak Length (mm)\", \"Body Mass (g)\", \"quantitative\", \"quantitative\", 40.6,'equal', 4000)\n",
    "vl_json=ScatterText(vl_json, \"Beak Length (mm)\", \"Body Mass (g)\", \"quantitative\", \"quantitative\", 40.6, 4000,'B',dy=5)\n",
    "del vl_json['mark'], vl_json['encoding']\n",
    "print(vl_json)\n",
    "png_data = vlc.vegalite_to_png(vl_spec=vl_json, scale=2)\n",
    "with open(\"Compare-Scatter-Opacity.png\", \"wb\") as f:\n",
    "\tf.write(png_data)"
   ]
  },
  {
   "cell_type": "code",
   "execution_count": 119,
   "metadata": {},
   "outputs": [
    {
     "name": "stdout",
     "output_type": "stream",
     "text": [
      "{'$schema': 'https://vega.github.io/schema/vega-lite/v5.json', 'description': 'A scatterplot showing body mass and flipper lengths of penguins.', 'data': {'url': 'data/penguins.json'}, 'title': 'A scatterplot showing body mass and beak lengths of penguins.', 'layer': [{'mark': 'point', 'encoding': {'x': {'field': 'Beak Length (mm)', 'type': 'quantitative', 'scale': {'zero': False}}, 'y': {'field': 'Body Mass (g)', 'type': 'quantitative', 'scale': {'zero': False}}}}, {'mark': 'point', 'encoding': {'x': {'field': 'Beak Length (mm)', 'type': 'quantitative', 'scale': {'zero': False}}, 'y': {'field': 'Body Mass (g)', 'type': 'quantitative', 'scale': {'zero': False}}, 'color': {'value': 'red'}}, 'transform': [{'filter': \"datum['Beak Length (mm)'] == 49.1 && datum['Body Mass (g)'] == 5500\"}]}, {'mark': {'type': 'text', 'filled': True, 'fontsize': 14, 'angle': 0, 'dy': 5}, 'transform': [{'filter': \"datum['Beak Length (mm)'] == 49.1 && datum['Body Mass (g)'] == 5500\"}], 'encoding': {'text': {'value': 'A'}, 'color': {'value': 'black'}, 'x': {'type': 'quantitative', 'field': 'Beak Length (mm)'}, 'y': {'type': 'quantitative', 'field': 'Body Mass (g)'}, 'fontSize': {'value': 14}}}, {'mark': 'point', 'encoding': {'x': {'field': 'Beak Length (mm)', 'type': 'quantitative', 'scale': {'zero': False}}, 'y': {'field': 'Body Mass (g)', 'type': 'quantitative', 'scale': {'zero': False}}, 'color': {'value': 'red'}}, 'transform': [{'filter': \"datum['Beak Length (mm)'] == 40.6 && datum['Body Mass (g)'] == 4000\"}]}, {'mark': {'type': 'text', 'filled': True, 'fontsize': 14, 'angle': 0, 'dy': 5}, 'transform': [{'filter': \"datum['Beak Length (mm)'] == 40.6 && datum['Body Mass (g)'] == 4000\"}], 'encoding': {'text': {'value': 'B'}, 'color': {'value': 'black'}, 'x': {'type': 'quantitative', 'field': 'Beak Length (mm)'}, 'y': {'type': 'quantitative', 'field': 'Body Mass (g)'}, 'fontSize': {'value': 14}}}]}\n"
     ]
    }
   ],
   "source": [
    "vl_json=json.loads(vl_spec)\n",
    "vl_json[\"layer\"] = [{ 'mark': vl_json['mark'], 'encoding': vl_json['encoding'] }]\n",
    "vl_json=ScatterColor(vl_json, \"Beak Length (mm)\", \"Body Mass (g)\", \"quantitative\", \"quantitative\", 49.1,'equal', 5500)\n",
    "vl_json=ScatterText(vl_json, \"Beak Length (mm)\", \"Body Mass (g)\", \"quantitative\", \"quantitative\", 49.1, 5500,'A',dy=5)\n",
    "vl_json=ScatterColor(vl_json, \"Beak Length (mm)\", \"Body Mass (g)\", \"quantitative\", \"quantitative\", 40.6,'equal', 4000)\n",
    "vl_json=ScatterText(vl_json, \"Beak Length (mm)\", \"Body Mass (g)\", \"quantitative\", \"quantitative\", 40.6, 4000,'B',dy=5)\n",
    "del vl_json['mark'], vl_json['encoding']\n",
    "print(vl_json)\n",
    "png_data = vlc.vegalite_to_png(vl_spec=vl_json, scale=2)\n",
    "with open(\"Compare-Scatter-Color.png\", \"wb\") as f:\n",
    "\tf.write(png_data)"
   ]
  },
  {
   "cell_type": "code",
   "execution_count": 120,
   "metadata": {},
   "outputs": [
    {
     "name": "stdout",
     "output_type": "stream",
     "text": [
      "{'$schema': 'https://vega.github.io/schema/vega-lite/v5.json', 'description': 'A scatterplot showing body mass and flipper lengths of penguins.', 'data': {'url': 'data/penguins.json'}, 'title': 'A scatterplot showing body mass and beak lengths of penguins.', 'layer': [{'mark': 'point', 'encoding': {'x': {'field': 'Beak Length (mm)', 'type': 'quantitative', 'scale': {'zero': False}}, 'y': {'field': 'Body Mass (g)', 'type': 'quantitative', 'scale': {'zero': False}}}}, {'mark': {'type': 'text', 'filled': True, 'fontsize': 14, 'angle': 0, 'dy': -10}, 'transform': [{'filter': \"datum['Beak Length (mm)'] == 49.1 && datum['Body Mass (g)'] == 5500\"}], 'encoding': {'text': {'value': '50,5500'}, 'color': {'value': 'black'}, 'x': {'type': 'quantitative', 'field': 'Beak Length (mm)'}, 'y': {'type': 'quantitative', 'field': 'Body Mass (g)'}, 'fontSize': {'value': 14}}}, {'mark': {'type': 'text', 'filled': True, 'fontsize': 14, 'angle': 0, 'dy': 5}, 'transform': [{'filter': \"datum['Beak Length (mm)'] == 49.1 && datum['Body Mass (g)'] == 5500\"}], 'encoding': {'text': {'value': 'A'}, 'color': {'value': 'black'}, 'x': {'type': 'quantitative', 'field': 'Beak Length (mm)'}, 'y': {'type': 'quantitative', 'field': 'Body Mass (g)'}, 'fontSize': {'value': 14}}}, {'mark': {'type': 'text', 'filled': True, 'fontsize': 14, 'angle': 0, 'dy': -10}, 'transform': [{'filter': \"datum['Beak Length (mm)'] == 40.6 && datum['Body Mass (g)'] == 4000\"}], 'encoding': {'text': {'value': '40,4000'}, 'color': {'value': 'black'}, 'x': {'type': 'quantitative', 'field': 'Beak Length (mm)'}, 'y': {'type': 'quantitative', 'field': 'Body Mass (g)'}, 'fontSize': {'value': 14}}}, {'mark': {'type': 'text', 'filled': True, 'fontsize': 14, 'angle': 0, 'dy': 5}, 'transform': [{'filter': \"datum['Beak Length (mm)'] == 40.6 && datum['Body Mass (g)'] == 4000\"}], 'encoding': {'text': {'value': 'B'}, 'color': {'value': 'black'}, 'x': {'type': 'quantitative', 'field': 'Beak Length (mm)'}, 'y': {'type': 'quantitative', 'field': 'Body Mass (g)'}, 'fontSize': {'value': 14}}}]}\n"
     ]
    }
   ],
   "source": [
    "vl_json=json.loads(vl_spec)\n",
    "vl_json[\"layer\"] = [{ 'mark': vl_json['mark'], 'encoding': vl_json['encoding'] }]\n",
    "vl_json=ScatterText(vl_json, \"Beak Length (mm)\", \"Body Mass (g)\", \"quantitative\", \"quantitative\", 49.1, 5500,'50,5500')\n",
    "vl_json=ScatterText(vl_json, \"Beak Length (mm)\", \"Body Mass (g)\", \"quantitative\", \"quantitative\", 49.1, 5500,'A',dy=5)\n",
    "vl_json=ScatterText(vl_json, \"Beak Length (mm)\", \"Body Mass (g)\", \"quantitative\", \"quantitative\", 40.6, 4000,'40,4000')\n",
    "vl_json=ScatterText(vl_json, \"Beak Length (mm)\", \"Body Mass (g)\", \"quantitative\", \"quantitative\", 40.6, 4000,'B',dy=5)\n",
    "del vl_json['mark'], vl_json['encoding']\n",
    "print(vl_json)\n",
    "png_data = vlc.vegalite_to_png(vl_spec=vl_json, scale=2)\n",
    "with open(\"Compare-Scatter-Text.png\", \"wb\") as f:\n",
    "\tf.write(png_data)"
   ]
  }
 ],
 "metadata": {
  "kernelspec": {
   "display_name": "unsloth",
   "language": "python",
   "name": "python3"
  },
  "language_info": {
   "codemirror_mode": {
    "name": "ipython",
    "version": 3
   },
   "file_extension": ".py",
   "mimetype": "text/x-python",
   "name": "python",
   "nbconvert_exporter": "python",
   "pygments_lexer": "ipython3",
   "version": "3.12.3"
  }
 },
 "nbformat": 4,
 "nbformat_minor": 2
}
