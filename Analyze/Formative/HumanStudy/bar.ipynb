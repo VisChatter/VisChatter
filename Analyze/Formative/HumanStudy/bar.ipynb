{
 "cells": [
  {
   "cell_type": "code",
   "execution_count": 772,
   "metadata": {},
   "outputs": [],
   "source": [
    "import vl_convert as vlc\n",
    "import json\n",
    "import copy\n",
    "import pandas as pd"
   ]
  },
  {
   "cell_type": "code",
   "execution_count": 773,
   "metadata": {},
   "outputs": [],
   "source": [
    "normalize={'date':'date','Date':'date','day':'date','Day':'date','month':'month','Month':'month','year':'year','Year':'year'}\n",
    "time_format={'date':'D','Date':'D','day':'D','Day':'D','month':'M','Month':'M','year':'Y','Year':'Y'}\n",
    "def get_opposite_color(hex_color):\n",
    "\thex_color = hex_color.lstrip('#')\n",
    "\tr = int(hex_color[0:2], 16)\n",
    "\tg = int(hex_color[2:4], 16)\n",
    "\tb = int(hex_color[4:6], 16)\n",
    "\tr = 255 - r\n",
    "\tg = 255 - g\n",
    "\tb = 255 - b\n",
    "\tr_hex = format(r, '02x')\n",
    "\tg_hex = format(g, '02x')\n",
    "\tb_hex = format(b, '02x')\n",
    "\treturn f\"#{r_hex}{g_hex}{b_hex}\"\n",
    "def remove_lonely_numbers(lst):\n",
    "\tresult = []\n",
    "\tlst=sorted(lst)\n",
    "\tfor i in range(len(lst)):\n",
    "\t\tif (i == 0):\n",
    "\t\t\tif (lst[i+1] - lst[i] == 1):  \n",
    "\t\t\t\tresult.append(lst[i])\n",
    "\t\tif (i == len(lst) - 1):\n",
    "\t\t\tif(lst[i] - lst[i-1] == 1):\n",
    "\t\t\t\tresult.append(lst[i])\n",
    "\t\tif  (i!=0 and i!=len(lst)-1):\n",
    "\t\t\tif (lst[i] - lst[i-1] == 1) | (lst[i+1] - lst[i] == 1):\n",
    "\t\t\t\tresult.append(lst[i])\n",
    "\treturn result\n",
    "\n",
    "def generate_conditions(numlist,mainField):\n",
    "\tfiltered_years = remove_lonely_numbers(numlist)\n",
    "\tprint(filtered_years)\n",
    "\tranges = []\n",
    "\tstart = None\n",
    "\tfor year in filtered_years:\n",
    "\t\tif start is None:\n",
    "\t\t\tstart = year\n",
    "\t\telif year + 1 not in filtered_years:\n",
    "\t\t\tend = year\n",
    "\t\t\tif start != end:\n",
    "\t\t\t\tranges.append((start, end))\n",
    "\t\t\tstart = None\n",
    "\tif start is not None:\n",
    "\t\tend = filtered_years[-1]\n",
    "\t\tif start != end:\n",
    "\t\t\tranges.append((start, end))\n",
    "\tconditions = [f\"({normalize[mainField]}(datum['{mainField}']) >= {start-1} && {normalize[mainField]}(datum['{mainField}']) <= {end-1})\" for start, end in ranges ]\n",
    "\treturn conditions\n",
    "\n",
    "def BarMark(vega,mainField, subField, mainType, subType, value):\n",
    "\tnewcolor = get_opposite_color(vega[\"encoding\"][\"color\"][\"value\"])\n",
    "\n",
    "\tif mainType == 'temporal':\n",
    "\t\t# vega[\"data\"][\"format\"]= {\"type\": \"csv\", \"parse\": {f'{mainField}': f\"date:'%{time_format[mainField]}'\"}}\n",
    "\t\tvega[\"layer\"].append( {\n",
    "\t\t\"mark\": {\"type\": \"point\", \"filled\": True},\n",
    "\t\t\"transform\": [{\"filter\": f\"{normalize[mainField]}(datum['{mainField}']) == {value}\"}],\n",
    "\t\t\"encoding\": {\n",
    "\t\t\t\"color\": {\"value\": newcolor},\n",
    "\t\t\t\"x\": {\"type\": mainType, \"field\": mainField},\n",
    "\t\t\t\"y\": {\"type\": subType, \"field\": subField}\n",
    "\t\t}})\n",
    "\telse:\n",
    "\t\tvega[\"layer\"].append( {\n",
    "\t\t\t\"mark\": {\"type\": \"point\", \"filled\": True},\n",
    "\t\t\t\"transform\": [{\"filter\": f\"datum['{mainField}'] == '{value}'\"}], \n",
    "\t\t\t\"encoding\": {\n",
    "\t\t\t\t\"color\": {\"value\": newcolor},\n",
    "\t\t\t\t\"size\": {\"value\": 100},\n",
    "\t\t\t\t\"x\": {\"type\": mainType, \"field\": mainField, \"axis\": {}, \"bin\": False},\n",
    "\t\t\t\t\"y\": {\"type\": subType, \"field\": subField}\n",
    "\t\t\t}})\n",
    "\treturn vega\n",
    "\n",
    "def BarText(vega,mainField, subField, mainType, subType, value, text,degree=0):\n",
    "\tnewcolor = get_opposite_color(vega[\"encoding\"][\"color\"][\"value\"])\n",
    "\tsize=14\n",
    "\tif degree!=0:\n",
    "\t\tsize=100\n",
    "\tif mainType == 'temporal':\n",
    "\t\tvega[\"data\"][\"format\"]= {\"type\": \"csv\", \"parse\": {f'{mainField}': f\"date:'%{time_format[mainField]}'\"}}\n",
    "\t\tvega[\"layer\"].append( {\n",
    "\t\t\"mark\": {\"type\": \"text\", \"filled\": True,\"fontSize\":size,'angle':degree,'dy':-10},\n",
    "\t\t\"transform\": [{\"filter\": f\"{normalize[mainField]}(datum['{mainField}']) == {value}\"}],\n",
    "\t\t\"encoding\": {\n",
    "\t\t\t\"text\" :{\"value\": text},\n",
    "\t\t\t\"color\": {\"value\": newcolor},\n",
    "\t\t\t\"x\": {\"type\": mainType, \"field\": mainField},\n",
    "\t\t\t\"y\": {\"type\": subType, \"field\": subField},\n",
    "\t\t\t\"fontSize\":{\"value\":size}\n",
    "\t\t}})\n",
    "\telse:\n",
    "\t\tvega[\"layer\"].append( {\n",
    "\t\t\t\"mark\": {\"type\": \"text\", \"filled\": True,\"fontsize\":size,'angle':degree,'dy':-10},\n",
    "\t\t\t\"transform\": [{\"filter\": f\"datum['{mainField}'] == '{value}'\"}], # type: ignore\n",
    "\t\t\t\"encoding\": {\n",
    "\t\t\t\t\"text\" :{\"value\": text},\n",
    "\t\t\t\t\"color\": {\"value\": newcolor},\n",
    "\t\t\t\t\"x\": {\"type\": mainType, \"field\": mainField},\n",
    "\t\t\t\t\"y\": {\"type\": subType, \"field\": subField},\n",
    "\t\t\t\t\"fontSize\":{\"value\":size}\n",
    "\t\t\t}})\n",
    "\treturn vega\n",
    "def BarLine(vega,mainField, subField, mainType, subType, value,value1=0,subValue=0,subValue1=0):\n",
    "\tnewcolor = get_opposite_color(vega[\"encoding\"][\"color\"][\"value\"])\n",
    "\tif subValue==0:\n",
    "\t\tif vega[\"encoding\"][\"x\"][\"field\"] == subField:\n",
    "\t\t\tvega[\"layer\"].append({ \"data\": { \"values\": [{}] }, \"mark\": { \"type\": \"rule\", \"color\": newcolor }, \"encoding\": { \"x\": { \"datum\": value } } })\n",
    "\t\t\tif value1!=0:\n",
    "\t\t\t\tvega[\"layer\"].append({ \"data\": { \"values\": [{}] }, \"mark\": { \"type\": \"rule\", \"color\": newcolor }, \"encoding\": { \"x\": { \"datum\": value1 } } })\n",
    "\t\telse:\n",
    "\t\t\tvega[\"layer\"].append({ \"data\": { \"values\": [{}] }, \"mark\": { \"type\": \"rule\", \"color\": newcolor }, \"encoding\": { \"y\": { \"datum\": value } } })\n",
    "\t\t\tif value1!=0:\n",
    "\t\t\t\tvega[\"layer\"].append({ \"data\": { \"values\": [{}] }, \"mark\": { \"type\": \"rule\", \"color\": newcolor }, \"encoding\": { \"y\": { \"datum\": value1 } } })\n",
    "\telse:\n",
    "\t\tvega[\"layer\"].append({\n",
    "      \"data\": {\n",
    "        \"values\": [\n",
    "          {\"PlotX1\": value, \"PlotY1\": value1, \"PlotX2\": subValue, \"PlotY2\": subValue1}\n",
    "        ]\n",
    "      },\n",
    "      \"mark\": {\n",
    "        \"type\": \"rule\",\n",
    "        \"stroke\": newcolor,\n",
    "        \"strokeWidth\": 2\n",
    "      },\n",
    "      \"encoding\": {\n",
    "        \"x\": {\"field\": \"PlotX1\", \"type\": mainType},\n",
    "        \"y\": {\"field\": \"PlotY1\", \"type\": subType},\n",
    "        \"x2\": {\"field\": \"PlotX2\", \"type\": mainType},\n",
    "        \"y2\": {\"field\": \"PlotY2\", \"type\": subType}\n",
    "      }\n",
    "    })\n",
    "\n",
    "\treturn vega\n",
    "def BarColor(vega,mainField, subField, mainType, subType, value, condition,value1=0):\n",
    "\tnewcolor = get_opposite_color(vega[\"encoding\"][\"color\"][\"value\"])\n",
    "\tnew_layer = copy.deepcopy(vega[\"layer\"][0])\n",
    "\tif condition == 'equal':\n",
    "\t\tnew_layer[\"transform\"] = [{\"filter\": f\"datum['{subField}'] == {value}\"}]\n",
    "\telif condition == 'above':\n",
    "\t\tnew_layer[\"transform\"] = [{\"filter\": f\"datum['{subField}'] >= {value}\"}]\n",
    "\telif condition == 'below':\n",
    "\t\tnew_layer[\"transform\"] = [{\"filter\": f\"datum['{subField}'] <= {value}\"}]\n",
    "\telif condition == 'above_and_below':\n",
    "\t\tnew_layer[\"transform\"] = [{\"filter\": f\"datum['{subField}'] >= {value} && datum['{subField}'] <= {value1}\"}]\n",
    "\telif condition == 'left_bound':\n",
    "\t\tnew_layer[\"transform\"] = [{\"filter\": f\"datum['{mainField}'] >= {value}\"}]\n",
    "\telif condition == 'right_bound':\n",
    "\t\tnew_layer[\"transform\"] = [{\"filter\": f\"datum['{mainField}'] <= {value}\"}]\n",
    "\telif condition == 'left_and_right':\n",
    "\t\tnew_layer[\"transform\"] = [{\"filter\": f\"datum['{mainField}'] >= {value} && datum['{mainField}'] <= {value1}\"}]\n",
    "\telif condition == 'compare':\n",
    "\t\tnew_layer[\"transform\"] = [{\"filter\": f\"datum['{mainField}'] == '{value}' || datum['{mainField}'] == '{value1}'\"}]\n",
    "\n",
    "\tnew_layer[\"encoding\"][\"color\"][\"value\"] = newcolor\n",
    "\tvega[\"layer\"].append(new_layer)\n",
    "\treturn vega\n",
    "def BarOpacity(vega,mainField, subField, mainType, subType, value,condition,value1=0):\n",
    "\tvega[\"layer\"][0][\"encoding\"][\"opacity\"]={\"value\": 0.4}\n",
    "\tnew_layer = copy.deepcopy(vega[\"layer\"][0])\n",
    "\tif condition == 'equal':\n",
    "\t\tnew_layer[\"transform\"] = [{\"filter\": f\"datum['{subField}'] == {value}\"}]\n",
    "\telif condition == 'above':\n",
    "\t\tnew_layer[\"transform\"] = [{\"filter\": f\"datum['{subField}'] >= {value}\"}]\n",
    "\telif condition == 'below':\n",
    "\t\tnew_layer[\"transform\"] = [{\"filter\": f\"datum['{subField}'] <= {value}\"}]\n",
    "\telif condition == 'above_and_below':\n",
    "\t\tnew_layer[\"transform\"] = [{\"filter\": f\"datum['{subField}'] >= {value} && datum['{subField}'] <= {value1}\"}]\n",
    "\telif condition == 'left_bound':\n",
    "\t\tnew_layer[\"transform\"] = [{\"filter\": f\"datum['{mainField}'] >= {value}\"}]\n",
    "\telif condition == 'right_bound':\n",
    "\t\tnew_layer[\"transform\"] = [{\"filter\": f\"datum['{mainField}'] <= {value}\"}]\n",
    "\telif condition == 'left_and_right':\n",
    "\t\tnew_layer[\"transform\"] = [{\"filter\": f\"datum['{mainField}'] >= {value} && datum['{mainField}'] <= {value1}\"}]\n",
    "\telif condition == 'compare':\n",
    "\t\tnew_layer[\"transform\"] = [{\"filter\": f\"datum['{mainField}'] == '{value}' || datum['{mainField}'] == '{value1}'\"}]\n",
    "\t\t\t\t\n",
    "\tnew_layer[\"encoding\"][\"opacity\"]={\"value\": 1}\n",
    "\tvega[\"layer\"].append(new_layer)\n",
    "\treturn vega\n",
    "\n",
    "def BarArea(vega,mainField, subField, mainType, subType, value,value1=0,subValue=0,subValue1=0,shade=True):\n",
    "    newcolor = get_opposite_color(vega[\"encoding\"][\"color\"][\"value\"])\n",
    "    # df = pd.read_csv(vega[\"data\"][\"url\"])\n",
    "    if shade==True:\n",
    "        stroke=0\n",
    "        opacity=0.2\n",
    "    else:\n",
    "        stroke=2\n",
    "        opacity=0\n",
    "\n",
    "    vega[\"layer\"].append({\n",
    "      \"data\": {\n",
    "        \"values\": [\n",
    "          {\"PlotX1\": value, \"PlotY1\": value1, \"PlotX2\": subValue, \"PlotY2\": subValue1}\n",
    "        ]\n",
    "      },\n",
    "        \"mark\": {\"type\": \"rect\", \"color\": newcolor,\"stroke\":newcolor,\"fillOpacity\":opacity,\"strokeWidth\":stroke},\n",
    "      \"encoding\": {\n",
    "        \"x\": {\"field\": \"PlotX1\", \"type\": mainType},\n",
    "        \"y\": {\"field\": \"PlotY1\", \"type\": subType},\n",
    "        \"x2\": {\"field\": \"PlotX2\", \"type\": mainType},\n",
    "        \"y2\": {\"field\": \"PlotY2\", \"type\": subType}\n",
    "    }})\n",
    "    return vega"
   ]
  },
  {
   "cell_type": "code",
   "execution_count": 774,
   "metadata": {},
   "outputs": [],
   "source": [
    "vl_spec=r\"\"\"\n",
    "{\n",
    "  \"config\": {\n",
    "    \"background\": \"#fff\",\n",
    "    \"area\": {\"fill\": \"#3e5c69\"},\n",
    "    \"line\": {\"stroke\": \"#3e5c69\"},\n",
    "    \"rect\": {\"fill\": \"#3e5c69\"},\n",
    "    \"bar\": {\"fill\": \"#3e5c69\"},\n",
    "    \"point\": {\"color\": \"#3e5c69\"},\n",
    "    \"axis\": {\n",
    "      \"domainWidth\": 0.5,\n",
    "      \"grid\": true,\n",
    "      \"labelPadding\": 2,\n",
    "      \"tickSize\": 5,\n",
    "      \"tickWidth\": 0.5,\n",
    "      \"titleFontWeight\": \"normal\"\n",
    "    },\n",
    "    \"axisBand\": {\"grid\": false},\n",
    "    \"axisX\": {\"gridWidth\": 0.2},\n",
    "    \"axisY\": {\"gridDash\": [3], \"gridWidth\": 0.4},\n",
    "    \"legend\": {\"labelFontSize\": 11, \"padding\": 1, \"symbolType\": \"square\"},\n",
    "    \"range\": {\n",
    "      \"category\": [\n",
    "        \"#3e5c69\",\n",
    "        \"#6793a6\",\n",
    "        \"#182429\",\n",
    "        \"#0570b0\",\n",
    "        \"#3690c0\",\n",
    "        \"#74a9cf\",\n",
    "        \"#a6bddb\",\n",
    "        \"#e2ddf2\"\n",
    "      ]\n",
    "    }\n",
    "  },\n",
    "  \"data\": {\n",
    "    \"url\": \"https://raw.githubusercontent.com/vis-nlp/Chart-to-text/main/statista_dataset/dataset/data/1048.csv\"\n",
    "  },\n",
    "  \"mark\": \"bar\",\n",
    "  \"encoding\": {\n",
    "    \"color\": {\"value\": \"#0570b0\"},\n",
    "    \"x\": {\"type\": \"nominal\", \"axis\": {}, \"bin\": false, \"field\": \"Year\"},\n",
    "    \"y\": {\n",
    "      \"type\": \"quantitative\",\n",
    "      \"axis\": {\"title\": \"National debt in billion U.S. dollars\"},\n",
    "      \"field\": \"National debt in billion U\\\\.S\\\\. dollars\"\n",
    "    }\n",
    "  },\n",
    "  \"title\": [\n",
    "    \"Ireland : National debt from 2014 to 2024\",\n",
    "    \"(in billion U.S. dollars)\"\n",
    "  ],\n",
    "  \"$schema\": \"https://vega.github.io/schema/vega-lite/v4.8.1.json\"\n",
    "}\n",
    "\"\"\""
   ]
  },
  {
   "cell_type": "code",
   "execution_count": 775,
   "metadata": {},
   "outputs": [],
   "source": [
    "png_data = vlc.vegalite_to_png(vl_spec=vl_spec, scale=2)\n",
    "with open(\"Sample-Bar-RetrieveValue.png\", \"wb\") as f:\n",
    "\tf.write(png_data)"
   ]
  },
  {
   "cell_type": "code",
   "execution_count": 776,
   "metadata": {},
   "outputs": [
    {
     "name": "stdout",
     "output_type": "stream",
     "text": [
      "{'config': {'background': '#fff', 'area': {'fill': '#3e5c69'}, 'line': {'stroke': '#3e5c69'}, 'rect': {'fill': '#3e5c69'}, 'bar': {'fill': '#3e5c69'}, 'point': {'color': '#3e5c69'}, 'axis': {'domainWidth': 0.5, 'grid': True, 'labelPadding': 2, 'tickSize': 5, 'tickWidth': 0.5, 'titleFontWeight': 'normal'}, 'axisBand': {'grid': False}, 'axisX': {'gridWidth': 0.2}, 'axisY': {'gridDash': [3], 'gridWidth': 0.4}, 'legend': {'labelFontSize': 11, 'padding': 1, 'symbolType': 'square'}, 'range': {'category': ['#3e5c69', '#6793a6', '#182429', '#0570b0', '#3690c0', '#74a9cf', '#a6bddb', '#e2ddf2']}}, 'data': {'url': 'https://raw.githubusercontent.com/vis-nlp/Chart-to-text/main/statista_dataset/dataset/data/1048.csv'}, 'title': ['Ireland : National debt from 2014 to 2024', '(in billion U.S. dollars)'], '$schema': 'https://vega.github.io/schema/vega-lite/v4.8.1.json', 'layer': [{'mark': 'bar', 'encoding': {'color': {'value': '#0570b0'}, 'x': {'type': 'nominal', 'axis': {}, 'bin': False, 'field': 'Year'}, 'y': {'type': 'quantitative', 'axis': {'title': 'National debt in billion U.S. dollars'}, 'field': 'National debt in billion U\\\\.S\\\\. dollars'}}}, {'mark': {'type': 'point', 'filled': True}, 'transform': [{'filter': \"datum['Year'] == '2016'\"}], 'encoding': {'color': {'value': '#fa8f4f'}, 'size': {'value': 100}, 'x': {'type': 'nominal', 'field': 'Year', 'axis': {}, 'bin': False}, 'y': {'type': 'quantitative', 'field': 'National debt in billion U\\\\.S\\\\. dollars'}}}]}\n"
     ]
    }
   ],
   "source": [
    "vl_json=json.loads(vl_spec)\n",
    "vl_json[\"layer\"] = [{ 'mark': vl_json['mark'], 'encoding': vl_json['encoding'] }]\n",
    "vl_json=BarMark(vl_json, \"Year\", \"National debt in billion U\\\\.S\\\\. dollars\", \"nominal\", \"quantitative\", 2016)\n",
    "del vl_json['mark'], vl_json['encoding']\n",
    "print(vl_json)\n",
    "png_data = vlc.vegalite_to_png(vl_spec=vl_json, scale=2)\n",
    "with open(\"RetrieveValue-Bar-Mark.png\", \"wb\") as f:\n",
    "\tf.write(png_data)"
   ]
  },
  {
   "cell_type": "code",
   "execution_count": 777,
   "metadata": {},
   "outputs": [
    {
     "name": "stdout",
     "output_type": "stream",
     "text": [
      "{'config': {'background': '#fff', 'area': {'fill': '#3e5c69'}, 'line': {'stroke': '#3e5c69'}, 'rect': {'fill': '#3e5c69'}, 'bar': {'fill': '#3e5c69'}, 'point': {'color': '#3e5c69'}, 'axis': {'domainWidth': 0.5, 'grid': True, 'labelPadding': 2, 'tickSize': 5, 'tickWidth': 0.5, 'titleFontWeight': 'normal'}, 'axisBand': {'grid': False}, 'axisX': {'gridWidth': 0.2}, 'axisY': {'gridDash': [3], 'gridWidth': 0.4}, 'legend': {'labelFontSize': 11, 'padding': 1, 'symbolType': 'square'}, 'range': {'category': ['#3e5c69', '#6793a6', '#182429', '#0570b0', '#3690c0', '#74a9cf', '#a6bddb', '#e2ddf2']}}, 'data': {'url': 'https://raw.githubusercontent.com/vis-nlp/Chart-to-text/main/statista_dataset/dataset/data/1048.csv'}, 'title': ['Ireland : National debt from 2014 to 2024', '(in billion U.S. dollars)'], '$schema': 'https://vega.github.io/schema/vega-lite/v4.8.1.json', 'layer': [{'mark': 'bar', 'encoding': {'color': {'value': '#0570b0'}, 'x': {'type': 'nominal', 'axis': {}, 'bin': False, 'field': 'Year'}, 'y': {'type': 'quantitative', 'axis': {'title': 'National debt in billion U.S. dollars'}, 'field': 'National debt in billion U\\\\.S\\\\. dollars'}}}, {'mark': {'type': 'text', 'filled': True, 'fontsize': 14, 'angle': 0, 'dy': -10}, 'transform': [{'filter': \"datum['Year'] == '2016'\"}], 'encoding': {'text': {'value': 'lowest'}, 'color': {'value': '#fa8f4f'}, 'x': {'type': 'nominal', 'field': 'Year'}, 'y': {'type': 'quantitative', 'field': 'National debt in billion U\\\\.S\\\\. dollars'}, 'fontSize': {'value': 14}}}]}\n"
     ]
    }
   ],
   "source": [
    "vl_json=json.loads(vl_spec)\n",
    "vl_json[\"layer\"] = [{ 'mark': vl_json['mark'], 'encoding': vl_json['encoding'] }]\n",
    "vl_json=BarText(vl_json, \"Year\", \"National debt in billion U\\\\.S\\\\. dollars\", \"nominal\", \"quantitative\", 2016,\"lowest\")\n",
    "del vl_json['mark'], vl_json['encoding']\n",
    "print(vl_json)\n",
    "png_data = vlc.vegalite_to_png(vl_spec=vl_json, scale=2)\n",
    "with open(\"RetrieveValue-Bar-Text.png\", \"wb\") as f:\n",
    "\tf.write(png_data)"
   ]
  },
  {
   "cell_type": "code",
   "execution_count": 778,
   "metadata": {},
   "outputs": [
    {
     "name": "stdout",
     "output_type": "stream",
     "text": [
      "{'config': {'background': '#fff', 'area': {'fill': '#3e5c69'}, 'line': {'stroke': '#3e5c69'}, 'rect': {'fill': '#3e5c69'}, 'bar': {'fill': '#3e5c69'}, 'point': {'color': '#3e5c69'}, 'axis': {'domainWidth': 0.5, 'grid': True, 'labelPadding': 2, 'tickSize': 5, 'tickWidth': 0.5, 'titleFontWeight': 'normal'}, 'axisBand': {'grid': False}, 'axisX': {'gridWidth': 0.2}, 'axisY': {'gridDash': [3], 'gridWidth': 0.4}, 'legend': {'labelFontSize': 11, 'padding': 1, 'symbolType': 'square'}, 'range': {'category': ['#3e5c69', '#6793a6', '#182429', '#0570b0', '#3690c0', '#74a9cf', '#a6bddb', '#e2ddf2']}}, 'data': {'url': 'https://raw.githubusercontent.com/vis-nlp/Chart-to-text/main/statista_dataset/dataset/data/1048.csv'}, 'title': ['Ireland : National debt from 2014 to 2024', '(in billion U.S. dollars)'], '$schema': 'https://vega.github.io/schema/vega-lite/v4.8.1.json', 'layer': [{'mark': 'bar', 'encoding': {'color': {'value': '#0570b0'}, 'x': {'type': 'nominal', 'axis': {}, 'bin': False, 'field': 'Year'}, 'y': {'type': 'quantitative', 'axis': {'title': 'National debt in billion U.S. dollars'}, 'field': 'National debt in billion U\\\\.S\\\\. dollars'}}}, {'data': {'values': [{}]}, 'mark': {'type': 'rule', 'color': '#fa8f4f'}, 'encoding': {'y': {'datum': 220.87}}}]}\n"
     ]
    }
   ],
   "source": [
    "vl_json=json.loads(vl_spec)\n",
    "vl_json[\"layer\"] = [{ 'mark': vl_json['mark'], 'encoding': vl_json['encoding'] }]\n",
    "vl_json=BarLine(vl_json, \"Year\", \"National debt in billion U\\\\.S\\\\. dollars\", \"nominal\", \"quantitative\", 220.87)\n",
    "del vl_json['mark'], vl_json['encoding']\n",
    "print(vl_json)\n",
    "png_data = vlc.vegalite_to_png(vl_spec=vl_json, scale=2)\n",
    "with open(\"RetrieveValue-Bar-Line.png\", \"wb\") as f:\n",
    "\tf.write(png_data)"
   ]
  },
  {
   "cell_type": "code",
   "execution_count": 779,
   "metadata": {},
   "outputs": [
    {
     "name": "stdout",
     "output_type": "stream",
     "text": [
      "{'config': {'background': '#fff', 'area': {'fill': '#3e5c69'}, 'line': {'stroke': '#3e5c69'}, 'rect': {'fill': '#3e5c69'}, 'bar': {'fill': '#3e5c69'}, 'point': {'color': '#3e5c69'}, 'axis': {'domainWidth': 0.5, 'grid': True, 'labelPadding': 2, 'tickSize': 5, 'tickWidth': 0.5, 'titleFontWeight': 'normal'}, 'axisBand': {'grid': False}, 'axisX': {'gridWidth': 0.2}, 'axisY': {'gridDash': [3], 'gridWidth': 0.4}, 'legend': {'labelFontSize': 11, 'padding': 1, 'symbolType': 'square'}, 'range': {'category': ['#3e5c69', '#6793a6', '#182429', '#0570b0', '#3690c0', '#74a9cf', '#a6bddb', '#e2ddf2']}}, 'data': {'url': 'https://raw.githubusercontent.com/vis-nlp/Chart-to-text/main/statista_dataset/dataset/data/1048.csv'}, 'title': ['Ireland : National debt from 2014 to 2024', '(in billion U.S. dollars)'], '$schema': 'https://vega.github.io/schema/vega-lite/v4.8.1.json', 'layer': [{'mark': 'bar', 'encoding': {'color': {'value': '#0570b0'}, 'x': {'type': 'nominal', 'axis': {}, 'bin': False, 'field': 'Year'}, 'y': {'type': 'quantitative', 'axis': {'title': 'National debt in billion U.S. dollars'}, 'field': 'National debt in billion U\\\\.S\\\\. dollars'}}}, {'mark': 'bar', 'encoding': {'color': {'value': '#fa8f4f'}, 'x': {'type': 'nominal', 'axis': {}, 'bin': False, 'field': 'Year'}, 'y': {'type': 'quantitative', 'axis': {'title': 'National debt in billion U.S. dollars'}, 'field': 'National debt in billion U\\\\.S\\\\. dollars'}}, 'transform': [{'filter': \"datum['National debt in billion U\\\\.S\\\\. dollars'] == 220.87\"}]}]}\n"
     ]
    }
   ],
   "source": [
    "vl_json=json.loads(vl_spec)\n",
    "vl_json[\"layer\"] = [{ 'mark': vl_json['mark'], 'encoding': vl_json['encoding'] }]\n",
    "vl_json=BarColor(vl_json,\"Year\", \"National debt in billion U\\\\.S\\\\. dollars\", \"nominal\", \"quantitative\", 220.87,'equal')\n",
    "del vl_json['mark'], vl_json['encoding']\n",
    "print(vl_json)\n",
    "png_data = vlc.vegalite_to_png(vl_spec=vl_json, scale=2)\n",
    "with open(\"RetrieveValue-Bar-Color.png\", \"wb\") as f:\n",
    "\tf.write(png_data)"
   ]
  },
  {
   "cell_type": "code",
   "execution_count": 780,
   "metadata": {},
   "outputs": [
    {
     "name": "stdout",
     "output_type": "stream",
     "text": [
      "{'config': {'background': '#fff', 'area': {'fill': '#3e5c69'}, 'line': {'stroke': '#3e5c69'}, 'rect': {'fill': '#3e5c69'}, 'bar': {'fill': '#3e5c69'}, 'point': {'color': '#3e5c69'}, 'axis': {'domainWidth': 0.5, 'grid': True, 'labelPadding': 2, 'tickSize': 5, 'tickWidth': 0.5, 'titleFontWeight': 'normal'}, 'axisBand': {'grid': False}, 'axisX': {'gridWidth': 0.2}, 'axisY': {'gridDash': [3], 'gridWidth': 0.4}, 'legend': {'labelFontSize': 11, 'padding': 1, 'symbolType': 'square'}, 'range': {'category': ['#3e5c69', '#6793a6', '#182429', '#0570b0', '#3690c0', '#74a9cf', '#a6bddb', '#e2ddf2']}}, 'data': {'url': 'https://raw.githubusercontent.com/vis-nlp/Chart-to-text/main/statista_dataset/dataset/data/1048.csv'}, 'title': ['Ireland : National debt from 2014 to 2024', '(in billion U.S. dollars)'], '$schema': 'https://vega.github.io/schema/vega-lite/v4.8.1.json', 'layer': [{'mark': 'bar', 'encoding': {'color': {'value': '#0570b0'}, 'x': {'type': 'nominal', 'axis': {}, 'bin': False, 'field': 'Year'}, 'y': {'type': 'quantitative', 'axis': {'title': 'National debt in billion U.S. dollars'}, 'field': 'National debt in billion U\\\\.S\\\\. dollars'}, 'opacity': {'value': 0.4}}}, {'mark': 'bar', 'encoding': {'color': {'value': '#0570b0'}, 'x': {'type': 'nominal', 'axis': {}, 'bin': False, 'field': 'Year'}, 'y': {'type': 'quantitative', 'axis': {'title': 'National debt in billion U.S. dollars'}, 'field': 'National debt in billion U\\\\.S\\\\. dollars'}, 'opacity': {'value': 1}}, 'transform': [{'filter': \"datum['National debt in billion U\\\\.S\\\\. dollars'] == 220.87\"}]}]}\n"
     ]
    }
   ],
   "source": [
    "vl_json=json.loads(vl_spec)\n",
    "vl_json[\"layer\"] = [{ 'mark': vl_json['mark'], 'encoding': vl_json['encoding'] }]\n",
    "vl_json=BarOpacity(vl_json,\"Year\", \"National debt in billion U\\\\.S\\\\. dollars\", \"nominal\", \"quantitative\", 220.87,'equal')\n",
    "del vl_json['mark'], vl_json['encoding']\n",
    "print(vl_json)\n",
    "png_data = vlc.vegalite_to_png(vl_spec=vl_json, scale=2)\n",
    "with open(\"RetrieveValue-Bar-Opacity.png\", \"wb\") as f:\n",
    "\tf.write(png_data)"
   ]
  },
  {
   "cell_type": "code",
   "execution_count": 781,
   "metadata": {},
   "outputs": [
    {
     "name": "stdout",
     "output_type": "stream",
     "text": [
      "{'config': {'background': '#fff', 'area': {'fill': '#3e5c69'}, 'line': {'stroke': '#3e5c69'}, 'rect': {'fill': '#3e5c69'}, 'bar': {'fill': '#3e5c69'}, 'point': {'color': '#3e5c69'}, 'axis': {'domainWidth': 0.5, 'grid': True, 'labelPadding': 2, 'tickSize': 5, 'tickWidth': 0.5, 'titleFontWeight': 'normal'}, 'axisBand': {'grid': False}, 'axisX': {'gridWidth': 0.2}, 'axisY': {'gridDash': [3], 'gridWidth': 0.4}, 'legend': {'labelFontSize': 11, 'padding': 1, 'symbolType': 'square'}, 'range': {'category': ['#3e5c69', '#6793a6', '#182429', '#0570b0', '#3690c0', '#74a9cf', '#a6bddb', '#e2ddf2']}}, 'data': {'url': 'https://raw.githubusercontent.com/vis-nlp/Chart-to-text/main/statista_dataset/dataset/data/1048.csv'}, 'title': ['Ireland : National debt from 2014 to 2024', '(in billion U.S. dollars)'], '$schema': 'https://vega.github.io/schema/vega-lite/v4.8.1.json', 'layer': [{'mark': 'bar', 'encoding': {'color': {'value': '#0570b0'}, 'x': {'type': 'nominal', 'axis': {}, 'bin': False, 'field': 'Year'}, 'y': {'type': 'quantitative', 'axis': {'title': 'National debt in billion U.S. dollars'}, 'field': 'National debt in billion U\\\\.S\\\\. dollars'}, 'opacity': {'value': 0.4}}}, {'mark': 'bar', 'encoding': {'color': {'value': '#0570b0'}, 'x': {'type': 'nominal', 'axis': {}, 'bin': False, 'field': 'Year'}, 'y': {'type': 'quantitative', 'axis': {'title': 'National debt in billion U.S. dollars'}, 'field': 'National debt in billion U\\\\.S\\\\. dollars'}, 'opacity': {'value': 1}}, 'transform': [{'filter': \"datum['National debt in billion U\\\\.S\\\\. dollars'] == 220.87\"}]}, {'mark': {'type': 'text', 'filled': True, 'fontsize': 14, 'angle': 0, 'dy': -10}, 'transform': [{'filter': \"datum['Year'] == '2016'\"}], 'encoding': {'text': {'value': 'lowest'}, 'color': {'value': '#fa8f4f'}, 'x': {'type': 'nominal', 'field': 'Year'}, 'y': {'type': 'quantitative', 'field': 'National debt in billion U\\\\.S\\\\. dollars'}, 'fontSize': {'value': 14}}}]}\n"
     ]
    }
   ],
   "source": [
    "vl_json=json.loads(vl_spec)\n",
    "vl_json[\"layer\"] = [{ 'mark': vl_json['mark'], 'encoding': vl_json['encoding'] }]\n",
    "vl_json=BarOpacity(vl_json,\"Year\", \"National debt in billion U\\\\.S\\\\. dollars\", \"nominal\", \"quantitative\", 220.87,'equal')\n",
    "vl_json=BarText(vl_json, \"Year\", \"National debt in billion U\\\\.S\\\\. dollars\", \"nominal\", \"quantitative\", 2016,\"lowest\")\n",
    "del vl_json['mark'], vl_json['encoding']\n",
    "print(vl_json)\n",
    "png_data = vlc.vegalite_to_png(vl_spec=vl_json, scale=2)\n",
    "with open(\"RetrieveValue-Bar-OpacityText.png\", \"wb\") as f:\n",
    "\tf.write(png_data)"
   ]
  },
  {
   "cell_type": "code",
   "execution_count": 782,
   "metadata": {},
   "outputs": [],
   "source": [
    "vl_spec=r\"\"\"\n",
    "{\n",
    "  \"config\": {\n",
    "    \"background\": \"#fff\",\n",
    "    \"area\": {\"fill\": \"#4572a7\"},\n",
    "    \"line\": {\"stroke\": \"#4572a7\", \"strokeWidth\": 2},\n",
    "    \"rect\": {\"fill\": \"#4572a7\"},\n",
    "    \"bar\": {\"fill\": \"#4572a7\"},\n",
    "    \"point\": {\"color\": \"#4572a7\", \"strokeWidth\": 1.5, \"size\": 50},\n",
    "    \"axis\": {\n",
    "      \"bandPosition\": 0.5,\n",
    "      \"gridColor\": \"#000000\",\n",
    "      \"gridOpacity\": 1,\n",
    "      \"gridWidth\": 0.5,\n",
    "      \"labelPadding\": 10,\n",
    "      \"tickSize\": 5,\n",
    "      \"tickWidth\": 0.5\n",
    "    },\n",
    "    \"axisBand\": {},\n",
    "    \"legend\": {\n",
    "      \"labelBaseline\": \"middle\",\n",
    "      \"labelFontSize\": 11,\n",
    "      \"symbolSize\": 50,\n",
    "      \"symbolType\": \"square\"\n",
    "    },\n",
    "    \"range\": {\n",
    "      \"category\": [\n",
    "        \"#4572a7\",\n",
    "        \"#aa4643\",\n",
    "        \"#8aa453\",\n",
    "        \"#71598e\",\n",
    "        \"#4598ae\",\n",
    "        \"#d98445\",\n",
    "        \"#94aace\",\n",
    "        \"#d09393\",\n",
    "        \"#b9cc98\",\n",
    "        \"#a99cbc\"\n",
    "      ]\n",
    "    }\n",
    "  },\n",
    "  \"data\": {\n",
    "    \"url\": \"https://raw.githubusercontent.com/vis-nlp/Chart-to-text/main/statista_dataset/dataset/data/10139.csv\"\n",
    "  },\n",
    "  \"mark\": \"bar\",\n",
    "  \"encoding\": {\n",
    "    \"color\": {\"value\": \"#d98445\"},\n",
    "    \"x\": {\"type\": \"nominal\", \"axis\": {\"labelAngle\": -30}, \"field\": \"Year\"},\n",
    "    \"y\": {\n",
    "      \"type\": \"quantitative\",\n",
    "      \"axis\": {\"labelAngle\": 30, \"title\": \"Mobile customers in millions\"},\n",
    "      \"field\": \"Mobile customers in millions\"\n",
    "    }\n",
    "  },\n",
    "  \"title\": [\n",
    "    \"Mobile customers in millions in the UK from 2008/09 to 2020/21\",\n",
    "    \"(in millions of customers)\"\n",
    "  ],\n",
    "  \"$schema\": \"https://vega.github.io/schema/vega-lite/v4.8.1.json\"\n",
    "}\n",
    "\"\"\""
   ]
  },
  {
   "cell_type": "code",
   "execution_count": 783,
   "metadata": {},
   "outputs": [],
   "source": [
    "png_data = vlc.vegalite_to_png(vl_spec=vl_spec, scale=2)\n",
    "with open(\"Sample-Bar-Filter.png\", \"wb\") as f:\n",
    "\tf.write(png_data)"
   ]
  },
  {
   "cell_type": "code",
   "execution_count": 784,
   "metadata": {},
   "outputs": [
    {
     "name": "stdout",
     "output_type": "stream",
     "text": [
      "{'config': {'background': '#fff', 'area': {'fill': '#4572a7'}, 'line': {'stroke': '#4572a7', 'strokeWidth': 2}, 'rect': {'fill': '#4572a7'}, 'bar': {'fill': '#4572a7'}, 'point': {'color': '#4572a7', 'strokeWidth': 1.5, 'size': 50}, 'axis': {'bandPosition': 0.5, 'gridColor': '#000000', 'gridOpacity': 1, 'gridWidth': 0.5, 'labelPadding': 10, 'tickSize': 5, 'tickWidth': 0.5}, 'axisBand': {}, 'legend': {'labelBaseline': 'middle', 'labelFontSize': 11, 'symbolSize': 50, 'symbolType': 'square'}, 'range': {'category': ['#4572a7', '#aa4643', '#8aa453', '#71598e', '#4598ae', '#d98445', '#94aace', '#d09393', '#b9cc98', '#a99cbc']}}, 'data': {'url': 'https://raw.githubusercontent.com/vis-nlp/Chart-to-text/main/statista_dataset/dataset/data/10139.csv'}, 'title': ['Mobile customers in millions in the UK from 2008/09 to 2020/21', '(in millions of customers)'], '$schema': 'https://vega.github.io/schema/vega-lite/v4.8.1.json', 'layer': [{'mark': 'bar', 'encoding': {'color': {'value': '#d98445'}, 'x': {'type': 'nominal', 'axis': {'labelAngle': -30}, 'field': 'Year'}, 'y': {'type': 'quantitative', 'axis': {'labelAngle': 30, 'title': 'Mobile customers in millions'}, 'field': 'Mobile customers in millions'}}}, {'mark': 'bar', 'encoding': {'color': {'value': '#267bba'}, 'x': {'type': 'nominal', 'axis': {'labelAngle': -30}, 'field': 'Year'}, 'y': {'type': 'quantitative', 'axis': {'labelAngle': 30, 'title': 'Mobile customers in millions'}, 'field': 'Mobile customers in millions'}}, 'transform': [{'filter': \"datum['Mobile customers in millions'] <= 30\"}]}]}\n"
     ]
    }
   ],
   "source": [
    "vl_json=json.loads(vl_spec)\n",
    "vl_json[\"layer\"] = [{ 'mark': vl_json['mark'], 'encoding': vl_json['encoding'] }]\n",
    "vl_json=BarColor(vl_json,\"Year\", \"Mobile customers in millions\", \"nominal\", \"quantitative\", 30,'below')\n",
    "del vl_json['mark'], vl_json['encoding']\n",
    "print(vl_json)\n",
    "png_data = vlc.vegalite_to_png(vl_spec=vl_json, scale=2)\n",
    "with open(\"Filter-Bar-Color.png\", \"wb\") as f:\n",
    "\tf.write(png_data)"
   ]
  },
  {
   "cell_type": "code",
   "execution_count": 785,
   "metadata": {},
   "outputs": [
    {
     "name": "stdout",
     "output_type": "stream",
     "text": [
      "{'config': {'background': '#fff', 'area': {'fill': '#4572a7'}, 'line': {'stroke': '#4572a7', 'strokeWidth': 2}, 'rect': {'fill': '#4572a7'}, 'bar': {'fill': '#4572a7'}, 'point': {'color': '#4572a7', 'strokeWidth': 1.5, 'size': 50}, 'axis': {'bandPosition': 0.5, 'gridColor': '#000000', 'gridOpacity': 1, 'gridWidth': 0.5, 'labelPadding': 10, 'tickSize': 5, 'tickWidth': 0.5}, 'axisBand': {}, 'legend': {'labelBaseline': 'middle', 'labelFontSize': 11, 'symbolSize': 50, 'symbolType': 'square'}, 'range': {'category': ['#4572a7', '#aa4643', '#8aa453', '#71598e', '#4598ae', '#d98445', '#94aace', '#d09393', '#b9cc98', '#a99cbc']}}, 'data': {'url': 'https://raw.githubusercontent.com/vis-nlp/Chart-to-text/main/statista_dataset/dataset/data/10139.csv'}, 'title': ['Mobile customers in millions in the UK from 2008/09 to 2020/21', '(in millions of customers)'], '$schema': 'https://vega.github.io/schema/vega-lite/v4.8.1.json', 'layer': [{'mark': 'bar', 'encoding': {'color': {'value': '#d98445'}, 'x': {'type': 'nominal', 'axis': {'labelAngle': -30}, 'field': 'Year'}, 'y': {'type': 'quantitative', 'axis': {'labelAngle': 30, 'title': 'Mobile customers in millions'}, 'field': 'Mobile customers in millions'}}}, {'data': {'values': [{}]}, 'mark': {'type': 'rule', 'color': '#267bba'}, 'encoding': {'y': {'datum': 30}}}]}\n"
     ]
    }
   ],
   "source": [
    "vl_json=json.loads(vl_spec)\n",
    "vl_json[\"layer\"] = [{ 'mark': vl_json['mark'], 'encoding': vl_json['encoding'] }]\n",
    "vl_json=BarLine(vl_json, \"Year\", \"Mobile customers in millions\", \"nominal\", \"quantitative\", 30)\n",
    "del vl_json['mark'], vl_json['encoding']\n",
    "print(vl_json)\n",
    "png_data = vlc.vegalite_to_png(vl_spec=vl_json, scale=2)\n",
    "with open(\"Filter-Bar-Line.png\", \"wb\") as f:\n",
    "\tf.write(png_data)"
   ]
  },
  {
   "cell_type": "code",
   "execution_count": 786,
   "metadata": {},
   "outputs": [
    {
     "name": "stdout",
     "output_type": "stream",
     "text": [
      "{'config': {'background': '#fff', 'area': {'fill': '#4572a7'}, 'line': {'stroke': '#4572a7', 'strokeWidth': 2}, 'rect': {'fill': '#4572a7'}, 'bar': {'fill': '#4572a7'}, 'point': {'color': '#4572a7', 'strokeWidth': 1.5, 'size': 50}, 'axis': {'bandPosition': 0.5, 'gridColor': '#000000', 'gridOpacity': 1, 'gridWidth': 0.5, 'labelPadding': 10, 'tickSize': 5, 'tickWidth': 0.5}, 'axisBand': {}, 'legend': {'labelBaseline': 'middle', 'labelFontSize': 11, 'symbolSize': 50, 'symbolType': 'square'}, 'range': {'category': ['#4572a7', '#aa4643', '#8aa453', '#71598e', '#4598ae', '#d98445', '#94aace', '#d09393', '#b9cc98', '#a99cbc']}}, 'data': {'url': 'https://raw.githubusercontent.com/vis-nlp/Chart-to-text/main/statista_dataset/dataset/data/10139.csv'}, 'title': ['Mobile customers in millions in the UK from 2008/09 to 2020/21', '(in millions of customers)'], '$schema': 'https://vega.github.io/schema/vega-lite/v4.8.1.json', 'layer': [{'mark': 'bar', 'encoding': {'color': {'value': '#d98445'}, 'x': {'type': 'nominal', 'axis': {'labelAngle': -30}, 'field': 'Year'}, 'y': {'type': 'quantitative', 'axis': {'labelAngle': 30, 'title': 'Mobile customers in millions'}, 'field': 'Mobile customers in millions'}, 'opacity': {'value': 0.4}}}, {'mark': 'bar', 'encoding': {'color': {'value': '#d98445'}, 'x': {'type': 'nominal', 'axis': {'labelAngle': -30}, 'field': 'Year'}, 'y': {'type': 'quantitative', 'axis': {'labelAngle': 30, 'title': 'Mobile customers in millions'}, 'field': 'Mobile customers in millions'}, 'opacity': {'value': 1}}, 'transform': [{'filter': \"datum['Mobile customers in millions'] <= 30\"}]}]}\n"
     ]
    }
   ],
   "source": [
    "vl_json=json.loads(vl_spec)\n",
    "vl_json[\"layer\"] = [{ 'mark': vl_json['mark'], 'encoding': vl_json['encoding'] }]\n",
    "vl_json=BarOpacity(vl_json,\"Year\", \"Mobile customers in millions\", \"nominal\", \"quantitative\", 30,'below')\n",
    "del vl_json['mark'], vl_json['encoding']\n",
    "print(vl_json)\n",
    "png_data = vlc.vegalite_to_png(vl_spec=vl_json, scale=2)\n",
    "with open(\"Filter-Bar-Opacity.png\", \"wb\") as f:\n",
    "\tf.write(png_data)"
   ]
  },
  {
   "cell_type": "code",
   "execution_count": 787,
   "metadata": {},
   "outputs": [
    {
     "name": "stdout",
     "output_type": "stream",
     "text": [
      "{'config': {'background': '#fff', 'area': {'fill': '#4572a7'}, 'line': {'stroke': '#4572a7', 'strokeWidth': 2}, 'rect': {'fill': '#4572a7'}, 'bar': {'fill': '#4572a7'}, 'point': {'color': '#4572a7', 'strokeWidth': 1.5, 'size': 50}, 'axis': {'bandPosition': 0.5, 'gridColor': '#000000', 'gridOpacity': 1, 'gridWidth': 0.5, 'labelPadding': 10, 'tickSize': 5, 'tickWidth': 0.5}, 'axisBand': {}, 'legend': {'labelBaseline': 'middle', 'labelFontSize': 11, 'symbolSize': 50, 'symbolType': 'square'}, 'range': {'category': ['#4572a7', '#aa4643', '#8aa453', '#71598e', '#4598ae', '#d98445', '#94aace', '#d09393', '#b9cc98', '#a99cbc']}}, 'data': {'url': 'https://raw.githubusercontent.com/vis-nlp/Chart-to-text/main/statista_dataset/dataset/data/10139.csv'}, 'title': ['Mobile customers in millions in the UK from 2008/09 to 2020/21', '(in millions of customers)'], '$schema': 'https://vega.github.io/schema/vega-lite/v4.8.1.json', 'layer': [{'mark': 'bar', 'encoding': {'color': {'value': '#d98445'}, 'x': {'type': 'nominal', 'axis': {'labelAngle': -30}, 'field': 'Year'}, 'y': {'type': 'quantitative', 'axis': {'labelAngle': 30, 'title': 'Mobile customers in millions'}, 'field': 'Mobile customers in millions'}}}, {'data': {'values': [{'PlotX1': '2008', 'PlotY1': 0, 'PlotX2': '2020', 'PlotY2': 30}]}, 'mark': {'type': 'rect', 'color': '#267bba', 'stroke': '#267bba', 'fillOpacity': 0.2, 'strokeWidth': 0}, 'encoding': {'x': {'field': 'PlotX1', 'type': 'nominal'}, 'y': {'field': 'PlotY1', 'type': 'quantitative'}, 'x2': {'field': 'PlotX2', 'type': 'nominal'}, 'y2': {'field': 'PlotY2', 'type': 'quantitative'}}}]}\n"
     ]
    }
   ],
   "source": [
    "vl_json=json.loads(vl_spec)\n",
    "vl_json[\"layer\"] = [{ 'mark': vl_json['mark'], 'encoding': vl_json['encoding'] }]\n",
    "vl_json=BarArea(vl_json,\"Year\", \"Mobile customers in millions\", \"nominal\", \"quantitative\", \"2008\",0,\"2020\",30)\n",
    "del vl_json['mark'], vl_json['encoding']\n",
    "print(vl_json)\n",
    "png_data = vlc.vegalite_to_png(vl_spec=vl_json, scale=2)\n",
    "with open(\"Filter-Bar-Shade.png\", \"wb\") as f:\n",
    "\tf.write(png_data)"
   ]
  },
  {
   "cell_type": "code",
   "execution_count": 788,
   "metadata": {},
   "outputs": [
    {
     "name": "stdout",
     "output_type": "stream",
     "text": [
      "{'config': {'background': '#fff', 'area': {'fill': '#4572a7'}, 'line': {'stroke': '#4572a7', 'strokeWidth': 2}, 'rect': {'fill': '#4572a7'}, 'bar': {'fill': '#4572a7'}, 'point': {'color': '#4572a7', 'strokeWidth': 1.5, 'size': 50}, 'axis': {'bandPosition': 0.5, 'gridColor': '#000000', 'gridOpacity': 1, 'gridWidth': 0.5, 'labelPadding': 10, 'tickSize': 5, 'tickWidth': 0.5}, 'axisBand': {}, 'legend': {'labelBaseline': 'middle', 'labelFontSize': 11, 'symbolSize': 50, 'symbolType': 'square'}, 'range': {'category': ['#4572a7', '#aa4643', '#8aa453', '#71598e', '#4598ae', '#d98445', '#94aace', '#d09393', '#b9cc98', '#a99cbc']}}, 'data': {'url': 'https://raw.githubusercontent.com/vis-nlp/Chart-to-text/main/statista_dataset/dataset/data/10139.csv'}, 'title': ['Mobile customers in millions in the UK from 2008/09 to 2020/21', '(in millions of customers)'], '$schema': 'https://vega.github.io/schema/vega-lite/v4.8.1.json', 'layer': [{'mark': 'bar', 'encoding': {'color': {'value': '#d98445'}, 'x': {'type': 'nominal', 'axis': {'labelAngle': -30}, 'field': 'Year'}, 'y': {'type': 'quantitative', 'axis': {'labelAngle': 30, 'title': 'Mobile customers in millions'}, 'field': 'Mobile customers in millions'}, 'opacity': {'value': 0.4}}}, {'mark': 'bar', 'encoding': {'color': {'value': '#d98445'}, 'x': {'type': 'nominal', 'axis': {'labelAngle': -30}, 'field': 'Year'}, 'y': {'type': 'quantitative', 'axis': {'labelAngle': 30, 'title': 'Mobile customers in millions'}, 'field': 'Mobile customers in millions'}, 'opacity': {'value': 1}}, 'transform': [{'filter': \"datum['Mobile customers in millions'] <= 30\"}]}, {'data': {'values': [{}]}, 'mark': {'type': 'rule', 'color': '#267bba'}, 'encoding': {'y': {'datum': 30}}}]}\n"
     ]
    }
   ],
   "source": [
    "vl_json=json.loads(vl_spec)\n",
    "vl_json[\"layer\"] = [{ 'mark': vl_json['mark'], 'encoding': vl_json['encoding'] }]\n",
    "vl_json=BarOpacity(vl_json,\"Year\", \"Mobile customers in millions\", \"nominal\", \"quantitative\", 30,'below')\n",
    "vl_json=BarLine(vl_json, \"Year\", \"Mobile customers in millions\", \"nominal\", \"quantitative\", 30)\n",
    "del vl_json['mark'], vl_json['encoding']\n",
    "print(vl_json)\n",
    "png_data = vlc.vegalite_to_png(vl_spec=vl_json, scale=2)\n",
    "with open(\"Filter-Bar-OpacityLine.png\", \"wb\") as f:\n",
    "\tf.write(png_data)"
   ]
  },
  {
   "cell_type": "code",
   "execution_count": 789,
   "metadata": {},
   "outputs": [
    {
     "name": "stdout",
     "output_type": "stream",
     "text": [
      "{'config': {'background': '#fff', 'area': {'fill': '#4572a7'}, 'line': {'stroke': '#4572a7', 'strokeWidth': 2}, 'rect': {'fill': '#4572a7'}, 'bar': {'fill': '#4572a7'}, 'point': {'color': '#4572a7', 'strokeWidth': 1.5, 'size': 50}, 'axis': {'bandPosition': 0.5, 'gridColor': '#000000', 'gridOpacity': 1, 'gridWidth': 0.5, 'labelPadding': 10, 'tickSize': 5, 'tickWidth': 0.5}, 'axisBand': {}, 'legend': {'labelBaseline': 'middle', 'labelFontSize': 11, 'symbolSize': 50, 'symbolType': 'square'}, 'range': {'category': ['#4572a7', '#aa4643', '#8aa453', '#71598e', '#4598ae', '#d98445', '#94aace', '#d09393', '#b9cc98', '#a99cbc']}}, 'data': {'url': 'https://raw.githubusercontent.com/vis-nlp/Chart-to-text/main/statista_dataset/dataset/data/10139.csv'}, 'title': ['Mobile customers in millions in the UK from 2008/09 to 2020/21', '(in millions of customers)'], '$schema': 'https://vega.github.io/schema/vega-lite/v4.8.1.json', 'layer': [{'mark': 'bar', 'encoding': {'color': {'value': '#d98445'}, 'x': {'type': 'nominal', 'axis': {'labelAngle': -30}, 'field': 'Year'}, 'y': {'type': 'quantitative', 'axis': {'labelAngle': 30, 'title': 'Mobile customers in millions'}, 'field': 'Mobile customers in millions'}}}, {'data': {'values': [{'PlotX1': '2008', 'PlotY1': 0, 'PlotX2': '2020', 'PlotY2': 30}]}, 'mark': {'type': 'rect', 'color': '#267bba', 'stroke': '#267bba', 'fillOpacity': 0, 'strokeWidth': 2}, 'encoding': {'x': {'field': 'PlotX1', 'type': 'nominal'}, 'y': {'field': 'PlotY1', 'type': 'quantitative'}, 'x2': {'field': 'PlotX2', 'type': 'nominal'}, 'y2': {'field': 'PlotY2', 'type': 'quantitative'}}}]}\n"
     ]
    }
   ],
   "source": [
    "vl_json=json.loads(vl_spec)\n",
    "vl_json[\"layer\"] = [{ 'mark': vl_json['mark'], 'encoding': vl_json['encoding'] }]\n",
    "vl_json=BarArea(vl_json,\"Year\", \"National debt in billion U\\\\.S\\\\. dollars\", \"nominal\", \"quantitative\", \"2008\",0,\"2020\",30,shade=False)\n",
    "del vl_json['mark'], vl_json['encoding']\n",
    "print(vl_json)\n",
    "png_data = vlc.vegalite_to_png(vl_spec=vl_json, scale=2)\n",
    "with open(\"Filter-Bar-Bound.png\", \"wb\") as f:\n",
    "\tf.write(png_data)"
   ]
  },
  {
   "cell_type": "code",
   "execution_count": 790,
   "metadata": {},
   "outputs": [],
   "source": [
    "vl_spec=r'''\n",
    "{\n",
    "  \"config\": {\n",
    "    \"background\": \"#fff\",\n",
    "    \"area\": {\"fill\": \"#4572a7\"},\n",
    "    \"line\": {\"stroke\": \"#4572a7\", \"strokeWidth\": 2},\n",
    "    \"rect\": {\"fill\": \"#4572a7\"},\n",
    "    \"bar\": {\"fill\": \"#4572a7\"},\n",
    "    \"point\": {\"color\": \"#4572a7\", \"strokeWidth\": 1.5, \"size\": 50},\n",
    "    \"axis\": {\n",
    "      \"bandPosition\": 0.5,\n",
    "      \"gridColor\": \"#000000\",\n",
    "      \"gridOpacity\": 1,\n",
    "      \"gridWidth\": 0.5,\n",
    "      \"labelPadding\": 10,\n",
    "      \"tickSize\": 5,\n",
    "      \"tickWidth\": 0.5\n",
    "    },\n",
    "    \"axisBand\": {},\n",
    "    \"legend\": {\n",
    "      \"labelBaseline\": \"middle\",\n",
    "      \"labelFontSize\": 11,\n",
    "      \"symbolSize\": 50,\n",
    "      \"symbolType\": \"square\"\n",
    "    },\n",
    "    \"range\": {\n",
    "      \"category\": [\n",
    "        \"#4572a7\",\n",
    "        \"#aa4643\",\n",
    "        \"#8aa453\",\n",
    "        \"#71598e\",\n",
    "        \"#4598ae\",\n",
    "        \"#d98445\",\n",
    "        \"#94aace\",\n",
    "        \"#d09393\",\n",
    "        \"#b9cc98\",\n",
    "        \"#a99cbc\"\n",
    "      ]\n",
    "    }\n",
    "  },\n",
    "  \"data\": {\n",
    "    \"url\": \"https://raw.githubusercontent.com/vis-nlp/Chart-to-text/main/statista_dataset/dataset/data/10735.csv\"\n",
    "  },\n",
    "  \"mark\": \"bar\",\n",
    "  \"encoding\": {\n",
    "    \"color\": {\"value\": \"#d98445\"},\n",
    "    \"x\": {\"type\": \"nominal\", \"axis\": {\"labelAngle\": -30}, \"field\": \"Country\"},\n",
    "    \"y\": {\n",
    "      \"type\": \"quantitative\",\n",
    "      \"axis\": {\n",
    "        \"labelAngle\": 30,\n",
    "        \"title\": \"Average daily usage time in minutes\"\n",
    "      },\n",
    "      \"field\": \"Average daily usage time in minutes\"\n",
    "    }\n",
    "  },\n",
    "  \"title\": [\"Average daily usage time of\", \"smartphones in 2018, by country\"],\n",
    "  \"$schema\": \"https://vega.github.io/schema/vega-lite/v4.8.1.json\"\n",
    "}\n",
    "'''\n"
   ]
  },
  {
   "cell_type": "code",
   "execution_count": 791,
   "metadata": {},
   "outputs": [],
   "source": [
    "png_data = vlc.vegalite_to_png(vl_spec=vl_spec, scale=2)\n",
    "with open(\"Sample-Bar-Range.png\", \"wb\") as f:\n",
    "\tf.write(png_data)"
   ]
  },
  {
   "cell_type": "code",
   "execution_count": 792,
   "metadata": {},
   "outputs": [
    {
     "name": "stdout",
     "output_type": "stream",
     "text": [
      "{'config': {'background': '#fff', 'area': {'fill': '#4572a7'}, 'line': {'stroke': '#4572a7', 'strokeWidth': 2}, 'rect': {'fill': '#4572a7'}, 'bar': {'fill': '#4572a7'}, 'point': {'color': '#4572a7', 'strokeWidth': 1.5, 'size': 50}, 'axis': {'bandPosition': 0.5, 'gridColor': '#000000', 'gridOpacity': 1, 'gridWidth': 0.5, 'labelPadding': 10, 'tickSize': 5, 'tickWidth': 0.5}, 'axisBand': {}, 'legend': {'labelBaseline': 'middle', 'labelFontSize': 11, 'symbolSize': 50, 'symbolType': 'square'}, 'range': {'category': ['#4572a7', '#aa4643', '#8aa453', '#71598e', '#4598ae', '#d98445', '#94aace', '#d09393', '#b9cc98', '#a99cbc']}}, 'data': {'url': 'https://raw.githubusercontent.com/vis-nlp/Chart-to-text/main/statista_dataset/dataset/data/10735.csv'}, 'title': ['Average daily usage time of', 'smartphones in 2018, by country'], '$schema': 'https://vega.github.io/schema/vega-lite/v4.8.1.json', 'layer': [{'mark': 'bar', 'encoding': {'color': {'value': '#d98445'}, 'x': {'type': 'nominal', 'axis': {'labelAngle': -30}, 'field': 'Country'}, 'y': {'type': 'quantitative', 'axis': {'labelAngle': 30, 'title': 'Average daily usage time in minutes'}, 'field': 'Average daily usage time in minutes'}}}, {'mark': 'bar', 'encoding': {'color': {'value': '#267bba'}, 'x': {'type': 'nominal', 'axis': {'labelAngle': -30}, 'field': 'Country'}, 'y': {'type': 'quantitative', 'axis': {'labelAngle': 30, 'title': 'Average daily usage time in minutes'}, 'field': 'Average daily usage time in minutes'}}, 'transform': [{'filter': \"datum['Average daily usage time in minutes'] >= 50 && datum['Average daily usage time in minutes'] <= 70\"}]}]}\n"
     ]
    }
   ],
   "source": [
    "vl_json=json.loads(vl_spec)\n",
    "vl_json[\"layer\"] = [{ 'mark': vl_json['mark'], 'encoding': vl_json['encoding'] }]\n",
    "vl_json=BarColor(vl_json,\"Country\", \"Average daily usage time in minutes\", \"nominal\", \"quantitative\", 50,'above_and_below',70)\n",
    "del vl_json['mark'], vl_json['encoding']\n",
    "print(vl_json)\n",
    "png_data = vlc.vegalite_to_png(vl_spec=vl_json, scale=2)\n",
    "with open(\"Range-Bar-Color.png\", \"wb\") as f:\n",
    "\tf.write(png_data)"
   ]
  },
  {
   "cell_type": "code",
   "execution_count": 793,
   "metadata": {},
   "outputs": [
    {
     "name": "stdout",
     "output_type": "stream",
     "text": [
      "{'config': {'background': '#fff', 'area': {'fill': '#4572a7'}, 'line': {'stroke': '#4572a7', 'strokeWidth': 2}, 'rect': {'fill': '#4572a7'}, 'bar': {'fill': '#4572a7'}, 'point': {'color': '#4572a7', 'strokeWidth': 1.5, 'size': 50}, 'axis': {'bandPosition': 0.5, 'gridColor': '#000000', 'gridOpacity': 1, 'gridWidth': 0.5, 'labelPadding': 10, 'tickSize': 5, 'tickWidth': 0.5}, 'axisBand': {}, 'legend': {'labelBaseline': 'middle', 'labelFontSize': 11, 'symbolSize': 50, 'symbolType': 'square'}, 'range': {'category': ['#4572a7', '#aa4643', '#8aa453', '#71598e', '#4598ae', '#d98445', '#94aace', '#d09393', '#b9cc98', '#a99cbc']}}, 'data': {'url': 'https://raw.githubusercontent.com/vis-nlp/Chart-to-text/main/statista_dataset/dataset/data/10735.csv'}, 'title': ['Average daily usage time of', 'smartphones in 2018, by country'], '$schema': 'https://vega.github.io/schema/vega-lite/v4.8.1.json', 'layer': [{'mark': 'bar', 'encoding': {'color': {'value': '#d98445'}, 'x': {'type': 'nominal', 'axis': {'labelAngle': -30}, 'field': 'Country'}, 'y': {'type': 'quantitative', 'axis': {'labelAngle': 30, 'title': 'Average daily usage time in minutes'}, 'field': 'Average daily usage time in minutes'}, 'opacity': {'value': 0.4}}}, {'mark': 'bar', 'encoding': {'color': {'value': '#d98445'}, 'x': {'type': 'nominal', 'axis': {'labelAngle': -30}, 'field': 'Country'}, 'y': {'type': 'quantitative', 'axis': {'labelAngle': 30, 'title': 'Average daily usage time in minutes'}, 'field': 'Average daily usage time in minutes'}, 'opacity': {'value': 1}}, 'transform': [{'filter': \"datum['Average daily usage time in minutes'] >= 50 && datum['Average daily usage time in minutes'] <= 70\"}]}]}\n"
     ]
    }
   ],
   "source": [
    "vl_json=json.loads(vl_spec)\n",
    "vl_json[\"layer\"] = [{ 'mark': vl_json['mark'], 'encoding': vl_json['encoding'] }]\n",
    "vl_json=BarOpacity(vl_json,\"Country\", \"Average daily usage time in minutes\", \"nominal\", \"quantitative\", 50,'above_and_below',70)\n",
    "del vl_json['mark'], vl_json['encoding']\n",
    "print(vl_json)\n",
    "png_data = vlc.vegalite_to_png(vl_spec=vl_json, scale=2)\n",
    "with open(\"Range-Bar-Opacity.png\", \"wb\") as f:\n",
    "\tf.write(png_data)"
   ]
  },
  {
   "cell_type": "code",
   "execution_count": 794,
   "metadata": {},
   "outputs": [
    {
     "name": "stdout",
     "output_type": "stream",
     "text": [
      "{'config': {'background': '#fff', 'area': {'fill': '#4572a7'}, 'line': {'stroke': '#4572a7', 'strokeWidth': 2}, 'rect': {'fill': '#4572a7'}, 'bar': {'fill': '#4572a7'}, 'point': {'color': '#4572a7', 'strokeWidth': 1.5, 'size': 50}, 'axis': {'bandPosition': 0.5, 'gridColor': '#000000', 'gridOpacity': 1, 'gridWidth': 0.5, 'labelPadding': 10, 'tickSize': 5, 'tickWidth': 0.5}, 'axisBand': {}, 'legend': {'labelBaseline': 'middle', 'labelFontSize': 11, 'symbolSize': 50, 'symbolType': 'square'}, 'range': {'category': ['#4572a7', '#aa4643', '#8aa453', '#71598e', '#4598ae', '#d98445', '#94aace', '#d09393', '#b9cc98', '#a99cbc']}}, 'data': {'url': 'https://raw.githubusercontent.com/vis-nlp/Chart-to-text/main/statista_dataset/dataset/data/10735.csv'}, 'title': ['Average daily usage time of', 'smartphones in 2018, by country'], '$schema': 'https://vega.github.io/schema/vega-lite/v4.8.1.json', 'layer': [{'mark': 'bar', 'encoding': {'color': {'value': '#d98445'}, 'x': {'type': 'nominal', 'axis': {'labelAngle': -30}, 'field': 'Country'}, 'y': {'type': 'quantitative', 'axis': {'labelAngle': 30, 'title': 'Average daily usage time in minutes'}, 'field': 'Average daily usage time in minutes'}}}, {'data': {'values': [{}]}, 'mark': {'type': 'rule', 'color': '#267bba'}, 'encoding': {'y': {'datum': 50}}}, {'data': {'values': [{}]}, 'mark': {'type': 'rule', 'color': '#267bba'}, 'encoding': {'y': {'datum': 70}}}]}\n"
     ]
    }
   ],
   "source": [
    "vl_json=json.loads(vl_spec)\n",
    "vl_json[\"layer\"] = [{ 'mark': vl_json['mark'], 'encoding': vl_json['encoding'] }]\n",
    "vl_json=BarLine(vl_json, \"Country\", \"Average daily usage time in minutes\", \"nominal\", \"quantitative\", 50,70)\n",
    "del vl_json['mark'], vl_json['encoding']\n",
    "print(vl_json)\n",
    "png_data = vlc.vegalite_to_png(vl_spec=vl_json, scale=2)\n",
    "with open(\"Range-Bar-Line.png\", \"wb\") as f:\n",
    "\tf.write(png_data)"
   ]
  },
  {
   "cell_type": "code",
   "execution_count": 795,
   "metadata": {},
   "outputs": [
    {
     "name": "stdout",
     "output_type": "stream",
     "text": [
      "{'config': {'background': '#fff', 'area': {'fill': '#4572a7'}, 'line': {'stroke': '#4572a7', 'strokeWidth': 2}, 'rect': {'fill': '#4572a7'}, 'bar': {'fill': '#4572a7'}, 'point': {'color': '#4572a7', 'strokeWidth': 1.5, 'size': 50}, 'axis': {'bandPosition': 0.5, 'gridColor': '#000000', 'gridOpacity': 1, 'gridWidth': 0.5, 'labelPadding': 10, 'tickSize': 5, 'tickWidth': 0.5}, 'axisBand': {}, 'legend': {'labelBaseline': 'middle', 'labelFontSize': 11, 'symbolSize': 50, 'symbolType': 'square'}, 'range': {'category': ['#4572a7', '#aa4643', '#8aa453', '#71598e', '#4598ae', '#d98445', '#94aace', '#d09393', '#b9cc98', '#a99cbc']}}, 'data': {'url': 'https://raw.githubusercontent.com/vis-nlp/Chart-to-text/main/statista_dataset/dataset/data/10735.csv'}, 'title': ['Average daily usage time of', 'smartphones in 2018, by country'], '$schema': 'https://vega.github.io/schema/vega-lite/v4.8.1.json', 'layer': [{'mark': 'bar', 'encoding': {'color': {'value': '#d98445'}, 'x': {'type': 'nominal', 'axis': {'labelAngle': -30}, 'field': 'Country'}, 'y': {'type': 'quantitative', 'axis': {'labelAngle': 30, 'title': 'Average daily usage time in minutes'}, 'field': 'Average daily usage time in minutes'}, 'opacity': {'value': 0.4}}}, {'mark': 'bar', 'encoding': {'color': {'value': '#d98445'}, 'x': {'type': 'nominal', 'axis': {'labelAngle': -30}, 'field': 'Country'}, 'y': {'type': 'quantitative', 'axis': {'labelAngle': 30, 'title': 'Average daily usage time in minutes'}, 'field': 'Average daily usage time in minutes'}, 'opacity': {'value': 1}}, 'transform': [{'filter': \"datum['Average daily usage time in minutes'] >= 50 && datum['Average daily usage time in minutes'] <= 70\"}]}, {'data': {'values': [{}]}, 'mark': {'type': 'rule', 'color': '#267bba'}, 'encoding': {'y': {'datum': 50}}}, {'data': {'values': [{}]}, 'mark': {'type': 'rule', 'color': '#267bba'}, 'encoding': {'y': {'datum': 70}}}]}\n"
     ]
    }
   ],
   "source": [
    "vl_json=json.loads(vl_spec)\n",
    "vl_json[\"layer\"] = [{ 'mark': vl_json['mark'], 'encoding': vl_json['encoding'] }]\n",
    "vl_json=BarOpacity(vl_json,\"Country\", \"Average daily usage time in minutes\", \"nominal\", \"quantitative\", 50,'above_and_below',70)\n",
    "vl_json=BarLine(vl_json, \"Country\", \"Average daily usage time in minutes\", \"nominal\", \"quantitative\", 50,70)\n",
    "del vl_json['mark'], vl_json['encoding']\n",
    "print(vl_json)\n",
    "png_data = vlc.vegalite_to_png(vl_spec=vl_json, scale=2)\n",
    "with open(\"Range-Bar-OpacityLine.png\", \"wb\") as f:\n",
    "\tf.write(png_data)"
   ]
  },
  {
   "cell_type": "code",
   "execution_count": 796,
   "metadata": {},
   "outputs": [
    {
     "name": "stdout",
     "output_type": "stream",
     "text": [
      "{'config': {'background': '#fff', 'area': {'fill': '#4572a7'}, 'line': {'stroke': '#4572a7', 'strokeWidth': 2}, 'rect': {'fill': '#4572a7'}, 'bar': {'fill': '#4572a7'}, 'point': {'color': '#4572a7', 'strokeWidth': 1.5, 'size': 50}, 'axis': {'bandPosition': 0.5, 'gridColor': '#000000', 'gridOpacity': 1, 'gridWidth': 0.5, 'labelPadding': 10, 'tickSize': 5, 'tickWidth': 0.5}, 'axisBand': {}, 'legend': {'labelBaseline': 'middle', 'labelFontSize': 11, 'symbolSize': 50, 'symbolType': 'square'}, 'range': {'category': ['#4572a7', '#aa4643', '#8aa453', '#71598e', '#4598ae', '#d98445', '#94aace', '#d09393', '#b9cc98', '#a99cbc']}}, 'data': {'url': 'https://raw.githubusercontent.com/vis-nlp/Chart-to-text/main/statista_dataset/dataset/data/10735.csv'}, 'title': ['Average daily usage time of', 'smartphones in 2018, by country'], '$schema': 'https://vega.github.io/schema/vega-lite/v4.8.1.json', 'layer': [{'mark': 'bar', 'encoding': {'color': {'value': '#d98445'}, 'x': {'type': 'nominal', 'axis': {'labelAngle': -30}, 'field': 'Country'}, 'y': {'type': 'quantitative', 'axis': {'labelAngle': 30, 'title': 'Average daily usage time in minutes'}, 'field': 'Average daily usage time in minutes'}}}, {'data': {'values': [{'PlotX1': 'China', 'PlotY1': 50, 'PlotX2': 'Vietnam', 'PlotY2': 70}]}, 'mark': {'type': 'rect', 'color': '#267bba', 'stroke': '#267bba', 'fillOpacity': 0.2, 'strokeWidth': 0}, 'encoding': {'x': {'field': 'PlotX1', 'type': 'nominal'}, 'y': {'field': 'PlotY1', 'type': 'quantitative'}, 'x2': {'field': 'PlotX2', 'type': 'nominal'}, 'y2': {'field': 'PlotY2', 'type': 'quantitative'}}}]}\n"
     ]
    }
   ],
   "source": [
    "vl_json=json.loads(vl_spec)\n",
    "vl_json[\"layer\"] = [{ 'mark': vl_json['mark'], 'encoding': vl_json['encoding'] }]\n",
    "vl_json=BarArea(vl_json,\"Country\", \"Average daily usage time in minutes\", \"nominal\", \"quantitative\", \"China\",50,\"Vietnam\",70)\n",
    "del vl_json['mark'], vl_json['encoding']\n",
    "print(vl_json)\n",
    "png_data = vlc.vegalite_to_png(vl_spec=vl_json, scale=2)\n",
    "with open(\"Range-Bar-Shade.png\", \"wb\") as f:\n",
    "\tf.write(png_data)"
   ]
  },
  {
   "cell_type": "code",
   "execution_count": 797,
   "metadata": {},
   "outputs": [
    {
     "name": "stdout",
     "output_type": "stream",
     "text": [
      "{'config': {'background': '#fff', 'area': {'fill': '#4572a7'}, 'line': {'stroke': '#4572a7', 'strokeWidth': 2}, 'rect': {'fill': '#4572a7'}, 'bar': {'fill': '#4572a7'}, 'point': {'color': '#4572a7', 'strokeWidth': 1.5, 'size': 50}, 'axis': {'bandPosition': 0.5, 'gridColor': '#000000', 'gridOpacity': 1, 'gridWidth': 0.5, 'labelPadding': 10, 'tickSize': 5, 'tickWidth': 0.5}, 'axisBand': {}, 'legend': {'labelBaseline': 'middle', 'labelFontSize': 11, 'symbolSize': 50, 'symbolType': 'square'}, 'range': {'category': ['#4572a7', '#aa4643', '#8aa453', '#71598e', '#4598ae', '#d98445', '#94aace', '#d09393', '#b9cc98', '#a99cbc']}}, 'data': {'url': 'https://raw.githubusercontent.com/vis-nlp/Chart-to-text/main/statista_dataset/dataset/data/10735.csv'}, 'title': ['Average daily usage time of', 'smartphones in 2018, by country'], '$schema': 'https://vega.github.io/schema/vega-lite/v4.8.1.json', 'layer': [{'mark': 'bar', 'encoding': {'color': {'value': '#d98445'}, 'x': {'type': 'nominal', 'axis': {'labelAngle': -30}, 'field': 'Country'}, 'y': {'type': 'quantitative', 'axis': {'labelAngle': 30, 'title': 'Average daily usage time in minutes'}, 'field': 'Average daily usage time in minutes'}}}, {'data': {'values': [{'PlotX1': 'China', 'PlotY1': 50, 'PlotX2': 'Vietnam', 'PlotY2': 70}]}, 'mark': {'type': 'rect', 'color': '#267bba', 'stroke': '#267bba', 'fillOpacity': 0, 'strokeWidth': 2}, 'encoding': {'x': {'field': 'PlotX1', 'type': 'nominal'}, 'y': {'field': 'PlotY1', 'type': 'quantitative'}, 'x2': {'field': 'PlotX2', 'type': 'nominal'}, 'y2': {'field': 'PlotY2', 'type': 'quantitative'}}}]}\n"
     ]
    }
   ],
   "source": [
    "vl_json=json.loads(vl_spec)\n",
    "vl_json[\"layer\"] = [{ 'mark': vl_json['mark'], 'encoding': vl_json['encoding'] }]\n",
    "vl_json=BarArea(vl_json,\"Country\", \"Average daily usage time in minutes\", \"nominal\", \"quantitative\", \"China\",50,\"Vietnam\",70,shade=False)\n",
    "del vl_json['mark'], vl_json['encoding']\n",
    "print(vl_json)\n",
    "png_data = vlc.vegalite_to_png(vl_spec=vl_json, scale=2)\n",
    "with open(\"Range-Bar-Bound.png\", \"wb\") as f:\n",
    "\tf.write(png_data)"
   ]
  },
  {
   "cell_type": "code",
   "execution_count": 798,
   "metadata": {},
   "outputs": [],
   "source": [
    "vl_spec=r\"\"\"\n",
    "\n",
    "  {\n",
    "  \"config\": {\n",
    "    \"background\": \"#fff\",\n",
    "    \"area\": {\"fill\": \"#4572a7\"},\n",
    "    \"line\": {\"stroke\": \"#4572a7\", \"strokeWidth\": 2},\n",
    "    \"rect\": {\"fill\": \"#4572a7\"},\n",
    "    \"bar\": {\"fill\": \"#4572a7\"},\n",
    "    \"point\": {\"color\": \"#4572a7\", \"strokeWidth\": 1.5, \"size\": 50},\n",
    "    \"axis\": {\n",
    "      \"bandPosition\": 0.5,\n",
    "      \"gridColor\": \"#000000\",\n",
    "      \"gridOpacity\": 1,\n",
    "      \"gridWidth\": 0.5,\n",
    "      \"labelPadding\": 10,\n",
    "      \"tickSize\": 5,\n",
    "      \"tickWidth\": 0.5\n",
    "    },\n",
    "    \"axisBand\": {},\n",
    "    \"legend\": {\n",
    "      \"labelBaseline\": \"middle\",\n",
    "      \"labelFontSize\": 11,\n",
    "      \"symbolSize\": 50,\n",
    "      \"symbolType\": \"square\"\n",
    "    },\n",
    "    \"range\": {\n",
    "      \"category\": [\n",
    "        \"#4572a7\",\n",
    "        \"#aa4643\",\n",
    "        \"#8aa453\",\n",
    "        \"#71598e\",\n",
    "        \"#4598ae\",\n",
    "        \"#d98445\",\n",
    "        \"#94aace\",\n",
    "        \"#d09393\",\n",
    "        \"#b9cc98\",\n",
    "        \"#a99cbc\"\n",
    "      ]\n",
    "    }\n",
    "  },\n",
    "  \"data\": {\n",
    "    \"url\": \"https://raw.githubusercontent.com/vis-nlp/Chart-to-text/main/statista_dataset/dataset/data/10269.csv\"\n",
    "  },\n",
    "  \"mark\": \"bar\",\n",
    "  \"encoding\": {\n",
    "    \"color\": {\"value\": \"#d98445\"},\n",
    "    \"x\": {\"type\": \"nominal\", \"axis\": {\"labelAngle\": -30}, \"field\": \"Year\"},\n",
    "    \"y\": {\n",
    "      \"type\": \"quantitative\",\n",
    "      \"axis\": {\"labelAngle\": 30, \"title\": \"Number of employees\"},\n",
    "      \"field\": \"Number of employees\"\n",
    "    }\n",
    "  },\n",
    "  \"title\": [\n",
    "    \"Number of employees at Brunswick\",\n",
    "    \"investment banking in the United States from\",\n",
    "    \"2009 to 2019\"\n",
    "  ],\n",
    "  \"$schema\": \"https://vega.github.io/schema/vega-lite/v4.8.1.json\"\n",
    "}\n",
    "\"\"\""
   ]
  },
  {
   "cell_type": "code",
   "execution_count": 799,
   "metadata": {},
   "outputs": [],
   "source": [
    "png_data = vlc.vegalite_to_png(vl_spec=vl_spec, scale=2)\n",
    "with open(\"Sample-Bar-Trend.png\", \"wb\") as f:\n",
    "\tf.write(png_data)"
   ]
  },
  {
   "cell_type": "code",
   "execution_count": 800,
   "metadata": {},
   "outputs": [
    {
     "name": "stdout",
     "output_type": "stream",
     "text": [
      "{'config': {'background': '#fff', 'area': {'fill': '#4572a7'}, 'line': {'stroke': '#4572a7', 'strokeWidth': 2}, 'rect': {'fill': '#4572a7'}, 'bar': {'fill': '#4572a7'}, 'point': {'color': '#4572a7', 'strokeWidth': 1.5, 'size': 50}, 'axis': {'bandPosition': 0.5, 'gridColor': '#000000', 'gridOpacity': 1, 'gridWidth': 0.5, 'labelPadding': 10, 'tickSize': 5, 'tickWidth': 0.5}, 'axisBand': {}, 'legend': {'labelBaseline': 'middle', 'labelFontSize': 11, 'symbolSize': 50, 'symbolType': 'square'}, 'range': {'category': ['#4572a7', '#aa4643', '#8aa453', '#71598e', '#4598ae', '#d98445', '#94aace', '#d09393', '#b9cc98', '#a99cbc']}}, 'data': {'url': 'https://raw.githubusercontent.com/vis-nlp/Chart-to-text/main/statista_dataset/dataset/data/10269.csv'}, 'title': ['Number of employees at Brunswick', 'investment banking in the United States from', '2009 to 2019'], '$schema': 'https://vega.github.io/schema/vega-lite/v4.8.1.json', 'layer': [{'mark': 'bar', 'encoding': {'color': {'value': '#d98445'}, 'x': {'type': 'nominal', 'axis': {'labelAngle': -30}, 'field': 'Year'}, 'y': {'type': 'quantitative', 'axis': {'labelAngle': 30, 'title': 'Number of employees'}, 'field': 'Number of employees'}}}, {'mark': 'bar', 'encoding': {'color': {'value': '#267bba'}, 'x': {'type': 'nominal', 'axis': {'labelAngle': -30}, 'field': 'Year'}, 'y': {'type': 'quantitative', 'axis': {'labelAngle': 30, 'title': 'Number of employees'}, 'field': 'Number of employees'}}, 'transform': [{'filter': \"datum['Year'] >= 2014 && datum['Year'] <= 2017\"}]}]}\n"
     ]
    }
   ],
   "source": [
    "vl_json=json.loads(vl_spec)\n",
    "vl_json[\"layer\"] = [{ 'mark': vl_json['mark'], 'encoding': vl_json['encoding'] }]\n",
    "vl_json=BarColor(vl_json,\"Year\", \"Number of employees\", \"nominal\", \"quantitative\", 2014,'left_and_right',2017)\n",
    "del vl_json['mark'], vl_json['encoding']\n",
    "print(vl_json)\n",
    "png_data = vlc.vegalite_to_png(vl_spec=vl_json, scale=2)\n",
    "with open(\"Trend-Bar-Color.png\", \"wb\") as f:\n",
    "\tf.write(png_data)"
   ]
  },
  {
   "cell_type": "code",
   "execution_count": 801,
   "metadata": {},
   "outputs": [
    {
     "name": "stdout",
     "output_type": "stream",
     "text": [
      "{'config': {'background': '#fff', 'area': {'fill': '#4572a7'}, 'line': {'stroke': '#4572a7', 'strokeWidth': 2}, 'rect': {'fill': '#4572a7'}, 'bar': {'fill': '#4572a7'}, 'point': {'color': '#4572a7', 'strokeWidth': 1.5, 'size': 50}, 'axis': {'bandPosition': 0.5, 'gridColor': '#000000', 'gridOpacity': 1, 'gridWidth': 0.5, 'labelPadding': 10, 'tickSize': 5, 'tickWidth': 0.5}, 'axisBand': {}, 'legend': {'labelBaseline': 'middle', 'labelFontSize': 11, 'symbolSize': 50, 'symbolType': 'square'}, 'range': {'category': ['#4572a7', '#aa4643', '#8aa453', '#71598e', '#4598ae', '#d98445', '#94aace', '#d09393', '#b9cc98', '#a99cbc']}}, 'data': {'url': 'https://raw.githubusercontent.com/vis-nlp/Chart-to-text/main/statista_dataset/dataset/data/10269.csv'}, 'title': ['Number of employees at Brunswick', 'investment banking in the United States from', '2009 to 2019'], '$schema': 'https://vega.github.io/schema/vega-lite/v4.8.1.json', 'layer': [{'mark': 'bar', 'encoding': {'color': {'value': '#d98445'}, 'x': {'type': 'nominal', 'axis': {'labelAngle': -30}, 'field': 'Year'}, 'y': {'type': 'quantitative', 'axis': {'labelAngle': 30, 'title': 'Number of employees'}, 'field': 'Number of employees'}, 'opacity': {'value': 0.4}}}, {'mark': 'bar', 'encoding': {'color': {'value': '#d98445'}, 'x': {'type': 'nominal', 'axis': {'labelAngle': -30}, 'field': 'Year'}, 'y': {'type': 'quantitative', 'axis': {'labelAngle': 30, 'title': 'Number of employees'}, 'field': 'Number of employees'}, 'opacity': {'value': 1}}, 'transform': [{'filter': \"datum['Year'] >= 2014 && datum['Year'] <= 2017\"}]}]}\n"
     ]
    }
   ],
   "source": [
    "vl_json=json.loads(vl_spec)\n",
    "vl_json[\"layer\"] = [{ 'mark': vl_json['mark'], 'encoding': vl_json['encoding'] }]\n",
    "vl_json=BarOpacity(vl_json,\"Year\", \"Number of employees\", \"nominal\", \"quantitative\", 2014,'left_and_right',2017)\n",
    "del vl_json['mark'], vl_json['encoding']\n",
    "print(vl_json)\n",
    "png_data = vlc.vegalite_to_png(vl_spec=vl_json, scale=2)\n",
    "with open(\"Trend-Bar-Opacity.png\", \"wb\") as f:\n",
    "\tf.write(png_data)"
   ]
  },
  {
   "cell_type": "code",
   "execution_count": 802,
   "metadata": {},
   "outputs": [
    {
     "name": "stdout",
     "output_type": "stream",
     "text": [
      "{'config': {'background': '#fff', 'area': {'fill': '#4572a7'}, 'line': {'stroke': '#4572a7', 'strokeWidth': 2}, 'rect': {'fill': '#4572a7'}, 'bar': {'fill': '#4572a7'}, 'point': {'color': '#4572a7', 'strokeWidth': 1.5, 'size': 50}, 'axis': {'bandPosition': 0.5, 'gridColor': '#000000', 'gridOpacity': 1, 'gridWidth': 0.5, 'labelPadding': 10, 'tickSize': 5, 'tickWidth': 0.5}, 'axisBand': {}, 'legend': {'labelBaseline': 'middle', 'labelFontSize': 11, 'symbolSize': 50, 'symbolType': 'square'}, 'range': {'category': ['#4572a7', '#aa4643', '#8aa453', '#71598e', '#4598ae', '#d98445', '#94aace', '#d09393', '#b9cc98', '#a99cbc']}}, 'data': {'url': 'https://raw.githubusercontent.com/vis-nlp/Chart-to-text/main/statista_dataset/dataset/data/10269.csv'}, 'title': ['Number of employees at Brunswick', 'investment banking in the United States from', '2009 to 2019'], '$schema': 'https://vega.github.io/schema/vega-lite/v4.8.1.json', 'layer': [{'mark': 'bar', 'encoding': {'color': {'value': '#d98445'}, 'x': {'type': 'nominal', 'axis': {'labelAngle': -30}, 'field': 'Year'}, 'y': {'type': 'quantitative', 'axis': {'labelAngle': 30, 'title': 'Number of employees'}, 'field': 'Number of employees'}}}, {'mark': {'type': 'text', 'filled': True, 'fontsize': 100, 'angle': -45, 'dy': -10}, 'transform': [{'filter': \"datum['Year'] == '2015'\"}], 'encoding': {'text': {'value': '→'}, 'color': {'value': '#267bba'}, 'x': {'type': 'nominal', 'field': 'Year'}, 'y': {'type': 'quantitative', 'field': 'Number of employees'}, 'fontSize': {'value': 100}}}]}\n"
     ]
    }
   ],
   "source": [
    "vl_json=json.loads(vl_spec)\n",
    "vl_json[\"layer\"] = [{ 'mark': vl_json['mark'], 'encoding': vl_json['encoding'] }]\n",
    "vl_json=BarText(vl_json,\"Year\", \"Number of employees\", \"nominal\", \"quantitative\", 2015,\"→\",-45)\n",
    "del vl_json['mark'], vl_json['encoding']\n",
    "print(vl_json)\n",
    "png_data = vlc.vegalite_to_png(vl_spec=vl_json, scale=2)\n",
    "with open(\"Trend-Bar-Mark.png\", \"wb\") as f:\n",
    "\tf.write(png_data)"
   ]
  },
  {
   "cell_type": "code",
   "execution_count": 803,
   "metadata": {},
   "outputs": [
    {
     "name": "stdout",
     "output_type": "stream",
     "text": [
      "{'config': {'background': '#fff', 'area': {'fill': '#4572a7'}, 'line': {'stroke': '#4572a7', 'strokeWidth': 2}, 'rect': {'fill': '#4572a7'}, 'bar': {'fill': '#4572a7'}, 'point': {'color': '#4572a7', 'strokeWidth': 1.5, 'size': 50}, 'axis': {'bandPosition': 0.5, 'gridColor': '#000000', 'gridOpacity': 1, 'gridWidth': 0.5, 'labelPadding': 10, 'tickSize': 5, 'tickWidth': 0.5}, 'axisBand': {}, 'legend': {'labelBaseline': 'middle', 'labelFontSize': 11, 'symbolSize': 50, 'symbolType': 'square'}, 'range': {'category': ['#4572a7', '#aa4643', '#8aa453', '#71598e', '#4598ae', '#d98445', '#94aace', '#d09393', '#b9cc98', '#a99cbc']}}, 'data': {'url': 'https://raw.githubusercontent.com/vis-nlp/Chart-to-text/main/statista_dataset/dataset/data/10269.csv'}, 'title': ['Number of employees at Brunswick', 'investment banking in the United States from', '2009 to 2019'], '$schema': 'https://vega.github.io/schema/vega-lite/v4.8.1.json', 'layer': [{'mark': 'bar', 'encoding': {'color': {'value': '#d98445'}, 'x': {'type': 'nominal', 'axis': {'labelAngle': -30}, 'field': 'Year'}, 'y': {'type': 'quantitative', 'axis': {'labelAngle': 30, 'title': 'Number of employees'}, 'field': 'Number of employees'}}}, {'mark': {'type': 'text', 'filled': True, 'fontsize': 14, 'angle': 0, 'dy': -10}, 'transform': [{'filter': \"datum['Year'] == '2015'\"}], 'encoding': {'text': {'value': 'increase'}, 'color': {'value': '#267bba'}, 'x': {'type': 'nominal', 'field': 'Year'}, 'y': {'type': 'quantitative', 'field': 'Number of employees'}, 'fontSize': {'value': 14}}}]}\n"
     ]
    }
   ],
   "source": [
    "vl_json=json.loads(vl_spec)\n",
    "vl_json[\"layer\"] = [{ 'mark': vl_json['mark'], 'encoding': vl_json['encoding'] }]\n",
    "vl_json=BarText(vl_json,\"Year\", \"Number of employees\", \"nominal\", \"quantitative\", 2015,\"increase\")\n",
    "del vl_json['mark'], vl_json['encoding']\n",
    "print(vl_json)\n",
    "png_data = vlc.vegalite_to_png(vl_spec=vl_json, scale=2)\n",
    "with open(\"Trend-Bar-Text.png\", \"wb\") as f:\n",
    "\tf.write(png_data)"
   ]
  },
  {
   "cell_type": "code",
   "execution_count": 804,
   "metadata": {},
   "outputs": [
    {
     "name": "stdout",
     "output_type": "stream",
     "text": [
      "{'config': {'background': '#fff', 'area': {'fill': '#4572a7'}, 'line': {'stroke': '#4572a7', 'strokeWidth': 2}, 'rect': {'fill': '#4572a7'}, 'bar': {'fill': '#4572a7'}, 'point': {'color': '#4572a7', 'strokeWidth': 1.5, 'size': 50}, 'axis': {'bandPosition': 0.5, 'gridColor': '#000000', 'gridOpacity': 1, 'gridWidth': 0.5, 'labelPadding': 10, 'tickSize': 5, 'tickWidth': 0.5}, 'axisBand': {}, 'legend': {'labelBaseline': 'middle', 'labelFontSize': 11, 'symbolSize': 50, 'symbolType': 'square'}, 'range': {'category': ['#4572a7', '#aa4643', '#8aa453', '#71598e', '#4598ae', '#d98445', '#94aace', '#d09393', '#b9cc98', '#a99cbc']}}, 'data': {'url': 'https://raw.githubusercontent.com/vis-nlp/Chart-to-text/main/statista_dataset/dataset/data/10269.csv'}, 'title': ['Number of employees at Brunswick', 'investment banking in the United States from', '2009 to 2019'], '$schema': 'https://vega.github.io/schema/vega-lite/v4.8.1.json', 'layer': [{'mark': 'bar', 'encoding': {'color': {'value': '#d98445'}, 'x': {'type': 'nominal', 'axis': {'labelAngle': -30}, 'field': 'Year'}, 'y': {'type': 'quantitative', 'axis': {'labelAngle': 30, 'title': 'Number of employees'}, 'field': 'Number of employees'}}}, {'data': {'values': [{'PlotX1': '2014', 'PlotY1': 12000, 'PlotX2': '2017', 'PlotY2': 15000}]}, 'mark': {'type': 'rule', 'stroke': '#267bba', 'strokeWidth': 2}, 'encoding': {'x': {'field': 'PlotX1', 'type': 'nominal'}, 'y': {'field': 'PlotY1', 'type': 'quantitative'}, 'x2': {'field': 'PlotX2', 'type': 'nominal'}, 'y2': {'field': 'PlotY2', 'type': 'quantitative'}}}]}\n"
     ]
    }
   ],
   "source": [
    "vl_json=json.loads(vl_spec)\n",
    "vl_json[\"layer\"] = [{ 'mark': vl_json['mark'], 'encoding': vl_json['encoding'] }]\n",
    "vl_json=BarLine(vl_json,\"Year\", \"Number of employees\", \"nominal\", \"quantitative\", \"2014\",12000,\"2017\",15000)\n",
    "del vl_json['mark'], vl_json['encoding']\n",
    "print(vl_json)\n",
    "png_data = vlc.vegalite_to_png(vl_spec=vl_json, scale=2)\n",
    "with open(\"Trend-Bar-Line.png\", \"wb\") as f:\n",
    "\tf.write(png_data)"
   ]
  },
  {
   "cell_type": "code",
   "execution_count": 805,
   "metadata": {},
   "outputs": [
    {
     "name": "stdout",
     "output_type": "stream",
     "text": [
      "{'config': {'background': '#fff', 'area': {'fill': '#4572a7'}, 'line': {'stroke': '#4572a7', 'strokeWidth': 2}, 'rect': {'fill': '#4572a7'}, 'bar': {'fill': '#4572a7'}, 'point': {'color': '#4572a7', 'strokeWidth': 1.5, 'size': 50}, 'axis': {'bandPosition': 0.5, 'gridColor': '#000000', 'gridOpacity': 1, 'gridWidth': 0.5, 'labelPadding': 10, 'tickSize': 5, 'tickWidth': 0.5}, 'axisBand': {}, 'legend': {'labelBaseline': 'middle', 'labelFontSize': 11, 'symbolSize': 50, 'symbolType': 'square'}, 'range': {'category': ['#4572a7', '#aa4643', '#8aa453', '#71598e', '#4598ae', '#d98445', '#94aace', '#d09393', '#b9cc98', '#a99cbc']}}, 'data': {'url': 'https://raw.githubusercontent.com/vis-nlp/Chart-to-text/main/statista_dataset/dataset/data/10269.csv'}, 'title': ['Number of employees at Brunswick', 'investment banking in the United States from', '2009 to 2019'], '$schema': 'https://vega.github.io/schema/vega-lite/v4.8.1.json', 'layer': [{'mark': 'bar', 'encoding': {'color': {'value': '#d98445'}, 'x': {'type': 'nominal', 'axis': {'labelAngle': -30}, 'field': 'Year'}, 'y': {'type': 'quantitative', 'axis': {'labelAngle': 30, 'title': 'Number of employees'}, 'field': 'Number of employees'}}}, {'data': {'values': [{'PlotX1': '2014', 'PlotY1': 12000, 'PlotX2': '2017', 'PlotY2': 15000}]}, 'mark': {'type': 'rect', 'color': '#267bba', 'stroke': '#267bba', 'fillOpacity': 0.2, 'strokeWidth': 0}, 'encoding': {'x': {'field': 'PlotX1', 'type': 'nominal'}, 'y': {'field': 'PlotY1', 'type': 'quantitative'}, 'x2': {'field': 'PlotX2', 'type': 'nominal'}, 'y2': {'field': 'PlotY2', 'type': 'quantitative'}}}]}\n"
     ]
    }
   ],
   "source": [
    "vl_json=json.loads(vl_spec)\n",
    "vl_json[\"layer\"] = [{ 'mark': vl_json['mark'], 'encoding': vl_json['encoding'] }]\n",
    "vl_json=BarArea(vl_json,\"Year\", \"Number of employees\", \"nominal\", \"quantitative\", \"2014\",12000,\"2017\",15000)\n",
    "del vl_json['mark'], vl_json['encoding']\n",
    "print(vl_json)\n",
    "png_data = vlc.vegalite_to_png(vl_spec=vl_json, scale=2)\n",
    "with open(\"Trend-Bar-Shade.png\", \"wb\") as f:\n",
    "\tf.write(png_data)"
   ]
  },
  {
   "cell_type": "code",
   "execution_count": 806,
   "metadata": {},
   "outputs": [
    {
     "name": "stdout",
     "output_type": "stream",
     "text": [
      "{'config': {'background': '#fff', 'area': {'fill': '#4572a7'}, 'line': {'stroke': '#4572a7', 'strokeWidth': 2}, 'rect': {'fill': '#4572a7'}, 'bar': {'fill': '#4572a7'}, 'point': {'color': '#4572a7', 'strokeWidth': 1.5, 'size': 50}, 'axis': {'bandPosition': 0.5, 'gridColor': '#000000', 'gridOpacity': 1, 'gridWidth': 0.5, 'labelPadding': 10, 'tickSize': 5, 'tickWidth': 0.5}, 'axisBand': {}, 'legend': {'labelBaseline': 'middle', 'labelFontSize': 11, 'symbolSize': 50, 'symbolType': 'square'}, 'range': {'category': ['#4572a7', '#aa4643', '#8aa453', '#71598e', '#4598ae', '#d98445', '#94aace', '#d09393', '#b9cc98', '#a99cbc']}}, 'data': {'url': 'https://raw.githubusercontent.com/vis-nlp/Chart-to-text/main/statista_dataset/dataset/data/10269.csv'}, 'title': ['Number of employees at Brunswick', 'investment banking in the United States from', '2009 to 2019'], '$schema': 'https://vega.github.io/schema/vega-lite/v4.8.1.json', 'layer': [{'mark': 'bar', 'encoding': {'color': {'value': '#d98445'}, 'x': {'type': 'nominal', 'axis': {'labelAngle': -30}, 'field': 'Year'}, 'y': {'type': 'quantitative', 'axis': {'labelAngle': 30, 'title': 'Number of employees'}, 'field': 'Number of employees'}}}, {'data': {'values': [{'PlotX1': '2014', 'PlotY1': 12000, 'PlotX2': '2017', 'PlotY2': 15000}]}, 'mark': {'type': 'rect', 'color': '#267bba', 'stroke': '#267bba', 'fillOpacity': 0, 'strokeWidth': 2}, 'encoding': {'x': {'field': 'PlotX1', 'type': 'nominal'}, 'y': {'field': 'PlotY1', 'type': 'quantitative'}, 'x2': {'field': 'PlotX2', 'type': 'nominal'}, 'y2': {'field': 'PlotY2', 'type': 'quantitative'}}}]}\n"
     ]
    }
   ],
   "source": [
    "vl_json=json.loads(vl_spec)\n",
    "vl_json[\"layer\"] = [{ 'mark': vl_json['mark'], 'encoding': vl_json['encoding'] }]\n",
    "vl_json=BarArea(vl_json,\"Year\", \"Number of employees\", \"nominal\", \"quantitative\", \"2014\",12000,\"2017\",15000,shade=False)\n",
    "del vl_json['mark'], vl_json['encoding']\n",
    "print(vl_json)\n",
    "png_data = vlc.vegalite_to_png(vl_spec=vl_json, scale=2)\n",
    "with open(\"Trend-Bar-Bound.png\", \"wb\") as f:\n",
    "\tf.write(png_data)"
   ]
  },
  {
   "cell_type": "code",
   "execution_count": 807,
   "metadata": {},
   "outputs": [
    {
     "name": "stdout",
     "output_type": "stream",
     "text": [
      "{'config': {'background': '#fff', 'area': {'fill': '#4572a7'}, 'line': {'stroke': '#4572a7', 'strokeWidth': 2}, 'rect': {'fill': '#4572a7'}, 'bar': {'fill': '#4572a7'}, 'point': {'color': '#4572a7', 'strokeWidth': 1.5, 'size': 50}, 'axis': {'bandPosition': 0.5, 'gridColor': '#000000', 'gridOpacity': 1, 'gridWidth': 0.5, 'labelPadding': 10, 'tickSize': 5, 'tickWidth': 0.5}, 'axisBand': {}, 'legend': {'labelBaseline': 'middle', 'labelFontSize': 11, 'symbolSize': 50, 'symbolType': 'square'}, 'range': {'category': ['#4572a7', '#aa4643', '#8aa453', '#71598e', '#4598ae', '#d98445', '#94aace', '#d09393', '#b9cc98', '#a99cbc']}}, 'data': {'url': 'https://raw.githubusercontent.com/vis-nlp/Chart-to-text/main/statista_dataset/dataset/data/10269.csv'}, 'title': ['Number of employees at Brunswick', 'investment banking in the United States from', '2009 to 2019'], '$schema': 'https://vega.github.io/schema/vega-lite/v4.8.1.json', 'layer': [{'mark': 'bar', 'encoding': {'color': {'value': '#d98445'}, 'x': {'type': 'nominal', 'axis': {'labelAngle': -30}, 'field': 'Year'}, 'y': {'type': 'quantitative', 'axis': {'labelAngle': 30, 'title': 'Number of employees'}, 'field': 'Number of employees'}, 'opacity': {'value': 0.4}}}, {'mark': 'bar', 'encoding': {'color': {'value': '#d98445'}, 'x': {'type': 'nominal', 'axis': {'labelAngle': -30}, 'field': 'Year'}, 'y': {'type': 'quantitative', 'axis': {'labelAngle': 30, 'title': 'Number of employees'}, 'field': 'Number of employees'}, 'opacity': {'value': 1}}, 'transform': [{'filter': \"datum['Year'] >= 2014 && datum['Year'] <= 2017\"}]}, {'mark': {'type': 'text', 'filled': True, 'fontsize': 100, 'angle': -45, 'dy': -10}, 'transform': [{'filter': \"datum['Year'] == '2015'\"}], 'encoding': {'text': {'value': '→'}, 'color': {'value': '#267bba'}, 'x': {'type': 'nominal', 'field': 'Year'}, 'y': {'type': 'quantitative', 'field': 'Number of employees'}, 'fontSize': {'value': 100}}}]}\n"
     ]
    }
   ],
   "source": [
    "vl_json=json.loads(vl_spec)\n",
    "vl_json[\"layer\"] = [{ 'mark': vl_json['mark'], 'encoding': vl_json['encoding'] }]\n",
    "vl_json=BarOpacity(vl_json,\"Year\", \"Number of employees\", \"nominal\", \"quantitative\", 2014,'left_and_right',2017)\n",
    "vl_json=BarText(vl_json,\"Year\", \"Number of employees\", \"nominal\", \"quantitative\", 2015,\"→\",-45)\n",
    "del vl_json['mark'], vl_json['encoding']\n",
    "print(vl_json)\n",
    "png_data = vlc.vegalite_to_png(vl_spec=vl_json, scale=2)\n",
    "with open(\"Trend-Bar-OpacityMark.png\", \"wb\") as f:\n",
    "\tf.write(png_data)"
   ]
  },
  {
   "cell_type": "code",
   "execution_count": 808,
   "metadata": {},
   "outputs": [],
   "source": [
    "vl_spec=r''' \n",
    "{\n",
    "  \"config\": {\n",
    "    \"background\": \"#fff\",\n",
    "    \"area\": {\"fill\": \"#4572a7\"},\n",
    "    \"line\": {\"stroke\": \"#4572a7\", \"strokeWidth\": 2},\n",
    "    \"rect\": {\"fill\": \"#4572a7\"},\n",
    "    \"bar\": {\"fill\": \"#4572a7\"},\n",
    "    \"point\": {\"color\": \"#4572a7\", \"strokeWidth\": 1.5, \"size\": 50},\n",
    "    \"axis\": {\n",
    "      \"bandPosition\": 0.5,\n",
    "      \"gridColor\": \"#000000\",\n",
    "      \"gridOpacity\": 1,\n",
    "      \"gridWidth\": 0.5,\n",
    "      \"labelPadding\": 10,\n",
    "      \"tickSize\": 5,\n",
    "      \"tickWidth\": 0.5\n",
    "    },\n",
    "    \"axisBand\": {},\n",
    "    \"legend\": {\n",
    "      \"labelBaseline\": \"middle\",\n",
    "      \"labelFontSize\": 11,\n",
    "      \"symbolSize\": 50,\n",
    "      \"symbolType\": \"square\"\n",
    "    },\n",
    "    \"range\": {\n",
    "      \"category\": [\n",
    "        \"#4572a7\",\n",
    "        \"#aa4643\",\n",
    "        \"#8aa453\",\n",
    "        \"#71598e\",\n",
    "        \"#4598ae\",\n",
    "        \"#d98445\",\n",
    "        \"#94aace\",\n",
    "        \"#d09393\",\n",
    "        \"#b9cc98\",\n",
    "        \"#a99cbc\"\n",
    "      ]\n",
    "    }\n",
    "  },\n",
    "  \"data\": {\n",
    "    \"url\": \"https://raw.githubusercontent.com/vis-nlp/Chart-to-text/main/statista_dataset/dataset/data/1351.csv\"\n",
    "  },\n",
    "  \"mark\": \"bar\",\n",
    "  \"encoding\": {\n",
    "    \"color\": {\"value\": \"#d98445\"},\n",
    "    \"x\": {\"type\": \"nominal\", \"axis\": {\"labelAngle\": -30}, \"field\": \"Country\"},\n",
    "    \"y\": {\n",
    "      \"type\": \"quantitative\",\n",
    "      \"axis\": {\"labelAngle\": 30, \"title\": \"Consumption in exajoules\"},\n",
    "      \"field\": \"Consumption in exajoules\"\n",
    "    }\n",
    "  },\n",
    "  \"title\": [\"Leading energy consumers in 2019\", \"(in exajoules)\"],\n",
    "  \"$schema\": \"https://vega.github.io/schema/vega-lite/v4.8.1.json\"\n",
    "}\n",
    "'''"
   ]
  },
  {
   "cell_type": "code",
   "execution_count": 809,
   "metadata": {},
   "outputs": [],
   "source": [
    "png_data = vlc.vegalite_to_png(vl_spec=vl_spec, scale=2)\n",
    "with open(\"Sample-Bar-Compare.png\", \"wb\") as f:\n",
    "\tf.write(png_data)"
   ]
  },
  {
   "cell_type": "code",
   "execution_count": 810,
   "metadata": {},
   "outputs": [
    {
     "name": "stdout",
     "output_type": "stream",
     "text": [
      "{'config': {'background': '#fff', 'area': {'fill': '#4572a7'}, 'line': {'stroke': '#4572a7', 'strokeWidth': 2}, 'rect': {'fill': '#4572a7'}, 'bar': {'fill': '#4572a7'}, 'point': {'color': '#4572a7', 'strokeWidth': 1.5, 'size': 50}, 'axis': {'bandPosition': 0.5, 'gridColor': '#000000', 'gridOpacity': 1, 'gridWidth': 0.5, 'labelPadding': 10, 'tickSize': 5, 'tickWidth': 0.5}, 'axisBand': {}, 'legend': {'labelBaseline': 'middle', 'labelFontSize': 11, 'symbolSize': 50, 'symbolType': 'square'}, 'range': {'category': ['#4572a7', '#aa4643', '#8aa453', '#71598e', '#4598ae', '#d98445', '#94aace', '#d09393', '#b9cc98', '#a99cbc']}}, 'data': {'url': 'https://raw.githubusercontent.com/vis-nlp/Chart-to-text/main/statista_dataset/dataset/data/1351.csv'}, 'title': ['Leading energy consumers in 2019', '(in exajoules)'], '$schema': 'https://vega.github.io/schema/vega-lite/v4.8.1.json', 'layer': [{'mark': 'bar', 'encoding': {'color': {'value': '#d98445'}, 'x': {'type': 'nominal', 'axis': {'labelAngle': -30}, 'field': 'Country'}, 'y': {'type': 'quantitative', 'axis': {'labelAngle': 30, 'title': 'Consumption in exajoules'}, 'field': 'Consumption in exajoules'}}}, {'mark': 'bar', 'encoding': {'color': {'value': '#267bba'}, 'x': {'type': 'nominal', 'axis': {'labelAngle': -30}, 'field': 'Country'}, 'y': {'type': 'quantitative', 'axis': {'labelAngle': 30, 'title': 'Consumption in exajoules'}, 'field': 'Consumption in exajoules'}}, 'transform': [{'filter': \"datum['Country'] == 'U.S.' || datum['Country'] == 'China'\"}]}]}\n"
     ]
    }
   ],
   "source": [
    "vl_json=json.loads(vl_spec)\n",
    "vl_json[\"layer\"] = [{ 'mark': vl_json['mark'], 'encoding': vl_json['encoding'] }]\n",
    "vl_json=BarColor(vl_json,\"Country\", \"Consumption in exajoules\", \"nominal\", \"quantitative\", \"U.S.\",'compare',\"China\")\n",
    "del vl_json['mark'], vl_json['encoding']\n",
    "print(vl_json)\n",
    "png_data = vlc.vegalite_to_png(vl_spec=vl_json, scale=2)\n",
    "with open(\"Compare-Bar-Color.png\", \"wb\") as f:\n",
    "\tf.write(png_data)"
   ]
  },
  {
   "cell_type": "code",
   "execution_count": 811,
   "metadata": {},
   "outputs": [
    {
     "name": "stdout",
     "output_type": "stream",
     "text": [
      "{'config': {'background': '#fff', 'area': {'fill': '#4572a7'}, 'line': {'stroke': '#4572a7', 'strokeWidth': 2}, 'rect': {'fill': '#4572a7'}, 'bar': {'fill': '#4572a7'}, 'point': {'color': '#4572a7', 'strokeWidth': 1.5, 'size': 50}, 'axis': {'bandPosition': 0.5, 'gridColor': '#000000', 'gridOpacity': 1, 'gridWidth': 0.5, 'labelPadding': 10, 'tickSize': 5, 'tickWidth': 0.5}, 'axisBand': {}, 'legend': {'labelBaseline': 'middle', 'labelFontSize': 11, 'symbolSize': 50, 'symbolType': 'square'}, 'range': {'category': ['#4572a7', '#aa4643', '#8aa453', '#71598e', '#4598ae', '#d98445', '#94aace', '#d09393', '#b9cc98', '#a99cbc']}}, 'data': {'url': 'https://raw.githubusercontent.com/vis-nlp/Chart-to-text/main/statista_dataset/dataset/data/1351.csv'}, 'title': ['Leading energy consumers in 2019', '(in exajoules)'], '$schema': 'https://vega.github.io/schema/vega-lite/v4.8.1.json', 'layer': [{'mark': 'bar', 'encoding': {'color': {'value': '#d98445'}, 'x': {'type': 'nominal', 'axis': {'labelAngle': -30}, 'field': 'Country'}, 'y': {'type': 'quantitative', 'axis': {'labelAngle': 30, 'title': 'Consumption in exajoules'}, 'field': 'Consumption in exajoules'}, 'opacity': {'value': 0.4}}}, {'mark': 'bar', 'encoding': {'color': {'value': '#d98445'}, 'x': {'type': 'nominal', 'axis': {'labelAngle': -30}, 'field': 'Country'}, 'y': {'type': 'quantitative', 'axis': {'labelAngle': 30, 'title': 'Consumption in exajoules'}, 'field': 'Consumption in exajoules'}, 'opacity': {'value': 1}}, 'transform': [{'filter': \"datum['Country'] == 'U.S.' || datum['Country'] == 'China'\"}]}]}\n"
     ]
    }
   ],
   "source": [
    "vl_json=json.loads(vl_spec)\n",
    "vl_json[\"layer\"] = [{ 'mark': vl_json['mark'], 'encoding': vl_json['encoding'] }]\n",
    "vl_json=BarOpacity(vl_json,\"Country\", \"Consumption in exajoules\", \"nominal\", \"quantitative\", \"U.S.\",'compare',\"China\")\n",
    "del vl_json['mark'], vl_json['encoding']\n",
    "print(vl_json)\n",
    "png_data = vlc.vegalite_to_png(vl_spec=vl_json, scale=2)\n",
    "with open(\"Compare-Bar-Opacity.png\", \"wb\") as f:\n",
    "\tf.write(png_data)"
   ]
  },
  {
   "cell_type": "code",
   "execution_count": 812,
   "metadata": {},
   "outputs": [
    {
     "name": "stdout",
     "output_type": "stream",
     "text": [
      "{'config': {'background': '#fff', 'area': {'fill': '#4572a7'}, 'line': {'stroke': '#4572a7', 'strokeWidth': 2}, 'rect': {'fill': '#4572a7'}, 'bar': {'fill': '#4572a7'}, 'point': {'color': '#4572a7', 'strokeWidth': 1.5, 'size': 50}, 'axis': {'bandPosition': 0.5, 'gridColor': '#000000', 'gridOpacity': 1, 'gridWidth': 0.5, 'labelPadding': 10, 'tickSize': 5, 'tickWidth': 0.5}, 'axisBand': {}, 'legend': {'labelBaseline': 'middle', 'labelFontSize': 11, 'symbolSize': 50, 'symbolType': 'square'}, 'range': {'category': ['#4572a7', '#aa4643', '#8aa453', '#71598e', '#4598ae', '#d98445', '#94aace', '#d09393', '#b9cc98', '#a99cbc']}}, 'data': {'url': 'https://raw.githubusercontent.com/vis-nlp/Chart-to-text/main/statista_dataset/dataset/data/1351.csv'}, 'title': ['Leading energy consumers in 2019', '(in exajoules)'], '$schema': 'https://vega.github.io/schema/vega-lite/v4.8.1.json', 'layer': [{'mark': 'bar', 'encoding': {'color': {'value': '#d98445'}, 'x': {'type': 'nominal', 'axis': {'labelAngle': -30}, 'field': 'Country'}, 'y': {'type': 'quantitative', 'axis': {'labelAngle': 30, 'title': 'Consumption in exajoules'}, 'field': 'Consumption in exajoules'}}}, {'mark': {'type': 'point', 'filled': True}, 'transform': [{'filter': \"datum['Country'] == 'U.S.'\"}], 'encoding': {'color': {'value': '#267bba'}, 'size': {'value': 100}, 'x': {'type': 'nominal', 'field': 'Country', 'axis': {}, 'bin': False}, 'y': {'type': 'quantitative', 'field': 'Consumption in exajoules'}}}, {'mark': {'type': 'point', 'filled': True}, 'transform': [{'filter': \"datum['Country'] == 'China'\"}], 'encoding': {'color': {'value': '#267bba'}, 'size': {'value': 100}, 'x': {'type': 'nominal', 'field': 'Country', 'axis': {}, 'bin': False}, 'y': {'type': 'quantitative', 'field': 'Consumption in exajoules'}}}]}\n"
     ]
    }
   ],
   "source": [
    "vl_json=json.loads(vl_spec)\n",
    "vl_json[\"layer\"] = [{ 'mark': vl_json['mark'], 'encoding': vl_json['encoding'] }]\n",
    "vl_json=BarMark(vl_json,\"Country\", \"Consumption in exajoules\", \"nominal\", \"quantitative\", \"U.S.\")\n",
    "vl_json=BarMark(vl_json,\"Country\", \"Consumption in exajoules\", \"nominal\", \"quantitative\", \"China\")\n",
    "del vl_json['mark'], vl_json['encoding']\n",
    "print(vl_json)\n",
    "png_data = vlc.vegalite_to_png(vl_spec=vl_json, scale=2)\n",
    "with open(\"Compare-Bar-Mark.png\", \"wb\") as f:\n",
    "\tf.write(png_data)"
   ]
  },
  {
   "cell_type": "code",
   "execution_count": 813,
   "metadata": {},
   "outputs": [
    {
     "name": "stdout",
     "output_type": "stream",
     "text": [
      "{'config': {'background': '#fff', 'area': {'fill': '#4572a7'}, 'line': {'stroke': '#4572a7', 'strokeWidth': 2}, 'rect': {'fill': '#4572a7'}, 'bar': {'fill': '#4572a7'}, 'point': {'color': '#4572a7', 'strokeWidth': 1.5, 'size': 50}, 'axis': {'bandPosition': 0.5, 'gridColor': '#000000', 'gridOpacity': 1, 'gridWidth': 0.5, 'labelPadding': 10, 'tickSize': 5, 'tickWidth': 0.5}, 'axisBand': {}, 'legend': {'labelBaseline': 'middle', 'labelFontSize': 11, 'symbolSize': 50, 'symbolType': 'square'}, 'range': {'category': ['#4572a7', '#aa4643', '#8aa453', '#71598e', '#4598ae', '#d98445', '#94aace', '#d09393', '#b9cc98', '#a99cbc']}}, 'data': {'url': 'https://raw.githubusercontent.com/vis-nlp/Chart-to-text/main/statista_dataset/dataset/data/1351.csv'}, 'title': ['Leading energy consumers in 2019', '(in exajoules)'], '$schema': 'https://vega.github.io/schema/vega-lite/v4.8.1.json', 'layer': [{'mark': 'bar', 'encoding': {'color': {'value': '#d98445'}, 'x': {'type': 'nominal', 'axis': {'labelAngle': -30}, 'field': 'Country'}, 'y': {'type': 'quantitative', 'axis': {'labelAngle': 30, 'title': 'Consumption in exajoules'}, 'field': 'Consumption in exajoules'}}}, {'mark': {'type': 'text', 'filled': True, 'fontsize': 14, 'angle': 0, 'dy': -10}, 'transform': [{'filter': \"datum['Country'] == 'U.S.'\"}], 'encoding': {'text': {'value': 'lower'}, 'color': {'value': '#267bba'}, 'x': {'type': 'nominal', 'field': 'Country'}, 'y': {'type': 'quantitative', 'field': 'Consumption in exajoules'}, 'fontSize': {'value': 14}}}, {'mark': {'type': 'text', 'filled': True, 'fontsize': 14, 'angle': 0, 'dy': -10}, 'transform': [{'filter': \"datum['Country'] == 'China'\"}], 'encoding': {'text': {'value': 'higher'}, 'color': {'value': '#267bba'}, 'x': {'type': 'nominal', 'field': 'Country'}, 'y': {'type': 'quantitative', 'field': 'Consumption in exajoules'}, 'fontSize': {'value': 14}}}]}\n"
     ]
    }
   ],
   "source": [
    "vl_json=json.loads(vl_spec)\n",
    "vl_json[\"layer\"] = [{ 'mark': vl_json['mark'], 'encoding': vl_json['encoding'] }]\n",
    "vl_json=BarText(vl_json,\"Country\", \"Consumption in exajoules\", \"nominal\", \"quantitative\", \"U.S.\",'lower')\n",
    "vl_json=BarText(vl_json,\"Country\", \"Consumption in exajoules\", \"nominal\", \"quantitative\", \"China\",'higher')\n",
    "del vl_json['mark'], vl_json['encoding']\n",
    "print(vl_json)\n",
    "png_data = vlc.vegalite_to_png(vl_spec=vl_json, scale=2)\n",
    "with open(\"Compare-Bar-Text.png\", \"wb\") as f:\n",
    "\tf.write(png_data)"
   ]
  },
  {
   "cell_type": "code",
   "execution_count": 814,
   "metadata": {},
   "outputs": [
    {
     "name": "stdout",
     "output_type": "stream",
     "text": [
      "{'config': {'background': '#fff', 'area': {'fill': '#4572a7'}, 'line': {'stroke': '#4572a7', 'strokeWidth': 2}, 'rect': {'fill': '#4572a7'}, 'bar': {'fill': '#4572a7'}, 'point': {'color': '#4572a7', 'strokeWidth': 1.5, 'size': 50}, 'axis': {'bandPosition': 0.5, 'gridColor': '#000000', 'gridOpacity': 1, 'gridWidth': 0.5, 'labelPadding': 10, 'tickSize': 5, 'tickWidth': 0.5}, 'axisBand': {}, 'legend': {'labelBaseline': 'middle', 'labelFontSize': 11, 'symbolSize': 50, 'symbolType': 'square'}, 'range': {'category': ['#4572a7', '#aa4643', '#8aa453', '#71598e', '#4598ae', '#d98445', '#94aace', '#d09393', '#b9cc98', '#a99cbc']}}, 'data': {'url': 'https://raw.githubusercontent.com/vis-nlp/Chart-to-text/main/statista_dataset/dataset/data/1351.csv'}, 'title': ['Leading energy consumers in 2019', '(in exajoules)'], '$schema': 'https://vega.github.io/schema/vega-lite/v4.8.1.json', 'layer': [{'mark': 'bar', 'encoding': {'color': {'value': '#d98445'}, 'x': {'type': 'nominal', 'axis': {'labelAngle': -30}, 'field': 'Country'}, 'y': {'type': 'quantitative', 'axis': {'labelAngle': 30, 'title': 'Consumption in exajoules'}, 'field': 'Consumption in exajoules'}, 'opacity': {'value': 0.4}}}, {'mark': 'bar', 'encoding': {'color': {'value': '#d98445'}, 'x': {'type': 'nominal', 'axis': {'labelAngle': -30}, 'field': 'Country'}, 'y': {'type': 'quantitative', 'axis': {'labelAngle': 30, 'title': 'Consumption in exajoules'}, 'field': 'Consumption in exajoules'}, 'opacity': {'value': 1}}, 'transform': [{'filter': \"datum['Year'] == '2014' || datum['Year'] == '2018'\"}]}, {'mark': {'type': 'text', 'filled': True, 'fontsize': 14, 'angle': 0, 'dy': -10}, 'transform': [{'filter': \"datum['Country'] == 'U.S.'\"}], 'encoding': {'text': {'value': 'lower'}, 'color': {'value': '#267bba'}, 'x': {'type': 'nominal', 'field': 'Country'}, 'y': {'type': 'quantitative', 'field': 'Consumption in exajoules'}, 'fontSize': {'value': 14}}}, {'mark': {'type': 'text', 'filled': True, 'fontsize': 14, 'angle': 0, 'dy': -10}, 'transform': [{'filter': \"datum['Country'] == 'China'\"}], 'encoding': {'text': {'value': 'higher'}, 'color': {'value': '#267bba'}, 'x': {'type': 'nominal', 'field': 'Country'}, 'y': {'type': 'quantitative', 'field': 'Consumption in exajoules'}, 'fontSize': {'value': 14}}}]}\n"
     ]
    }
   ],
   "source": [
    "vl_json=json.loads(vl_spec)\n",
    "vl_json[\"layer\"] = [{ 'mark': vl_json['mark'], 'encoding': vl_json['encoding'] }]\n",
    "vl_json=BarOpacity(vl_json,\"Year\", \"National debt in billion U\\\\.S\\\\. dollars\", \"nominal\", \"quantitative\", 2014,'compare',2018)\n",
    "vl_json=BarText(vl_json,\"Country\", \"Consumption in exajoules\", \"nominal\", \"quantitative\", \"U.S.\",'lower')\n",
    "vl_json=BarText(vl_json,\"Country\", \"Consumption in exajoules\", \"nominal\", \"quantitative\", \"China\",'higher')\n",
    "del vl_json['mark'], vl_json['encoding']\n",
    "print(vl_json)\n",
    "png_data = vlc.vegalite_to_png(vl_spec=vl_json, scale=2)\n",
    "with open(\"Compare-Bar-OpacityText.png\", \"wb\") as f:\n",
    "\tf.write(png_data)"
   ]
  }
 ],
 "metadata": {
  "kernelspec": {
   "display_name": "talk2chart",
   "language": "python",
   "name": "python3"
  },
  "language_info": {
   "codemirror_mode": {
    "name": "ipython",
    "version": 3
   },
   "file_extension": ".py",
   "mimetype": "text/x-python",
   "name": "python",
   "nbconvert_exporter": "python",
   "pygments_lexer": "ipython3",
   "version": "3.12.3"
  }
 },
 "nbformat": 4,
 "nbformat_minor": 2
}
