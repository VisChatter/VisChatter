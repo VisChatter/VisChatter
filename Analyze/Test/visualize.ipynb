{
 "cells": [
  {
   "cell_type": "code",
   "execution_count": null,
   "metadata": {},
   "outputs": [],
   "source": [
    "import pickle\n",
    "import pandas as pd\n",
    "import seaborn as sns\n",
    "import matplotlib.pyplot as plt\n",
    "\n",
    "# Load the two lists from pickle files\n",
    "with open('gpt-score.pkl', 'rb') as file:\n",
    "    list1 = pickle.load(file)\n",
    "\n",
    "with open('llama-score.pkl', 'rb') as file:\n",
    "    list2 = pickle.load(file)\n",
    "\n",
    "# Create a DataFrame to organize the data for seaborn\n",
    "data = pd.DataFrame({\n",
    "    'Value': list1 + list2,\n",
    "    'List': ['GPT4o-mini'] * len(list1) + ['llama3-finetune'] * len(list2)\n",
    "})\n",
    "\n",
    "# Set plot resolution and style\n",
    "plt.figure(figsize=(9,3),dpi=300)\n",
    "# sns.set(style=\"white\")\n",
    "\n",
    "# Plot the distributions using seaborn's stripplot\n",
    "sns.stripplot(y='List', x='Value', data=data, jitter=True, size=5, alpha=0.6)\n",
    "\n",
    "# Remove borders and ticks\n",
    "sns.despine(left=True, bottom=True)\n",
    "plt.xticks([0.2,0.4,0.6,0.8])\n",
    "# plt.yticks([])\n",
    "\n",
    "# Add labels and show the plot\n",
    "plt.xlabel('Accuracy')\n",
    "plt.ylabel('')\n",
    "plt.tight_layout()\n",
    "plt.savefig('score-compare.pdf')"
   ]
  }
 ],
 "metadata": {
  "kernelspec": {
   "display_name": "talk2chart",
   "language": "python",
   "name": "python3"
  },
  "language_info": {
   "codemirror_mode": {
    "name": "ipython",
    "version": 3
   },
   "file_extension": ".py",
   "mimetype": "text/x-python",
   "name": "python",
   "nbconvert_exporter": "python",
   "pygments_lexer": "ipython3",
   "version": "3.12.3"
  }
 },
 "nbformat": 4,
 "nbformat_minor": 2
}
