{
 "cells": [
  {
   "cell_type": "code",
   "execution_count": 24,
   "metadata": {},
   "outputs": [],
   "source": [
    "import base64\n",
    "import requests\n",
    "TEST_NUM=101\n",
    "# OpenAI API Key\n",
    "api_key =''\n",
    "headers = {\n",
    "  \"Content-Type\": \"application/json\",\n",
    "  \"Authorization\": f\"Bearer {api_key}\"\n",
    "}\n",
    "# Function to encode the image\n",
    "responseList=[]\n",
    "def encode_image(image_path):\n",
    "  with open(image_path, \"rb\") as image_file:\n",
    "    return base64.b64encode(image_file.read()).decode('utf-8')\n",
    "\n",
    "for i in range(TEST_NUM):\n",
    "\tif i!=87:\n",
    "\t# Path to your image\n",
    "\t\timage_path = f\"../vega_ans/chart{i}.png\"\n",
    "\t\t# Getting the base64 string\n",
    "\t\tbase64_image = encode_image(image_path)\n",
    "\t\tpayload = {\n",
    "\t\t\"model\": \"gpt-4o-mini\",\n",
    "\t\t\"messages\": [\n",
    "\t\t\t{\n",
    "\t\t\t\"role\": \"user\",\n",
    "\t\t\t\"content\": [\n",
    "\t\t\t\t{\n",
    "\t\t\t\t\"type\": \"text\",\n",
    "\t\t\t\t\"text\": \"Given a chart image, list data facts from general to detailed. The following are some data fact examples of different kinds. #COMPARE: The ticket price shown for 2006 is just over 60 dollars, and it rises from that point to just over 100 dollars in 2018. #TREND: Viewers of Minecraft on twitch has gradually increased between 2018 and 2020. #RANGE: Consumption was fairly stable between 2000 and 2005. #FILTER: The majorly of the big cities are higer than 3 index points.#RETRIEVE: Omsk has the largest value of 3.5 index points. Please briefly respond without any # tags, and each sentence should end with a period:\"\n",
    "\t\t\t\t},\n",
    "\t\t\t\t{\n",
    "\t\t\t\t\"type\": \"image_url\",\n",
    "\t\t\t\t\"image_url\": {\n",
    "\t\t\t\t\t\"url\": f\"data:image/jpeg;base64,{base64_image}\",\n",
    "\t\t\t\t\t\"detail\": \"low\"\n",
    "\t\t\t\t}\n",
    "\t\t\t\t}\n",
    "\t\t\t]\n",
    "\t\t\t}\n",
    "\t\t],\n",
    "\t\t\"max_tokens\": 200, \"temperature\": 0\n",
    "\t\t}\n",
    "\n",
    "\t\tresponse = requests.post(\"https://api.openai.com/v1/chat/completions\", headers=headers, json=payload)\n",
    "\n",
    "\t\tresponseList.append(response.json()['choices'][0]['message']['content'])"
   ]
  },
  {
   "cell_type": "code",
   "execution_count": null,
   "metadata": {},
   "outputs": [],
   "source": [
    "responseList"
   ]
  },
  {
   "cell_type": "code",
   "execution_count": null,
   "metadata": {},
   "outputs": [],
   "source": [
    "import pickle\n",
    "import json\n",
    "with open ('../outlist.pkl','rb') as f:\n",
    "    output_list=pickle.load(f)\n",
    "answerList=[]\n",
    "with open ('../data_test.json','r') as f:\n",
    "    test_dataset=json.load(f)\n",
    "for index,ouput in enumerate(output_list):\n",
    "    data=test_dataset[index]\n",
    "    answerList.append(data['caption_L2L3'])\n",
    "answerList[:5]"
   ]
  },
  {
   "cell_type": "code",
   "execution_count": null,
   "metadata": {},
   "outputs": [],
   "source": [
    "from sentence_transformers import SentenceTransformer, util\n",
    "\n",
    "model = SentenceTransformer(\"sentence-transformers/all-MiniLM-L6-v2\")"
   ]
  },
  {
   "cell_type": "code",
   "execution_count": null,
   "metadata": {},
   "outputs": [],
   "source": [
    "scoreList=[]\n",
    "for i in range(TEST_NUM):\n",
    "\tif i>87:\n",
    "\t\tquery_embedding = model.encode(responseList[i-1])\n",
    "\t\tpassage_embedding = model.encode(answerList[i])\n",
    "\telse:\n",
    "\t\tquery_embedding = model.encode(responseList[i])\n",
    "\t\tpassage_embedding = model.encode(answerList[i])\n",
    "\tscoreList.append(float(util.dot_score(query_embedding, passage_embedding)))\n",
    "len(scoreList)"
   ]
  },
  {
   "cell_type": "code",
   "execution_count": null,
   "metadata": {},
   "outputs": [],
   "source": [
    "import numpy as np\n",
    "np.average(scoreList[:100])"
   ]
  },
  {
   "cell_type": "code",
   "execution_count": 34,
   "metadata": {},
   "outputs": [],
   "source": [
    "with open('gpt-score.pkl', 'wb') as file:\n",
    "    pickle.dump(scoreList, file)"
   ]
  }
 ],
 "metadata": {
  "kernelspec": {
   "display_name": "talk2chart",
   "language": "python",
   "name": "python3"
  },
  "language_info": {
   "codemirror_mode": {
    "name": "ipython",
    "version": 3
   },
   "file_extension": ".py",
   "mimetype": "text/x-python",
   "name": "python",
   "nbconvert_exporter": "python",
   "pygments_lexer": "ipython3",
   "version": "3.12.3"
  }
 },
 "nbformat": 4,
 "nbformat_minor": 2
}
