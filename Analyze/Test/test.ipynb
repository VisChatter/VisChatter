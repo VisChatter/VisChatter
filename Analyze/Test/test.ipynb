{
 "cells": [
  {
   "cell_type": "code",
   "execution_count": 5,
   "metadata": {},
   "outputs": [],
   "source": [
    "from sentence_transformers import SentenceTransformer, util\n",
    "\n",
    "model = SentenceTransformer(\"sentence-transformers/all-MiniLM-L6-v2\")"
   ]
  },
  {
   "cell_type": "code",
   "execution_count": null,
   "metadata": {},
   "outputs": [],
   "source": [
    "query_embedding = model.encode('How big is London')\n",
    "passage_embedding = model.encode(['London has 9,787,426 inhabitants at the 2011 census',\n",
    "                                  'London is known for its finacial district'])\n",
    "\n",
    "print(\"Similarity:\", util.dot_score(query_embedding, passage_embedding))"
   ]
  },
  {
   "cell_type": "code",
   "execution_count": 7,
   "metadata": {},
   "outputs": [],
   "source": [
    "import json\n",
    "import pandas as pd\n",
    "import numpy as np\n",
    "from tqdm import tqdm\n",
    "import requests\n",
    "\n",
    "with open(\"../data_test.json\",'r') as f:\n",
    "\tsource_data=json.load(f)\n",
    "\n",
    "api_key = ''\n",
    "\n",
    "headers = {\n",
    "    \"Content-Type\": \"application/json\",\n",
    "    \"Authorization\": f\"Bearer {api_key}\"\n",
    "}"
   ]
  },
  {
   "cell_type": "code",
   "execution_count": null,
   "metadata": {},
   "outputs": [],
   "source": [
    "cap_attr_dict={}\n",
    "for jsondata in tqdm(source_data[:100]):\n",
    "\tcaption=jsondata['caption_L2L3']\n",
    "\tpath='../vl_spec/'+jsondata['img_id']+'.vl.json'\n",
    "\twith open (path,'r') as f:\n",
    "\t\tvega=json.load(f)\n",
    "\turl=\"https://raw.githubusercontent.com/vis-nlp/Chart-to-text/main/statista_dataset/dataset/data/\"+vega[\"data\"]['url'][5:-4]+'.csv'\n",
    "\tattr=pd.read_csv(url).iloc[:, 0].astype(str).tolist()\n",
    "\t#Classify with GPT\n",
    "\tdata = {\n",
    "    \"model\": \"gpt-3.5-turbo\",\n",
    "    \"messages\": [\n",
    "        {\"role\": \"system\", \"content\": \"You are a helpful assistant for labeling datasets. Return only the label without explanation.\"},\n",
    "        {\"role\": \"user\", \"content\": \"You need to label data facts with different tasks and retrieve key values or words. The tasks include: HIGHLIGHT_ONE (value or word), COMPARE_TWO (value1, value2 or word1, word2), ADD_THRESHOLD (value), LOCAL_TREND (value1 and value2), GLOBAL_TREND (no value, no word).\"},\n",
    "        {\"role\": \"assistant\", \"content\": \"I understand. I will just classify.\"},\n",
    "        {\"role\": \"user\", \"content\": \"The ticket price shown for 2006 is just over 60 dollars, and it rises from that point to just over 100 dollars in 2018.\"},\n",
    "        {\"role\": \"assistant\", \"content\": \"COMPARE_TWO, 2006, 2018\"},\n",
    "        {\"role\": \"user\", \"content\": \"Viewers of Minecraft on twitch has gradually increased between 2018 and 2020.\"},\n",
    "        {\"role\": \"assistant\", \"content\": \"LOCAL_TREND, 2018, 2020\"},\n",
    "        {\"role\": \"user\", \"content\": \"There are thousands of Bayern Munich fans and this number has seen a steady growth over the last twelve years.\"},\n",
    "        {\"role\": \"assistant\", \"content\": \"GLOBAL_TREND\"},\n",
    "        {\"role\": \"user\", \"content\": \"The majorly of the big cities are at 3 index points.\"},\n",
    "        {\"role\": \"assistant\", \"content\": \"ADD_THRESHOLD, 3\"},\n",
    "        {\"role\": \"user\", \"content\": \"Omsk has the largest value of 3.5 index points.\"},\n",
    "        {\"role\": \"assistant\", \"content\": \"HIGHLIGHT_ONE, Omsk\"},\n",
    "        {\"role\": \"user\", \"content\": caption}, # Using the target message here\n",
    "    ],\n",
    "    \"temperature\": 0\n",
    "}\n",
    "\tresponse = requests.post(\"https://api.openai.com/v1/chat/completions\", headers=headers, data=json.dumps(data))\n",
    "\t\n",
    "\tif response.status_code == 200:\n",
    "\t\tresponse_data = response.json()\n",
    "\t\tparsed_reponses=response_data['choices'][0]['message']['content'].split(', ')\n",
    "\t\tif len(parsed_reponses)>1:\n",
    "\t\t\ttemp_dict={}\n",
    "\t\t\tfor resp in parsed_reponses[1:]:\n",
    "\t\t\t\tquery_embedding = model.encode(resp)\n",
    "\t\t\t\tpassage_embedding = model.encode(attr)\n",
    "\t\t\t\ttemp_dict[resp]=[attr[np.argmax(util.dot_score(query_embedding, passage_embedding).tolist()[0])],attr]\n",
    "\t\t\tcap_attr_dict[caption]=temp_dict\n",
    "\telse:\n",
    "\t\tprint(f\"Error: {response.status_code}\")\n",
    "\n",
    "with open(\"temp_dict.json\",'w+') as f:\n",
    "\tjson.dump(cap_attr_dict,f,indent=2)"
   ]
  }
 ],
 "metadata": {
  "kernelspec": {
   "display_name": "base",
   "language": "python",
   "name": "python3"
  },
  "language_info": {
   "codemirror_mode": {
    "name": "ipython",
    "version": 3
   },
   "file_extension": ".py",
   "mimetype": "text/x-python",
   "name": "python",
   "nbconvert_exporter": "python",
   "pygments_lexer": "ipython3",
   "version": "3.12.3"
  }
 },
 "nbformat": 4,
 "nbformat_minor": 2
}
