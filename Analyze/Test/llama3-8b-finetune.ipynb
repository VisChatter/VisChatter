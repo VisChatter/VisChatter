{
 "cells": [
  {
   "cell_type": "code",
   "execution_count": 7,
   "metadata": {},
   "outputs": [],
   "source": [
    "import base64\n",
    "import requests\n",
    "import json\n",
    "import pickle\n",
    "import json\n",
    "TEST_NUM=101\n",
    "responseList=[]\n",
    "answerList=[]\n",
    "with open ('../outlist.pkl','rb') as f:\n",
    "\toutput_list=pickle.load(f)\n",
    "url = '' ##Self-hosted AWS server\n",
    "headers = {\n",
    "\t\t'Content-Type': 'application/json'\n",
    "\t}\n",
    "with open ('../data_test.json','r') as f:\n",
    "\ttest_dataset=json.load(f)\n",
    "for index,ouput in enumerate(output_list):\n",
    "\tif index<101:\n",
    "\t\tdata=test_dataset[index]\n",
    "\t\tanswerList.append(data['caption_L2L3'])\n",
    "\t\timg_id=data['img_id']\n",
    "\t\tcutData=data['datatable']\n",
    "\t\tspec_path='../vl_spec/'+img_id+'.vl.json'\n",
    "\t\twith open(spec_path, 'r') as f:\n",
    "\t\t\tspec = json.load(f)\n",
    "\t\tpayload = {\n",
    "\t\t\t\"inputs\": f\"Below is an instruction that describes a task, paired with an input that provides further context. Write a response that appropriately completes the request. ### Instruction: {spec} ### Input: {cutData} ### Response:\",\n",
    "\t\t\t\"parameters\": {\n",
    "\t\t\t\t\"max_tokens\": 4000,\n",
    "\t\t\t\t\"max_new_tokens\": 100,\n",
    "\t\t\t\t\"temperature\": 0.1,\n",
    "\t\t\t\t\"use_cache\": \"False\",\n",
    "\t\t\t\t\"model_max_length\": 4000\n",
    "\t\t\t}\n",
    "\t\t}\n",
    "\t\tpayload_json = json.dumps(payload)\n",
    "\t\tresponse = requests.post(url, headers=headers, data=payload_json)\n",
    "\t\tif response.status_code == 200:\n",
    "\t\t\tresponseList.append(response.json()['generated_text'])\n",
    "\t\telse:\n",
    "\t\t\tprint(f\"Request failed with status code {response.status_code}\")\n",
    "\telse:\n",
    "\t\tbreak\n"
   ]
  },
  {
   "cell_type": "code",
   "execution_count": null,
   "metadata": {},
   "outputs": [],
   "source": [
    "responseList[:10]"
   ]
  },
  {
   "cell_type": "code",
   "execution_count": null,
   "metadata": {},
   "outputs": [],
   "source": [
    "from sentence_transformers import SentenceTransformer, util\n",
    "\n",
    "model = SentenceTransformer(\"sentence-transformers/all-MiniLM-L6-v2\")"
   ]
  },
  {
   "cell_type": "code",
   "execution_count": null,
   "metadata": {},
   "outputs": [],
   "source": [
    "scoreList=[]\n",
    "for i in range(TEST_NUM):\n",
    "\t# if i>87:\n",
    "\t# \tquery_embedding = model.encode(responseList[i-1])\n",
    "\t# \tpassage_embedding = model.encode(answerList[i])\n",
    "\t# else:\n",
    "\tquery_embedding = model.encode(responseList[i])\n",
    "\tpassage_embedding = model.encode(answerList[i])\n",
    "\tscoreList.append(float(util.dot_score(query_embedding, passage_embedding)))\n",
    "len(scoreList)"
   ]
  },
  {
   "cell_type": "code",
   "execution_count": null,
   "metadata": {},
   "outputs": [],
   "source": [
    "import numpy as np\n",
    "np.average(scoreList[:100])"
   ]
  },
  {
   "cell_type": "code",
   "execution_count": 13,
   "metadata": {},
   "outputs": [],
   "source": [
    "with open('llama-score.pkl', 'wb') as file:\n",
    "    pickle.dump(scoreList, file)"
   ]
  }
 ],
 "metadata": {
  "kernelspec": {
   "display_name": "talk2chart",
   "language": "python",
   "name": "python3"
  },
  "language_info": {
   "codemirror_mode": {
    "name": "ipython",
    "version": 3
   },
   "file_extension": ".py",
   "mimetype": "text/x-python",
   "name": "python",
   "nbconvert_exporter": "python",
   "pygments_lexer": "ipython3",
   "version": "3.12.3"
  }
 },
 "nbformat": 4,
 "nbformat_minor": 2
}
